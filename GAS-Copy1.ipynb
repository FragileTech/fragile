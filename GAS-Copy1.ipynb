{
 "cells": [
  {
   "cell_type": "code",
   "execution_count": 1,
   "metadata": {},
   "outputs": [],
   "source": [
    "import torch "
   ]
  },
  {
   "cell_type": "code",
   "execution_count": 27,
   "metadata": {},
   "outputs": [],
   "source": [
    "ix = torch.randperm(swarm.walkers.observs.shape[0])\n",
    "obs = swarm.walkers.observs"
   ]
  },
  {
   "cell_type": "code",
   "execution_count": 26,
   "metadata": {},
   "outputs": [],
   "source": [
    "rands = torch.rand(swarm.walkers.observs.shape)"
   ]
  },
  {
   "cell_type": "code",
   "execution_count": 31,
   "metadata": {
    "scrolled": true
   },
   "outputs": [
    {
     "data": {
      "text/plain": [
       "tensor([[-0.1361,  0.0000, -0.2575, -0.0340,  0.6372,  0.2250,  0.9963,  0.0000,\n",
       "         -0.1019],\n",
       "        [ 0.0000,  0.1619,  0.1950,  0.0000,  0.0000,  0.0000, -1.0202,  0.0000,\n",
       "         -0.3745],\n",
       "        [ 0.4650,  0.0000,  0.0000,  0.0000,  0.0000,  0.0000,  0.0000, -0.6649,\n",
       "         -0.4278],\n",
       "        [-0.0216,  0.5845,  0.0000, -0.2343,  0.0000,  0.4583,  0.2654,  0.0000,\n",
       "          0.0000],\n",
       "        [ 0.4317,  0.0000,  0.0000,  0.0000,  0.6209,  0.0000,  0.1019,  0.0000,\n",
       "         -0.1505],\n",
       "        [ 0.0000,  0.8267,  0.0000,  0.0000,  0.0092,  0.1778,  0.3964,  0.0000,\n",
       "          0.6135],\n",
       "        [ 0.0000,  0.0000, -0.3420,  0.2470,  0.0000,  0.0000,  0.0000,  0.0000,\n",
       "         -0.0607],\n",
       "        [ 0.0000,  0.0000,  0.0460, -0.5253, -0.4339,  0.0000, -0.7801, -0.0534,\n",
       "          0.0000],\n",
       "        [ 0.0000,  0.0000,  0.7826,  1.4145, -1.2600,  1.3463,  0.0000,  1.2341,\n",
       "         -1.2261],\n",
       "        [ 0.0000,  0.0000,  0.0000, -1.4356,  0.0000,  0.0000,  0.0000,  0.0000,\n",
       "          0.8722],\n",
       "        [-1.3351,  0.0000,  0.0000,  0.0000,  0.0000,  0.0000,  0.1339,  0.6795,\n",
       "         -0.1786],\n",
       "        [ 0.0000,  0.0000,  0.0000, -0.0033,  0.2325,  0.6245,  0.0000,  0.0969,\n",
       "          0.0000],\n",
       "        [ 0.0000,  0.0000,  1.3232,  0.0000,  0.3498,  0.0000, -0.5179, -1.2891,\n",
       "         -1.0428],\n",
       "        [ 0.0000,  0.0000,  0.5145,  0.0000,  0.6922,  0.0000,  0.0000,  0.0000,\n",
       "          0.0000],\n",
       "        [ 0.0000,  0.0425,  0.0000,  0.0000,  0.0000,  0.6623,  0.0000,  0.0000,\n",
       "          0.9288]])"
      ]
     },
     "execution_count": 31,
     "metadata": {},
     "output_type": "execute_result"
    }
   ],
   "source": [
    "torch.where(rands > 0.5, obs, torch.zeros_like(obs))"
   ]
  },
  {
   "cell_type": "code",
   "execution_count": 34,
   "metadata": {},
   "outputs": [],
   "source": [
    "x = torch.rand((2, 3))"
   ]
  },
  {
   "cell_type": "code",
   "execution_count": 35,
   "metadata": {},
   "outputs": [
    {
     "ename": "TypeError",
     "evalue": "clamp(): argument 'min' (position 2) must be Number, not Tensor",
     "output_type": "error",
     "traceback": [
      "\u001b[0;31m---------------------------------------------------------------------------\u001b[0m",
      "\u001b[0;31mTypeError\u001b[0m                                 Traceback (most recent call last)",
      "\u001b[0;32m<ipython-input-35-cb05f60dcfdc>\u001b[0m in \u001b[0;36m<module>\u001b[0;34m\u001b[0m\n\u001b[0;32m----> 1\u001b[0;31m \u001b[0mtorch\u001b[0m\u001b[0;34m.\u001b[0m\u001b[0mclamp\u001b[0m\u001b[0;34m(\u001b[0m\u001b[0mx\u001b[0m\u001b[0;34m,\u001b[0m \u001b[0mtorch\u001b[0m\u001b[0;34m.\u001b[0m\u001b[0mones_like\u001b[0m\u001b[0;34m(\u001b[0m\u001b[0mx\u001b[0m\u001b[0;34m)\u001b[0m \u001b[0;34m*\u001b[0m\u001b[0;36m0.5\u001b[0m\u001b[0;34m,\u001b[0m \u001b[0mtorch\u001b[0m\u001b[0;34m.\u001b[0m\u001b[0mones_like\u001b[0m\u001b[0;34m(\u001b[0m\u001b[0mx\u001b[0m\u001b[0;34m)\u001b[0m\u001b[0;34m)\u001b[0m\u001b[0;34m\u001b[0m\u001b[0;34m\u001b[0m\u001b[0m\n\u001b[0m",
      "\u001b[0;31mTypeError\u001b[0m: clamp(): argument 'min' (position 2) must be Number, not Tensor"
     ]
    }
   ],
   "source": [
    "torch.clamp(x, torch.ones_like(x) *0.5, torch.ones_like(x))"
   ]
  },
  {
   "cell_type": "code",
   "execution_count": 33,
   "metadata": {},
   "outputs": [
    {
     "data": {
      "text/plain": [
       "torch.Size([10, 10])"
      ]
     },
     "execution_count": 33,
     "metadata": {},
     "output_type": "execute_result"
    }
   ],
   "source": [
    "torch.rand((10,10)).shape"
   ]
  },
  {
   "cell_type": "code",
   "execution_count": null,
   "metadata": {},
   "outputs": [],
   "source": [
    "torch.where()"
   ]
  },
  {
   "cell_type": "code",
   "execution_count": 1,
   "metadata": {},
   "outputs": [],
   "source": [
    "import numpy as np\n",
    "import pytest\n",
    "import torch\n",
    "\n",
    "from fragile.optimize.models import NormalContinuous\n",
    "from fragile.optimize.mapper import FunctionMapper, LocalMapper\n",
    "from fragile.optimize.encoder import Vector\n",
    "from fragile.optimize.benchmarks import EggHolder, StyblinskiTang, LennardJones\n",
    "from fragile.optimize.models import EncoderSampler, BestDtEncoderSamper, ESSampler, NormalContinuous\n",
    "same = lambda x: torch.ones(len(x)).reshape(-1,1) * 10 #*  - torch.sum(x ** 2, 1)\n",
    "%matplotlib inline"
   ]
  },
  {
   "cell_type": "code",
   "execution_count": 2,
   "metadata": {},
   "outputs": [],
   "source": [
    "from fragile.core.utils import to_numpy, to_tensor\n",
    "from fragile.optimize.local_optimizer import Minimizer, MinimizerWrapper\n",
    "   "
   ]
  },
  {
   "cell_type": "code",
   "execution_count": 9,
   "metadata": {},
   "outputs": [],
   "source": [
    "n_atoms = 38\n",
    "n_vectors = n_atoms * 3\n",
    "model = lambda x: ESSampler(recombination=0.5, mutation=0.5, random_step_prob=0.03,\n",
    "    high=np.array([1.5] * n_vectors), low=np.array([-1.5] * n_vectors),\n",
    "    # high=np.array([512] * n_vectors), low=np.array([-512] * n_vectors),\n",
    "    env=x, shape=None,\n",
    "    loc=0.,\n",
    "    scale=0.01, \n",
    "    mean_dt=1,\n",
    "    std_dt=0,\n",
    "    min_dt=1, max_dt=1,\n",
    ")"
   ]
  },
  {
   "cell_type": "code",
   "execution_count": 10,
   "metadata": {},
   "outputs": [],
   "source": [
    "lennard = lambda: LennardJones(n_atoms=n_atoms)\n",
    "minim = lambda:MinimizerWrapper(LennardJones(n_atoms=n_atoms), options=dict(maxiter=10))"
   ]
  },
  {
   "cell_type": "code",
   "execution_count": 11,
   "metadata": {},
   "outputs": [],
   "source": [
    "reward_scale=2\n",
    "pest_scale=0.\n",
    "distance_scale=1"
   ]
  },
  {
   "cell_type": "code",
   "execution_count": 14,
   "metadata": {},
   "outputs": [
    {
     "name": "stdout",
     "output_type": "stream",
     "text": [
      "(114,)\n"
     ]
    }
   ],
   "source": [
    "\n",
    "plot_every = 50\n",
    "swarm = LocalMapper(\n",
    "        n_vectors=35,\n",
    "        env = lennard,#StyblinskiTang((n_vectors,)),\n",
    "        model=model,\n",
    "        n_walkers=50,\n",
    "        timeout=50000000,\n",
    "        timeout_threshold=20000000,\n",
    "        reward_scale=reward_scale,\n",
    "        _accumulate_rewards=False,\n",
    "        plot_steps=True,\n",
    "        pest_scale=pest_scale,\n",
    "        distance_scale=distance_scale,\n",
    "    plot_every=plot_every, \n",
    "    use_tree=False,\n",
    "    #options=dict(maxiter=100),\n",
    "    )"
   ]
  },
  {
   "cell_type": "code",
   "execution_count": 15,
   "metadata": {
    "scrolled": true
   },
   "outputs": [
    {
     "data": {
      "image/png": "[encoded data removed]",
      "text/plain": [
       "<Figure size 720x720 with 2 Axes>"
      ]
     },
     "metadata": {
      "needs_background": "light"
     },
     "output_type": "display_data"
    },
    {
     "data": {
      "image/png": "[encoded data removed]",
      "text/plain": [
       "<Figure size 432x288 with 1 Axes>"
      ]
     },
     "metadata": {
      "needs_background": "light"
     },
     "output_type": "display_data"
    },
    {
     "name": "stdout",
     "output_type": "stream",
     "text": [
      "Best reward found: 169.56798 at position: tensor([-0.5836, -0.7189,  1.5000,  0.4753, -0.4890,  1.1706,  1.5000,  0.5617,\n",
      "         0.5347, -0.6312, -1.5000,  0.7277,  1.2177, -0.4928,  0.3141, -1.3107,\n",
      "        -0.8294,  0.1386,  0.1318,  0.5462, -0.5988,  0.7996,  1.2273, -0.0726,\n",
      "         1.3591, -0.7514, -0.8091, -0.3269, -0.4751,  0.4578, -0.1382, -0.8374,\n",
      "        -1.2913, -1.2297, -0.0260,  0.9119,  0.4673,  0.2872,  0.4047, -0.6389,\n",
      "        -0.2161, -0.5441,  0.3821, -0.4846, -0.3741,  0.2032, -1.5000,  1.4589,\n",
      "        -0.5583,  0.5616,  0.2401,  0.4159, -1.2740,  0.3852, -0.2578,  0.2994,\n",
      "         1.2713,  1.1909,  0.2729, -0.4670, -1.0046,  1.0720,  1.1035, -1.3405,\n",
      "         1.3239,  0.0897, -0.3803,  0.2309, -1.5000,  1.5000, -0.2140,  1.3248,\n",
      "        -0.2648,  1.5000, -0.2199, -0.9328,  0.8332, -0.7945,  1.2471, -1.2776,\n",
      "         1.1037,  0.0782,  1.2382,  0.8055,  1.1363,  1.5000,  0.9450, -1.2443,\n",
      "        -0.9965, -0.9930, -0.1261,  1.3297, -1.3331,  0.5686, -1.5000, -0.7189,\n",
      "         0.9175,  1.0339, -1.1909,  1.4242, -1.5000,  0.0078,  0.7751,  0.5818,\n",
      "         1.4127,  0.6595, -0.0668, -1.3614, -1.5000,  0.2245, -0.1108, -0.4198,\n",
      "        -1.2752, -0.3200], dtype=torch.float64), and 49 cloned_vectors \n",
      " Encoder: \n",
      " Encoder with 0 vectors, score -1.000, -1 different hashes and 0 available spaces\n",
      "MapperWalkers iteration 30001\n",
      "Total Reward: Mean: 169.568, Std: 0.000, Max: 169.568 Min: 169.568\n",
      "Virtual Rewards: Mean: 1.000, Std: 0.000, Max: 1.000 Min: 1.000\n",
      "Distances: Mean: 1.000, Std: 0.000, Max: 1.000 Min: 1.000\n",
      "Dead walkers: 96.00% Cloned: 98.00%\n",
      "Env: \n",
      "rewards shape torch.Size([50, 1]) Mean: 169.568, Std: 0.000, Max: 169.568 Min: 169.568\n",
      "ends shape torch.Size([50, 1]) Mean: 0.960, Std: 0.196, Max: 1.000 Min: 0.000\n",
      "\n",
      "Model \n",
      "actions shape torch.Size([50, 114]) Mean: 0.000, Std: 0.000, Max: 0.000 Min: 0.000\n",
      "init_actions shape torch.Size([50, 114]) Mean: 0.027, Std: 0.896, Max: 1.492 Min: -1.457\n",
      "dt shape torch.Size([50, 1]) Mean: 1.000, Std: 0.000, Max: 1.000 Min: 1.000\n",
      "\n",
      "\n"
     ]
    }
   ],
   "source": [
    "swarm.walkers.reset()\n",
    "swarm.reset()\n",
    "swarm.walkers.max_iters = 30000\n",
    "_ = swarm.run_swarm(print_every=plot_every)"
   ]
  },
  {
   "cell_type": "code",
   "execution_count": 25,
   "metadata": {
    "scrolled": true
   },
   "outputs": [
    {
     "ename": "TypeError",
     "evalue": "view() missing 1 required positional arguments: \"size\"",
     "output_type": "error",
     "traceback": [
      "\u001b[0;31m---------------------------------------------------------------------------\u001b[0m",
      "\u001b[0;31mTypeError\u001b[0m                                 Traceback (most recent call last)",
      "\u001b[0;32m<ipython-input-25-93b6b1893800>\u001b[0m in \u001b[0;36m<module>\u001b[0;34m\u001b[0m\n\u001b[0;32m----> 1\u001b[0;31m \u001b[0mswarm\u001b[0m\u001b[0;34m.\u001b[0m\u001b[0mwalkers\u001b[0m\u001b[0;34m.\u001b[0m\u001b[0mactions\u001b[0m\u001b[0;34m.\u001b[0m\u001b[0mview\u001b[0m\u001b[0;34m(\u001b[0m\u001b[0;34m)\u001b[0m\u001b[0;34m\u001b[0m\u001b[0;34m\u001b[0m\u001b[0m\n\u001b[0m",
      "\u001b[0;31mTypeError\u001b[0m: view() missing 1 required positional arguments: \"size\""
     ]
    }
   ],
   "source": [
    "swarm.walkers.actions.view()"
   ]
  },
  {
   "cell_type": "code",
   "execution_count": 12,
   "metadata": {},
   "outputs": [
    {
     "data": {
      "text/plain": [
       "tensor([[-664.5461],\n",
       "        [-664.5461],\n",
       "        [-664.5461],\n",
       "        [-664.5461],\n",
       "        [-664.5461],\n",
       "        [-664.5461],\n",
       "        [-664.5461],\n",
       "        [-664.5461],\n",
       "        [-664.5461],\n",
       "        [-664.5461],\n",
       "        [-664.5461],\n",
       "        [-664.5461],\n",
       "        [-664.5461],\n",
       "        [-664.5461],\n",
       "        [-664.5461],\n",
       "        [-664.5461],\n",
       "        [-664.5461],\n",
       "        [-664.5461],\n",
       "        [-664.5461],\n",
       "        [-664.5461],\n",
       "        [-664.5461],\n",
       "        [-664.5461],\n",
       "        [-664.5461],\n",
       "        [-664.5461],\n",
       "        [-664.5461],\n",
       "        [-664.5461],\n",
       "        [-664.5461],\n",
       "        [-664.5461],\n",
       "        [-664.5461],\n",
       "        [-664.5461],\n",
       "        [-664.5461],\n",
       "        [-664.5461],\n",
       "        [-664.5461],\n",
       "        [-664.5461],\n",
       "        [-664.5461],\n",
       "        [-664.5461],\n",
       "        [-664.5461],\n",
       "        [-664.5461],\n",
       "        [-664.5461],\n",
       "        [-664.5461],\n",
       "        [-664.5461],\n",
       "        [-664.5461],\n",
       "        [-664.5461],\n",
       "        [-664.5461],\n",
       "        [-664.5461],\n",
       "        [-664.5461],\n",
       "        [-664.5461],\n",
       "        [-664.5461],\n",
       "        [-664.5461],\n",
       "        [-664.5461]])"
      ]
     },
     "execution_count": 12,
     "metadata": {},
     "output_type": "execute_result"
    }
   ],
   "source": [
    "swarm.walkers.cum_rewards"
   ]
  },
  {
   "cell_type": "code",
   "execution_count": 20,
   "metadata": {},
   "outputs": [],
   "source": [
    "from scipy.optimize import minimize\n",
    "def minimize_obs(x, env):\n",
    "    def _optimize(x):\n",
    "        x = to_tensor(x).view(1,-1)\n",
    "        y = env.function(x)\n",
    "        return -float(y)\n",
    "    num_x = to_numpy(x)\n",
    "    return minimize(_optimize, num_x)#, *self.args, **self.kwargs)"
   ]
  },
  {
   "cell_type": "code",
   "execution_count": 12,
   "metadata": {},
   "outputs": [],
   "source": [
    "%matplotlib inline\n",
    "import matplotlib.pyplot as plt"
   ]
  },
  {
   "cell_type": "code",
   "execution_count": 15,
   "metadata": {},
   "outputs": [],
   "source": [
    "x = swarm.walkers.observs[0].view(-1,3)"
   ]
  },
  {
   "cell_type": "code",
   "execution_count": 19,
   "metadata": {},
   "outputs": [
    {
     "data": {
      "text/plain": [
       "<matplotlib.collections.PathCollection at 0x7fd0695fd160>"
      ]
     },
     "execution_count": 19,
     "metadata": {},
     "output_type": "execute_result"
    },
    {
     "data": {
      "image/png": "[encoded data removed]",
      "text/plain": [
       "<Figure size 432x288 with 1 Axes>"
      ]
     },
     "metadata": {
      "needs_background": "light"
     },
     "output_type": "display_data"
    }
   ],
   "source": [
    "plt.scatter(x[:,0], x[:, 1], c=x[:,2], cmap=plt.cm.viridis)\n",
    "plt.scatter(x[:,0], x[:, 2], c=x[:,1], cmap=plt.cm.viridis)"
   ]
  },
  {
   "cell_type": "code",
   "execution_count": 26,
   "metadata": {},
   "outputs": [
    {
     "data": {
      "text/plain": [
       "<mpl_toolkits.mplot3d.art3d.Path3DCollection at 0x7fd06a62f6d8>"
      ]
     },
     "execution_count": 26,
     "metadata": {},
     "output_type": "execute_result"
    },
    {
     "data": {
      "image/png": "[encoded data removed]",
      "text/plain": [
       "<Figure size 432x288 with 1 Axes>"
      ]
     },
     "metadata": {
      "needs_background": "light"
     },
     "output_type": "display_data"
    }
   ],
   "source": [
    "from mpl_toolkits.mplot3d import Axes3D\n",
    "fig = plt.figure()\n",
    "ax = Axes3D(fig)\n",
    "ax.scatter(x[:,0], x[:, 1], x[:, 2], c=x[:,1], cmap=plt.cm.viridis, s=150, alpha)"
   ]
  },
  {
   "cell_type": "code",
   "execution_count": 32,
   "metadata": {
    "scrolled": true
   },
   "outputs": [
    {
     "data": {
      "text/plain": [
       "(<Figure size 432x288 with 221 Axes>,\n",
       " array([<matplotlib.axes._subplots.AxesSubplot object at 0x7fd069d2b898>,\n",
       "        <matplotlib.axes._subplots.AxesSubplot object at 0x7fd06aa0c748>,\n",
       "        <matplotlib.axes._subplots.AxesSubplot object at 0x7fd06a66e978>,\n",
       "        <matplotlib.axes._subplots.AxesSubplot object at 0x7fd06958fba8>,\n",
       "        <matplotlib.axes._subplots.AxesSubplot object at 0x7fd06a348dd8>,\n",
       "        <matplotlib.axes._subplots.AxesSubplot object at 0x7fd0699b5048>,\n",
       "        <matplotlib.axes._subplots.AxesSubplot object at 0x7fd0693676a0>,\n",
       "        <matplotlib.axes._subplots.AxesSubplot object at 0x7fd068ff1898>,\n",
       "        <matplotlib.axes._subplots.AxesSubplot object at 0x7fd06a9b4b00>,\n",
       "        <matplotlib.axes._subplots.AxesSubplot object at 0x7fd0691c8d30>,\n",
       "        <matplotlib.axes._subplots.AxesSubplot object at 0x7fd069017f60>,\n",
       "        <matplotlib.axes._subplots.AxesSubplot object at 0x7fd06a6cc1d0>,\n",
       "        <matplotlib.axes._subplots.AxesSubplot object at 0x7fd06a37e400>,\n",
       "        <matplotlib.axes._subplots.AxesSubplot object at 0x7fd06947b630>,\n",
       "        <matplotlib.axes._subplots.AxesSubplot object at 0x7fd069300860>,\n",
       "        <matplotlib.axes._subplots.AxesSubplot object at 0x7fd069207a90>,\n",
       "        <matplotlib.axes._subplots.AxesSubplot object at 0x7fd0690cccc0>,\n",
       "        <matplotlib.axes._subplots.AxesSubplot object at 0x7fd0693d1fd0>,\n",
       "        <matplotlib.axes._subplots.AxesSubplot object at 0x7fd0692a2588>,\n",
       "        <matplotlib.axes._subplots.AxesSubplot object at 0x7fd069261b00>,\n",
       "        <matplotlib.axes._subplots.AxesSubplot object at 0x7fd06917b0b8>,\n",
       "        <matplotlib.axes._subplots.AxesSubplot object at 0x7fd069136630>,\n",
       "        <matplotlib.axes._subplots.AxesSubplot object at 0x7fd069d06ba8>,\n",
       "        <matplotlib.axes._subplots.AxesSubplot object at 0x7fd0693f2160>,\n",
       "        <matplotlib.axes._subplots.AxesSubplot object at 0x7fd0692496d8>,\n",
       "        <matplotlib.axes._subplots.AxesSubplot object at 0x7fd068f68c50>,\n",
       "        <matplotlib.axes._subplots.AxesSubplot object at 0x7fd068f17208>,\n",
       "        <matplotlib.axes._subplots.AxesSubplot object at 0x7fd068f3a780>,\n",
       "        <matplotlib.axes._subplots.AxesSubplot object at 0x7fd068ee1cf8>,\n",
       "        <matplotlib.axes._subplots.AxesSubplot object at 0x7fd068f0e2b0>,\n",
       "        <matplotlib.axes._subplots.AxesSubplot object at 0x7fd068eb3828>,\n",
       "        <matplotlib.axes._subplots.AxesSubplot object at 0x7fd068e58da0>,\n",
       "        <matplotlib.axes._subplots.AxesSubplot object at 0x7fd068e85358>,\n",
       "        <matplotlib.axes._subplots.AxesSubplot object at 0x7fd068e278d0>,\n",
       "        <matplotlib.axes._subplots.AxesSubplot object at 0x7fd068e4de48>,\n",
       "        <matplotlib.axes._subplots.AxesSubplot object at 0x7fd068dfa400>,\n",
       "        <matplotlib.axes._subplots.AxesSubplot object at 0x7fd068da1978>,\n",
       "        <matplotlib.axes._subplots.AxesSubplot object at 0x7fd068dc5ef0>,\n",
       "        <matplotlib.axes._subplots.AxesSubplot object at 0x7fd068d754a8>,\n",
       "        <matplotlib.axes._subplots.AxesSubplot object at 0x7fd068d15a20>,\n",
       "        <matplotlib.axes._subplots.AxesSubplot object at 0x7fd068d3bf98>,\n",
       "        <matplotlib.axes._subplots.AxesSubplot object at 0x7fd068ce8550>,\n",
       "        <matplotlib.axes._subplots.AxesSubplot object at 0x7fd068d0dac8>,\n",
       "        <matplotlib.axes._subplots.AxesSubplot object at 0x7fd068cbd080>,\n",
       "        <matplotlib.axes._subplots.AxesSubplot object at 0x7fd068c605f8>,\n",
       "        <matplotlib.axes._subplots.AxesSubplot object at 0x7fd068c82b70>,\n",
       "        <matplotlib.axes._subplots.AxesSubplot object at 0x7fd068c33128>,\n",
       "        <matplotlib.axes._subplots.AxesSubplot object at 0x7fd068bd66a0>,\n",
       "        <matplotlib.axes._subplots.AxesSubplot object at 0x7fd068bfcc18>,\n",
       "        <matplotlib.axes._subplots.AxesSubplot object at 0x7fd068baa1d0>,\n",
       "        <matplotlib.axes._subplots.AxesSubplot object at 0x7fd068bcf748>,\n",
       "        <matplotlib.axes._subplots.AxesSubplot object at 0x7fd068b71cc0>,\n",
       "        <matplotlib.axes._subplots.AxesSubplot object at 0x7fd068b21278>,\n",
       "        <matplotlib.axes._subplots.AxesSubplot object at 0x7fd068b427f0>,\n",
       "        <matplotlib.axes._subplots.AxesSubplot object at 0x7fd068ae9d68>,\n",
       "        <matplotlib.axes._subplots.AxesSubplot object at 0x7fd068a97320>,\n",
       "        <matplotlib.axes._subplots.AxesSubplot object at 0x7fd068abd898>,\n",
       "        <matplotlib.axes._subplots.AxesSubplot object at 0x7fd068a62e10>,\n",
       "        <matplotlib.axes._subplots.AxesSubplot object at 0x7fd068a8e3c8>,\n",
       "        <matplotlib.axes._subplots.AxesSubplot object at 0x7fd068a30940>,\n",
       "        <matplotlib.axes._subplots.AxesSubplot object at 0x7fd0689d8eb8>,\n",
       "        <matplotlib.axes._subplots.AxesSubplot object at 0x7fd068a03470>,\n",
       "        <matplotlib.axes._subplots.AxesSubplot object at 0x7fd0689aa9e8>,\n",
       "        <matplotlib.axes._subplots.AxesSubplot object at 0x7fd0689cef60>,\n",
       "        <matplotlib.axes._subplots.AxesSubplot object at 0x7fd06897c518>,\n",
       "        <matplotlib.axes._subplots.AxesSubplot object at 0x7fd068920a90>,\n",
       "        <matplotlib.axes._subplots.AxesSubplot object at 0x7fd06894d048>,\n",
       "        <matplotlib.axes._subplots.AxesSubplot object at 0x7fd0688f25c0>,\n",
       "        <matplotlib.axes._subplots.AxesSubplot object at 0x7fd068895b38>,\n",
       "        <matplotlib.axes._subplots.AxesSubplot object at 0x7fd0688c60f0>,\n",
       "        <matplotlib.axes._subplots.AxesSubplot object at 0x7fd068869668>,\n",
       "        <matplotlib.axes._subplots.AxesSubplot object at 0x7fd06888fbe0>,\n",
       "        <matplotlib.axes._subplots.AxesSubplot object at 0x7fd06883c198>,\n",
       "        <matplotlib.axes._subplots.AxesSubplot object at 0x7fd0687e1710>,\n",
       "        <matplotlib.axes._subplots.AxesSubplot object at 0x7fd068805c88>,\n",
       "        <matplotlib.axes._subplots.AxesSubplot object at 0x7fd0687b5240>,\n",
       "        <matplotlib.axes._subplots.AxesSubplot object at 0x7fd06875d7b8>,\n",
       "        <matplotlib.axes._subplots.AxesSubplot object at 0x7fd068784d30>,\n",
       "        <matplotlib.axes._subplots.AxesSubplot object at 0x7fd0687362e8>,\n",
       "        <matplotlib.axes._subplots.AxesSubplot object at 0x7fd0686de860>,\n",
       "        <matplotlib.axes._subplots.AxesSubplot object at 0x7fd068704dd8>,\n",
       "        <matplotlib.axes._subplots.AxesSubplot object at 0x7fd0686b6390>,\n",
       "        <matplotlib.axes._subplots.AxesSubplot object at 0x7fd06865e908>,\n",
       "        <matplotlib.axes._subplots.AxesSubplot object at 0x7fd068687e80>,\n",
       "        <matplotlib.axes._subplots.AxesSubplot object at 0x7fd068636438>,\n",
       "        <matplotlib.axes._subplots.AxesSubplot object at 0x7fd0685e09b0>,\n",
       "        <matplotlib.axes._subplots.AxesSubplot object at 0x7fd068608f28>,\n",
       "        <matplotlib.axes._subplots.AxesSubplot object at 0x7fd0685b84e0>,\n",
       "        <matplotlib.axes._subplots.AxesSubplot object at 0x7fd068560a58>,\n",
       "        <matplotlib.axes._subplots.AxesSubplot object at 0x7fd068589fd0>,\n",
       "        <matplotlib.axes._subplots.AxesSubplot object at 0x7fd068536588>,\n",
       "        <matplotlib.axes._subplots.AxesSubplot object at 0x7fd0684e0b00>,\n",
       "        <matplotlib.axes._subplots.AxesSubplot object at 0x7fd0685130b8>,\n",
       "        <matplotlib.axes._subplots.AxesSubplot object at 0x7fd0684bc630>,\n",
       "        <matplotlib.axes._subplots.AxesSubplot object at 0x7fd068462ba8>,\n",
       "        <matplotlib.axes._subplots.AxesSubplot object at 0x7fd068494160>,\n",
       "        <matplotlib.axes._subplots.AxesSubplot object at 0x7fd06843c6d8>,\n",
       "        <matplotlib.axes._subplots.AxesSubplot object at 0x7fd0683e3c50>,\n",
       "        <matplotlib.axes._subplots.AxesSubplot object at 0x7fd068414208>,\n",
       "        <matplotlib.axes._subplots.AxesSubplot object at 0x7fd0683bb780>,\n",
       "        <matplotlib.axes._subplots.AxesSubplot object at 0x7fd068364cf8>,\n",
       "        <matplotlib.axes._subplots.AxesSubplot object at 0x7fd0683182b0>,\n",
       "        <matplotlib.axes._subplots.AxesSubplot object at 0x7fd06833d828>,\n",
       "        <matplotlib.axes._subplots.AxesSubplot object at 0x7fd0682e5da0>,\n",
       "        <matplotlib.axes._subplots.AxesSubplot object at 0x7fd068296358>,\n",
       "        <matplotlib.axes._subplots.AxesSubplot object at 0x7fd0682bd8d0>,\n",
       "        <matplotlib.axes._subplots.AxesSubplot object at 0x7fd068263e48>,\n",
       "        <matplotlib.axes._subplots.AxesSubplot object at 0x7fd068218400>,\n",
       "        <matplotlib.axes._subplots.AxesSubplot object at 0x7fd06823d978>,\n",
       "        <matplotlib.axes._subplots.AxesSubplot object at 0x7fd0681e8ef0>,\n",
       "        <matplotlib.axes._subplots.AxesSubplot object at 0x7fd0681984a8>,\n",
       "        <matplotlib.axes._subplots.AxesSubplot object at 0x7fd0681bfa20>,\n",
       "        <matplotlib.axes._subplots.AxesSubplot object at 0x7fd068167f98>,\n",
       "        <matplotlib.axes._subplots.AxesSubplot object at 0x7fd068117550>,\n",
       "        <matplotlib.axes._subplots.AxesSubplot object at 0x7fd06813fac8>,\n",
       "        <matplotlib.axes._subplots.AxesSubplot object at 0x7fd0680f3080>,\n",
       "        <matplotlib.axes._subplots.AxesSubplot object at 0x7fd0680975f8>,\n",
       "        <matplotlib.axes._subplots.AxesSubplot object at 0x7fd0680c2b70>,\n",
       "        <matplotlib.axes._subplots.AxesSubplot object at 0x7fd068073128>,\n",
       "        <matplotlib.axes._subplots.AxesSubplot object at 0x7fd06801a6a0>,\n",
       "        <matplotlib.axes._subplots.AxesSubplot object at 0x7fd068043c18>,\n",
       "        <matplotlib.axes._subplots.AxesSubplot object at 0x7fd067ff31d0>,\n",
       "        <matplotlib.axes._subplots.AxesSubplot object at 0x7fd067f9b748>,\n",
       "        <matplotlib.axes._subplots.AxesSubplot object at 0x7fd067fc5cc0>,\n",
       "        <matplotlib.axes._subplots.AxesSubplot object at 0x7fd067f74278>,\n",
       "        <matplotlib.axes._subplots.AxesSubplot object at 0x7fd067f1d7f0>,\n",
       "        <matplotlib.axes._subplots.AxesSubplot object at 0x7fd067f45d68>,\n",
       "        <matplotlib.axes._subplots.AxesSubplot object at 0x7fd067ef6320>,\n",
       "        <matplotlib.axes._subplots.AxesSubplot object at 0x7fd067e9d898>,\n",
       "        <matplotlib.axes._subplots.AxesSubplot object at 0x7fd067ec5e10>,\n",
       "        <matplotlib.axes._subplots.AxesSubplot object at 0x7fd067e763c8>,\n",
       "        <matplotlib.axes._subplots.AxesSubplot object at 0x7fd067e1d940>,\n",
       "        <matplotlib.axes._subplots.AxesSubplot object at 0x7fd067e44eb8>,\n",
       "        <matplotlib.axes._subplots.AxesSubplot object at 0x7fd067df7470>,\n",
       "        <matplotlib.axes._subplots.AxesSubplot object at 0x7fd067d9e9e8>,\n",
       "        <matplotlib.axes._subplots.AxesSubplot object at 0x7fd067dc6f60>,\n",
       "        <matplotlib.axes._subplots.AxesSubplot object at 0x7fd067d79518>,\n",
       "        <matplotlib.axes._subplots.AxesSubplot object at 0x7fd067d20a90>,\n",
       "        <matplotlib.axes._subplots.AxesSubplot object at 0x7fd067d53048>,\n",
       "        <matplotlib.axes._subplots.AxesSubplot object at 0x7fd067cfa5c0>,\n",
       "        <matplotlib.axes._subplots.AxesSubplot object at 0x7fd067ca0b38>,\n",
       "        <matplotlib.axes._subplots.AxesSubplot object at 0x7fd067cd40f0>,\n",
       "        <matplotlib.axes._subplots.AxesSubplot object at 0x7fd067c7a668>,\n",
       "        <matplotlib.axes._subplots.AxesSubplot object at 0x7fd067c23be0>,\n",
       "        <matplotlib.axes._subplots.AxesSubplot object at 0x7fd067c53198>,\n",
       "        <matplotlib.axes._subplots.AxesSubplot object at 0x7fd067bfc710>,\n",
       "        <matplotlib.axes._subplots.AxesSubplot object at 0x7fd067ba3c88>,\n",
       "        <matplotlib.axes._subplots.AxesSubplot object at 0x7fd067b56240>,\n",
       "        <matplotlib.axes._subplots.AxesSubplot object at 0x7fd067b7c7b8>,\n",
       "        <matplotlib.axes._subplots.AxesSubplot object at 0x7fd067b26d30>,\n",
       "        <matplotlib.axes._subplots.AxesSubplot object at 0x7fd067ad52e8>,\n",
       "        <matplotlib.axes._subplots.AxesSubplot object at 0x7fd067afd860>,\n",
       "        <matplotlib.axes._subplots.AxesSubplot object at 0x7fd067aa6dd8>,\n",
       "        <matplotlib.axes._subplots.AxesSubplot object at 0x7fd067a56390>,\n",
       "        <matplotlib.axes._subplots.AxesSubplot object at 0x7fd067a7e908>,\n",
       "        <matplotlib.axes._subplots.AxesSubplot object at 0x7fd067a27e80>,\n",
       "        <matplotlib.axes._subplots.AxesSubplot object at 0x7fd0679d8438>,\n",
       "        <matplotlib.axes._subplots.AxesSubplot object at 0x7fd0679fe9b0>,\n",
       "        <matplotlib.axes._subplots.AxesSubplot object at 0x7fd0679a7f28>,\n",
       "        <matplotlib.axes._subplots.AxesSubplot object at 0x7fd0679584e0>,\n",
       "        <matplotlib.axes._subplots.AxesSubplot object at 0x7fd06797fa58>,\n",
       "        <matplotlib.axes._subplots.AxesSubplot object at 0x7fd067929fd0>,\n",
       "        <matplotlib.axes._subplots.AxesSubplot object at 0x7fd0678d9588>,\n",
       "        <matplotlib.axes._subplots.AxesSubplot object at 0x7fd067901b00>,\n",
       "        <matplotlib.axes._subplots.AxesSubplot object at 0x7fd0678b50b8>,\n",
       "        <matplotlib.axes._subplots.AxesSubplot object at 0x7fd06785c630>,\n",
       "        <matplotlib.axes._subplots.AxesSubplot object at 0x7fd067882ba8>,\n",
       "        <matplotlib.axes._subplots.AxesSubplot object at 0x7fd067835160>,\n",
       "        <matplotlib.axes._subplots.AxesSubplot object at 0x7fd0677da6d8>,\n",
       "        <matplotlib.axes._subplots.AxesSubplot object at 0x7fd067802c50>,\n",
       "        <matplotlib.axes._subplots.AxesSubplot object at 0x7fd0677b3208>,\n",
       "        <matplotlib.axes._subplots.AxesSubplot object at 0x7fd06775a780>,\n",
       "        <matplotlib.axes._subplots.AxesSubplot object at 0x7fd067785cf8>,\n",
       "        <matplotlib.axes._subplots.AxesSubplot object at 0x7fd0677352b0>,\n",
       "        <matplotlib.axes._subplots.AxesSubplot object at 0x7fd0676dd828>,\n",
       "        <matplotlib.axes._subplots.AxesSubplot object at 0x7fd067706da0>,\n",
       "        <matplotlib.axes._subplots.AxesSubplot object at 0x7fd0676b5358>,\n",
       "        <matplotlib.axes._subplots.AxesSubplot object at 0x7fd06765e8d0>,\n",
       "        <matplotlib.axes._subplots.AxesSubplot object at 0x7fd067685e48>,\n",
       "        <matplotlib.axes._subplots.AxesSubplot object at 0x7fd067636400>,\n",
       "        <matplotlib.axes._subplots.AxesSubplot object at 0x7fd0675df978>,\n",
       "        <matplotlib.axes._subplots.AxesSubplot object at 0x7fd067608ef0>,\n",
       "        <matplotlib.axes._subplots.AxesSubplot object at 0x7fd0675b74a8>,\n",
       "        <matplotlib.axes._subplots.AxesSubplot object at 0x7fd067560a20>,\n",
       "        <matplotlib.axes._subplots.AxesSubplot object at 0x7fd067586f98>,\n",
       "        <matplotlib.axes._subplots.AxesSubplot object at 0x7fd067539550>,\n",
       "        <matplotlib.axes._subplots.AxesSubplot object at 0x7fd0674e0ac8>,\n",
       "        <matplotlib.axes._subplots.AxesSubplot object at 0x7fd067512080>,\n",
       "        <matplotlib.axes._subplots.AxesSubplot object at 0x7fd0674ba5f8>,\n",
       "        <matplotlib.axes._subplots.AxesSubplot object at 0x7fd067461b70>,\n",
       "        <matplotlib.axes._subplots.AxesSubplot object at 0x7fd067494128>,\n",
       "        <matplotlib.axes._subplots.AxesSubplot object at 0x7fd06743c6a0>,\n",
       "        <matplotlib.axes._subplots.AxesSubplot object at 0x7fd0673e1c18>,\n",
       "        <matplotlib.axes._subplots.AxesSubplot object at 0x7fd0673951d0>,\n",
       "        <matplotlib.axes._subplots.AxesSubplot object at 0x7fd0673bb748>,\n",
       "        <matplotlib.axes._subplots.AxesSubplot object at 0x7fd067364cc0>,\n",
       "        <matplotlib.axes._subplots.AxesSubplot object at 0x7fd067315278>,\n",
       "        <matplotlib.axes._subplots.AxesSubplot object at 0x7fd06733c7f0>,\n",
       "        <matplotlib.axes._subplots.AxesSubplot object at 0x7fd0672e2d68>,\n",
       "        <matplotlib.axes._subplots.AxesSubplot object at 0x7fd067296320>,\n",
       "        <matplotlib.axes._subplots.AxesSubplot object at 0x7fd0672bb898>,\n",
       "        <matplotlib.axes._subplots.AxesSubplot object at 0x7fd067266e10>,\n",
       "        <matplotlib.axes._subplots.AxesSubplot object at 0x7fd0672173c8>,\n",
       "        <matplotlib.axes._subplots.AxesSubplot object at 0x7fd06723d940>,\n",
       "        <matplotlib.axes._subplots.AxesSubplot object at 0x7fd0671e7eb8>,\n",
       "        <matplotlib.axes._subplots.AxesSubplot object at 0x7fd067197470>,\n",
       "        <matplotlib.axes._subplots.AxesSubplot object at 0x7fd0671be9e8>,\n",
       "        <matplotlib.axes._subplots.AxesSubplot object at 0x7fd067167f60>,\n",
       "        <matplotlib.axes._subplots.AxesSubplot object at 0x7fd067117518>,\n",
       "        <matplotlib.axes._subplots.AxesSubplot object at 0x7fd067141a90>,\n",
       "        <matplotlib.axes._subplots.AxesSubplot object at 0x7fd0670f3048>,\n",
       "        <matplotlib.axes._subplots.AxesSubplot object at 0x7fd0670995c0>,\n",
       "        <matplotlib.axes._subplots.AxesSubplot object at 0x7fd0670c1b38>,\n",
       "        <matplotlib.axes._subplots.AxesSubplot object at 0x7fd0670720f0>,\n",
       "        <matplotlib.axes._subplots.AxesSubplot object at 0x7fd067019668>,\n",
       "        <matplotlib.axes._subplots.AxesSubplot object at 0x7fd067042be0>,\n",
       "        <matplotlib.axes._subplots.AxesSubplot object at 0x7fd066ff2198>,\n",
       "        <matplotlib.axes._subplots.AxesSubplot object at 0x7fd066f9b710>,\n",
       "        <matplotlib.axes._subplots.AxesSubplot object at 0x7fd066fc3c88>,\n",
       "        <matplotlib.axes._subplots.AxesSubplot object at 0x7fd066f77240>,\n",
       "        <matplotlib.axes._subplots.AxesSubplot object at 0x7fd066f1b7b8>],\n",
       "       dtype=object))"
      ]
     },
     "execution_count": 32,
     "metadata": {},
     "output_type": "execute_result"
    },
    {
     "data": {
      "image/png": "[encoded data removed]",
      "text/plain": [
       "<Figure size 432x288 with 221 Axes>"
      ]
     },
     "metadata": {
      "needs_background": "light"
     },
     "output_type": "display_data"
    }
   ],
   "source": [
    "plt.subplots(221)"
   ]
  },
  {
   "cell_type": "code",
   "execution_count": 36,
   "metadata": {},
   "outputs": [
    {
     "data": {
      "image/png": "[encoded data removed]",
      "text/plain": [
       "<Figure size 432x288 with 1 Axes>"
      ]
     },
     "metadata": {
      "needs_background": "light"
     },
     "output_type": "display_data"
    },
    {
     "data": {
      "image/png": "[encoded data removed]",
      "text/plain": [
       "<Figure size 432x288 with 223 Axes>"
      ]
     },
     "metadata": {
      "needs_background": "light"
     },
     "output_type": "display_data"
    }
   ],
   "source": [
    "\n",
    "\n",
    "import numpy as np\n",
    "import matplotlib.pyplot as plt\n",
    "\n",
    "# Fixing random state for reproducibility\n",
    "np.random.seed(19680801)\n",
    "\n",
    "\n",
    "\n",
    "\n",
    "plt.subplot(221)\n",
    "plt.scatter(x[:,0], x[:, 1], c=x[:,2], cmap=plt.cm.viridis)\n",
    "\n",
    "#plt.subplot(222)\n",
    "#plt.scatter(x[:,0], x[:, 2], c=x[:,1], cmap=plt.cm.viridis)\n",
    "\n",
    "fig,plt.subplot(222)\n",
    "ax = Axes3D(fig)\n",
    "ax.scatter(x[:,0], x[:, 1], x[:, 2], c=x[:,1], cmap=plt.cm.viridis, s=150)\n",
    "plt.show()\n"
   ]
  },
  {
   "cell_type": "code",
   "execution_count": 74,
   "metadata": {},
   "outputs": [],
   "source": [
    "minim = Minimizer(swarm.env,options=dict(maxiter=10))"
   ]
  },
  {
   "cell_type": "code",
   "execution_count": 75,
   "metadata": {},
   "outputs": [],
   "source": [
    "result = minim.minimize(swarm.walkers.best_state)"
   ]
  },
  {
   "cell_type": "code",
   "execution_count": 76,
   "metadata": {},
   "outputs": [
    {
     "data": {
      "text/plain": [
       "-10.646494367434205"
      ]
     },
     "execution_count": 76,
     "metadata": {},
     "output_type": "execute_result"
    }
   ],
   "source": [
    "result[\"fun\"]"
   ]
  },
  {
   "cell_type": "code",
   "execution_count": 50,
   "metadata": {
    "scrolled": true
   },
   "outputs": [
    {
     "data": {
      "text/plain": [
       "array([-0.26531191, -0.19811262, -0.23635508,  0.56249148,  0.41058238,\n",
       "       -0.03613584, -0.88953125,  0.14552889, -1.14368183, -4.16894757,\n",
       "        1.72745475,  3.06451008, -1.06549889, -0.82285127,  0.16249431,\n",
       "        1.96512785, -0.72188981, -2.89489881,  3.01743997,  0.75366651,\n",
       "       -0.10547482, -1.76157762, -0.77552776, -1.51109843,  0.10191326,\n",
       "       -1.06185751, -0.82191038, -0.89071894, -0.82455569, -0.90287142])"
      ]
     },
     "execution_count": 50,
     "metadata": {},
     "output_type": "execute_result"
    }
   ],
   "source": [
    "result[\"x\"]"
   ]
  },
  {
   "cell_type": "code",
   "execution_count": 25,
   "metadata": {
    "scrolled": true
   },
   "outputs": [
    {
     "data": {
      "text/plain": [
       "      fun: -12.302927529580574\n",
       " hess_inv: array([[ 0.17439777, -0.0666562 , -0.0446238 ,  0.07610568, -0.05085274,\n",
       "        -0.0783406 ,  0.12596378, -0.03279346, -0.08144527,  0.0824    ,\n",
       "        -0.05282357, -0.06077497,  0.11176226, -0.07520896, -0.02509475,\n",
       "         0.095323  , -0.05505705, -0.04436392],\n",
       "       [-0.0666562 ,  0.16966918, -0.02523386, -0.06289417,  0.06153779,\n",
       "        -0.05774705, -0.0522921 ,  0.10267992, -0.0569948 , -0.03671594,\n",
       "         0.09103415, -0.07732225, -0.04274373,  0.14518133, -0.07137584,\n",
       "        -0.06472522,  0.10322623, -0.03771054],\n",
       "       [-0.0446238 , -0.02523386,  0.14610952, -0.0674129 , -0.07018998,\n",
       "         0.09336184, -0.04986342, -0.05539804,  0.09976706, -0.05670819,\n",
       "        -0.06331807,  0.09598143, -0.04970283, -0.04651686,  0.11000928,\n",
       "        -0.05782576, -0.0655522 ,  0.12855499],\n",
       "       [ 0.07610568, -0.06289417, -0.0674129 ,  0.17229903, -0.02180408,\n",
       "        -0.02051745,  0.09800619, -0.05003934, -0.02764335,  0.10592255,\n",
       "        -0.05112972, -0.04987622,  0.08506254, -0.06907401, -0.08410329,\n",
       "         0.14244075, -0.0647284 , -0.07047368],\n",
       "       [-0.05085274,  0.06153779, -0.07018998, -0.02180408,  0.2102617 ,\n",
       "        -0.05578634, -0.05668534,  0.12131716, -0.04839896, -0.09350511,\n",
       "         0.13226573, -0.0291956 , -0.08352743,  0.05662046, -0.04892501,\n",
       "        -0.0173853 ,  0.09543992, -0.07088003],\n",
       "       [-0.0783406 , -0.05774705,  0.09336184, -0.02051745, -0.05578634,\n",
       "         0.15460338, -0.06510598, -0.04876259,  0.13651162, -0.04876915,\n",
       "        -0.05367059,  0.10847633, -0.06731903, -0.05484211,  0.0844094 ,\n",
       "        -0.04547739, -0.0545435 ,  0.09737179],\n",
       "       [ 0.12596378, -0.0522921 , -0.04986342,  0.09800619, -0.05668534,\n",
       "        -0.06510598,  0.12169849, -0.0510698 , -0.06287145,  0.10518402,\n",
       "        -0.05629602, -0.05598762,  0.11387204, -0.05606316, -0.04538782,\n",
       "         0.10706021, -0.05571404, -0.04923815],\n",
       "       [-0.03279346,  0.10267992, -0.05539804, -0.05003934,  0.12131716,\n",
       "        -0.04876259, -0.0510698 ,  0.1452593 , -0.05387705, -0.080022  ,\n",
       "         0.11081612, -0.06393036, -0.06774048,  0.09006153, -0.05492555,\n",
       "        -0.04737822,  0.10129124, -0.05284105],\n",
       "       [-0.08144527, -0.0569948 ,  0.09976706, -0.02764335, -0.04839896,\n",
       "         0.13651162, -0.06287145, -0.05387705,  0.13859003, -0.04422811,\n",
       "        -0.05370755,  0.11451085, -0.06562071, -0.05448672,  0.08817297,\n",
       "        -0.04054992, -0.05554902,  0.10086125],\n",
       "       [ 0.0824    , -0.03671594, -0.05670819,  0.10592255, -0.09350511,\n",
       "        -0.04876915,  0.10518402, -0.080022  , -0.04422811,  0.16148346,\n",
       "        -0.0552407 , -0.04817771,  0.12327244, -0.02209244, -0.07074591,\n",
       "         0.09607055, -0.03936345, -0.05630203],\n",
       "       [-0.05282357,  0.09103415, -0.06331807, -0.05112972,  0.13226573,\n",
       "        -0.05367059, -0.05629602,  0.11081612, -0.05370755, -0.0552407 ,\n",
       "         0.12839048, -0.04035873, -0.06234205,  0.09721077, -0.05239338,\n",
       "        -0.04775728,  0.11502155, -0.06229525],\n",
       "       [-0.06077497, -0.07732225,  0.09598143, -0.04987622, -0.0291956 ,\n",
       "         0.10847633, -0.05598762, -0.06393036,  0.11451085, -0.04817771,\n",
       "        -0.04035873,  0.14211799, -0.06259107, -0.06700137,  0.11525383,\n",
       "        -0.04822832, -0.0477949 ,  0.0982361 ],\n",
       "       [ 0.11176226, -0.04274373, -0.04970283,  0.08506254, -0.08352743,\n",
       "        -0.06731903,  0.11387204, -0.06774048, -0.06562071,  0.12327244,\n",
       "        -0.06234205, -0.06259107,  0.14281818, -0.02934329, -0.03852034,\n",
       "         0.09121569, -0.04659825, -0.04815682],\n",
       "       [-0.07520896,  0.14518133, -0.04651686, -0.06907401,  0.05662046,\n",
       "        -0.05484211, -0.05606316,  0.09006153, -0.05448672, -0.02209244,\n",
       "         0.09721077, -0.06700137, -0.02934329,  0.16083511, -0.05865734,\n",
       "        -0.07577086,  0.12131377, -0.04572414],\n",
       "       [-0.02509475, -0.07137584,  0.11000928, -0.08410329, -0.04892501,\n",
       "         0.0844094 , -0.04538782, -0.05492555,  0.08817297, -0.07074591,\n",
       "        -0.05239338,  0.11525383, -0.03852034, -0.05865734,  0.1542913 ,\n",
       "        -0.06860537, -0.04568145,  0.11492757],\n",
       "       [ 0.095323  , -0.06472522, -0.05782576,  0.14244075, -0.0173853 ,\n",
       "        -0.04547739,  0.10706021, -0.04737822, -0.04054992,  0.09607055,\n",
       "        -0.04775728, -0.04822832,  0.09121569, -0.07577086, -0.06860537,\n",
       "         0.14637714, -0.06822927, -0.06086588],\n",
       "       [-0.05505705,  0.10322623, -0.0655522 , -0.0647284 ,  0.09543992,\n",
       "        -0.0545435 , -0.05571404,  0.10129124, -0.05554902, -0.03936345,\n",
       "         0.11502155, -0.0477949 , -0.04659825,  0.12131377, -0.04568145,\n",
       "        -0.06822927,  0.13393876, -0.0603937 ],\n",
       "       [-0.04436392, -0.03771054,  0.12855499, -0.07047368, -0.07088003,\n",
       "         0.09737179, -0.04923815, -0.05284105,  0.10086125, -0.05630203,\n",
       "        -0.06229525,  0.0982361 , -0.04815682, -0.04572414,  0.11492757,\n",
       "        -0.06086588, -0.0603937 ,  0.13069566]])\n",
       "      jac: array([ 1.19209290e-06, -7.15255737e-07,  2.38418579e-06,  1.43051147e-06,\n",
       "        1.31130219e-06,  2.38418579e-07,  3.57627869e-07, -7.15255737e-07,\n",
       "        1.31130219e-06,  5.96046448e-07, -1.31130219e-06, -8.34465027e-07,\n",
       "       -4.76837158e-07,  1.19209290e-06,  4.76837158e-07,  8.34465027e-07,\n",
       "        4.29153442e-06,  1.07288361e-06])\n",
       "  message: 'Optimization terminated successfully.'\n",
       "     nfev: 840\n",
       "      nit: 33\n",
       "     njev: 42\n",
       "   status: 0\n",
       "  success: True\n",
       "        x: array([ 0.28443892,  0.46838972, -1.07606044, -0.72697755,  0.12995612,\n",
       "        0.43120039, -0.5251467 , -0.15733162, -0.62884219, -0.09850197,\n",
       "       -0.77162727,  0.2053439 ,  0.51482586, -0.56639945, -0.70866635,\n",
       "        0.30349873,  0.25766217,  0.02038416])"
      ]
     },
     "execution_count": 25,
     "metadata": {},
     "output_type": "execute_result"
    }
   ],
   "source": [
    "minimize_obs(swarm.walkers.best_obs.view(1,-1), swarm.env)"
   ]
  },
  {
   "cell_type": "code",
   "execution_count": 25,
   "metadata": {},
   "outputs": [],
   "source": [
    "bases = swarm.encoder.get_bases()"
   ]
  },
  {
   "cell_type": "code",
   "execution_count": 70,
   "metadata": {},
   "outputs": [],
   "source": [
    "swarm.walkers.reset()\n",
    "swarm.reset()"
   ]
  },
  {
   "cell_type": "code",
   "execution_count": 71,
   "metadata": {},
   "outputs": [],
   "source": [
    "swarm.walkers.reset()"
   ]
  },
  {
   "cell_type": "code",
   "execution_count": 8,
   "metadata": {
    "scrolled": true
   },
   "outputs": [
    {
     "data": {
      "text/plain": [
       "torch.Size([250, 9])"
      ]
     },
     "execution_count": 8,
     "metadata": {},
     "output_type": "execute_result"
    }
   ],
   "source": [
    "swarm.walkers.observs.shape"
   ]
  },
  {
   "cell_type": "code",
   "execution_count": 73,
   "metadata": {},
   "outputs": [],
   "source": [
    "from fragile.optimize.benchmarks import styblinski_tang\n"
   ]
  },
  {
   "cell_type": "code",
   "execution_count": 121,
   "metadata": {},
   "outputs": [],
   "source": [
    "best = swarm.walkers.observs[swarm.walkers.rewards.argmax()].detach().clone()\n",
    "optim = torch.optim.LBFGS([swarm.walkers.observs])"
   ]
  },
  {
   "cell_type": "code",
   "execution_count": 122,
   "metadata": {},
   "outputs": [
    {
     "name": "stdout",
     "output_type": "stream",
     "text": [
      "tensor(-10.7149)\n"
     ]
    },
    {
     "data": {
      "text/plain": [
       "(tensor([-0.4478,  1.8925,  3.7959]), tensor(-10.7149))"
      ]
     },
     "execution_count": 122,
     "metadata": {},
     "output_type": "execute_result"
    }
   ],
   "source": [
    "best, closure()"
   ]
  },
  {
   "cell_type": "code",
   "execution_count": 123,
   "metadata": {},
   "outputs": [],
   "source": [
    "def closure():\n",
    "  \n",
    "    loss = (-styblinski_tang(swarm.walkers.observs)).mean()\n",
    "    print(loss)\n",
    "    optim.zero_grad()\n",
    "    #loss.backward()\n",
    "    return loss"
   ]
  },
  {
   "cell_type": "code",
   "execution_count": null,
   "metadata": {
    "scrolled": true
   },
   "outputs": [],
   "source": []
  },
  {
   "cell_type": "code",
   "execution_count": 125,
   "metadata": {},
   "outputs": [
    {
     "data": {
      "text/plain": [
       "defaultdict(dict, {tensor([[ 4.1844e+00,  9.9291e-02,  4.6208e+00],\n",
       "                     [-1.2689e+00, -4.6875e+00, -4.4542e+00],\n",
       "                     [ 1.1409e+00, -3.4658e+00, -1.5880e+00],\n",
       "                     [ 4.0272e+00,  5.4593e-01, -3.4633e-01],\n",
       "                     [-2.6021e-01, -1.2523e+00, -2.8864e+00],\n",
       "                     [ 1.6820e+00,  3.1702e-01,  9.8733e-01],\n",
       "                     [-4.6645e+00,  6.9850e-01, -4.3020e+00],\n",
       "                     [-4.2056e+00,  3.8060e+00, -3.7335e+00],\n",
       "                     [ 1.6335e+00,  4.6444e+00,  3.2997e+00],\n",
       "                     [ 4.6314e+00,  2.2764e+00, -1.5904e+00],\n",
       "                     [-4.3117e+00, -3.6732e-01, -4.9712e+00],\n",
       "                     [-1.9627e+00, -3.8214e+00, -2.2769e+00],\n",
       "                     [ 4.4393e+00, -8.5502e-01,  4.6055e+00],\n",
       "                     [ 1.9590e-02, -4.1481e+00, -3.9974e+00],\n",
       "                     [-2.2484e+00,  3.6853e+00,  1.2443e+00],\n",
       "                     [-3.1173e+00, -3.5954e+00,  2.1969e-01],\n",
       "                     [ 4.2913e-01, -4.0360e+00,  7.2646e-01],\n",
       "                     [ 2.8843e+00, -4.3441e+00, -9.4331e-02],\n",
       "                     [-3.2494e+00,  7.9183e-01, -3.1675e+00],\n",
       "                     [ 4.8363e+00, -1.9576e+00, -2.9918e+00],\n",
       "                     [-9.8097e-01, -3.1159e+00, -1.9178e+00],\n",
       "                     [-4.5359e+00,  1.4367e+00, -1.1841e-01],\n",
       "                     [ 4.1077e+00,  3.2264e+00, -2.5484e-01],\n",
       "                     [ 4.1670e-01,  7.3549e-01,  4.3739e+00],\n",
       "                     [-4.2036e-01, -4.1425e+00, -3.3295e+00],\n",
       "                     [ 7.0124e-03,  4.5547e+00,  3.6620e+00],\n",
       "                     [ 1.8024e+00, -1.6800e+00,  3.4073e+00],\n",
       "                     [-5.8742e-01,  2.6657e-01,  3.5991e+00],\n",
       "                     [-3.4044e+00, -2.0730e+00,  4.4478e+00],\n",
       "                     [-4.1418e+00,  3.1790e+00, -6.0545e-01],\n",
       "                     [ 2.5726e-01,  2.8573e+00,  4.5805e+00],\n",
       "                     [-1.1814e+00, -1.9893e+00,  1.6026e+00],\n",
       "                     [ 3.6700e+00, -2.2774e+00, -6.8839e-01],\n",
       "                     [-1.4270e+00,  1.7475e+00,  2.5035e+00],\n",
       "                     [ 2.0137e-01,  2.8788e+00, -2.1748e+00],\n",
       "                     [ 1.5710e+00, -1.6517e+00,  1.9944e+00],\n",
       "                     [ 3.2987e+00, -1.4438e+00, -1.8187e+00],\n",
       "                     [-3.1247e+00,  3.8333e+00, -1.3935e+00],\n",
       "                     [-4.1872e+00,  2.1232e-03,  1.6859e+00],\n",
       "                     [-3.5840e-01,  2.6622e+00, -1.0096e+00],\n",
       "                     [-3.0312e+00,  4.0523e+00, -2.4943e+00],\n",
       "                     [-1.1976e+00,  4.1801e+00,  3.6230e+00],\n",
       "                     [-4.6846e-01,  4.7148e+00,  2.2713e+00],\n",
       "                     [-2.7856e+00,  2.2703e+00,  4.5891e+00],\n",
       "                     [-3.4379e+00, -1.5545e+00,  1.3103e+00],\n",
       "                     [ 1.7548e+00, -1.1400e+00,  3.6423e+00],\n",
       "                     [ 4.6711e+00,  7.7180e-01,  4.4093e+00],\n",
       "                     [ 9.4522e-02, -1.3943e+00, -2.4352e+00],\n",
       "                     [ 1.3948e+00, -3.8663e+00,  3.2890e-01],\n",
       "                     [ 9.5906e-01, -2.0107e+00, -3.5534e+00],\n",
       "                     [ 4.9805e-01,  5.5258e-01,  3.3759e-01],\n",
       "                     [ 2.9546e+00,  1.2939e+00,  3.7774e+00],\n",
       "                     [-7.3051e-01,  1.3973e+00, -4.0644e+00],\n",
       "                     [-3.4514e+00, -1.0001e+00,  1.6971e+00],\n",
       "                     [-4.3034e+00,  3.7310e+00, -3.9528e+00],\n",
       "                     [-1.4730e+00,  4.0294e+00,  1.2990e-01],\n",
       "                     [-2.8727e+00, -4.4592e+00, -4.8738e+00],\n",
       "                     [ 3.8983e+00, -3.1993e-01,  1.9587e+00],\n",
       "                     [ 4.3857e+00,  1.4535e+00, -5.6812e-01],\n",
       "                     [-4.5106e+00, -9.4299e-01, -1.1134e+00],\n",
       "                     [-3.4006e+00, -3.0209e+00, -2.4992e+00],\n",
       "                     [ 4.6928e+00, -1.4295e+00,  1.7247e+00],\n",
       "                     [-2.8919e-02,  2.4347e+00,  2.2928e+00],\n",
       "                     [-1.6592e+00, -1.0988e+00, -3.2236e+00],\n",
       "                     [-4.3418e+00,  2.5236e+00,  2.2996e-01],\n",
       "                     [-2.5130e+00,  3.5261e-01, -2.9829e+00],\n",
       "                     [-1.6616e+00, -7.5192e-01, -3.7087e+00],\n",
       "                     [-4.7008e+00, -1.8471e+00, -1.6437e+00],\n",
       "                     [-1.1969e+00, -2.4498e+00, -2.2533e+00],\n",
       "                     [-2.3631e+00,  4.0350e-01, -4.5767e+00],\n",
       "                     [-4.9078e+00,  2.1274e+00, -3.1313e+00],\n",
       "                     [-4.2386e+00,  4.6837e+00,  2.8597e+00],\n",
       "                     [ 6.0336e-01, -1.5516e+00, -2.6441e+00],\n",
       "                     [ 4.9740e+00, -4.7429e+00,  3.3830e+00],\n",
       "                     [ 6.9742e-02, -2.8691e+00,  2.8966e+00],\n",
       "                     [ 1.9449e+00, -5.1079e-01, -3.8773e+00],\n",
       "                     [ 6.9293e-02, -4.6071e+00,  9.3519e-01],\n",
       "                     [-7.0472e-01, -1.6174e+00, -4.3819e+00],\n",
       "                     [ 1.5640e+00, -3.4445e+00, -4.3415e+00],\n",
       "                     [ 1.0471e+00, -2.0914e+00, -1.3880e+00],\n",
       "                     [ 5.9961e-01, -1.3097e+00, -4.6918e-01],\n",
       "                     [ 2.3800e+00,  3.4211e-01,  3.4576e+00],\n",
       "                     [ 1.1233e-01,  3.7885e+00,  3.2958e-01],\n",
       "                     [ 3.6916e+00, -3.0460e+00,  9.4971e-01],\n",
       "                     [-1.5655e+00, -1.4260e+00, -7.7317e-01],\n",
       "                     [-1.2702e-01,  1.8153e+00,  4.8309e+00],\n",
       "                     [-3.1368e+00,  1.3399e+00, -9.5229e-01],\n",
       "                     [ 2.3451e+00, -3.1542e+00,  4.0647e+00],\n",
       "                     [ 1.5202e+00,  7.0890e-01, -3.9106e+00],\n",
       "                     [ 3.7600e+00,  4.5666e+00,  1.3854e+00],\n",
       "                     [ 4.3484e-01, -4.8529e+00,  2.6194e+00],\n",
       "                     [ 1.0883e+00, -2.4584e+00, -4.6650e+00],\n",
       "                     [ 1.2482e+00,  3.8401e+00, -1.1158e+00],\n",
       "                     [-8.7012e-01,  6.4465e-01,  4.6364e+00],\n",
       "                     [ 2.4429e+00, -2.9628e+00,  1.8472e+00],\n",
       "                     [-1.0306e+00, -3.8589e+00, -2.1732e+00],\n",
       "                     [-2.9596e-01,  4.4137e+00, -1.6520e+00],\n",
       "                     [ 8.7542e-01, -7.0650e-01, -3.5924e+00],\n",
       "                     [ 1.9317e+00, -7.1715e-01,  4.9011e+00],\n",
       "                     [-1.1057e+00, -4.9786e+00,  3.6126e+00],\n",
       "                     [-4.1489e+00,  3.7494e+00, -1.5256e+00],\n",
       "                     [ 1.6183e+00, -3.8719e+00,  3.1301e+00],\n",
       "                     [-9.3424e-01,  9.1740e-01, -4.0656e+00],\n",
       "                     [ 4.8189e+00,  4.6984e-01, -1.0334e+00],\n",
       "                     [ 1.6223e+00, -2.9419e+00,  2.9837e+00],\n",
       "                     [ 3.8549e+00, -2.9447e+00, -1.9863e+00],\n",
       "                     [ 1.7508e+00,  4.4354e+00, -3.3604e+00],\n",
       "                     [-4.4406e+00, -8.1704e-01, -1.0107e+00],\n",
       "                     [ 2.4533e+00,  4.0986e+00,  4.7620e+00],\n",
       "                     [ 3.9221e-01,  1.7851e+00,  7.7611e-01],\n",
       "                     [ 3.9735e+00, -1.9165e+00,  4.4969e+00],\n",
       "                     [-1.6700e+00,  4.0834e+00, -1.5374e+00],\n",
       "                     [ 3.6170e+00, -4.6871e+00, -9.5035e-01],\n",
       "                     [-1.1342e+00, -4.0227e+00,  2.8788e+00],\n",
       "                     [-4.9880e+00,  2.1142e+00, -4.6725e+00],\n",
       "                     [ 1.3907e+00, -1.2250e+00, -2.5684e+00],\n",
       "                     [ 3.6203e+00, -1.2677e+00, -4.6709e+00],\n",
       "                     [ 3.4739e+00, -4.6630e+00, -4.0461e+00],\n",
       "                     [-1.5178e+00,  4.0076e+00, -1.2085e+00],\n",
       "                     [ 4.1043e+00, -1.9417e-01, -2.3449e+00],\n",
       "                     [-9.7740e-01,  2.8192e+00, -4.9468e+00],\n",
       "                     [ 2.9590e+00, -1.2891e-01, -4.3703e+00],\n",
       "                     [-5.1735e-01,  1.1937e+00, -2.6626e+00],\n",
       "                     [-4.1143e+00,  4.4780e-01,  1.9177e+00],\n",
       "                     [ 2.8775e+00,  1.3573e+00,  2.8248e+00],\n",
       "                     [-3.3101e+00, -2.9956e+00,  2.1266e+00],\n",
       "                     [ 2.9590e+00, -2.5783e+00,  3.1400e+00],\n",
       "                     [-2.6883e+00,  1.2271e+00,  3.5228e+00],\n",
       "                     [-2.3614e+00,  8.5738e-01,  9.7739e-01],\n",
       "                     [-7.2588e-01, -3.7950e+00, -8.9611e-01],\n",
       "                     [ 3.1575e+00,  4.1149e+00,  8.7843e-01],\n",
       "                     [-3.5391e+00,  1.2160e+00,  1.3069e+00],\n",
       "                     [-9.3100e-01, -3.4600e+00, -6.4016e-01],\n",
       "                     [ 2.0821e+00, -4.4043e-01,  1.0238e+00],\n",
       "                     [ 4.7716e+00, -1.9024e+00, -4.9717e+00],\n",
       "                     [-8.4982e-01,  1.3650e+00,  3.1692e+00],\n",
       "                     [-4.5785e+00,  1.0538e+00,  5.4047e-01],\n",
       "                     [-8.8697e-01,  2.1967e+00, -3.9283e-01],\n",
       "                     [ 4.7719e+00,  4.1255e+00, -4.9571e-02],\n",
       "                     [-1.1765e+00,  3.2494e+00, -2.7986e+00],\n",
       "                     [-2.3004e+00, -4.6115e+00, -4.8755e+00],\n",
       "                     [-2.0643e+00, -2.5993e-01, -3.8148e-01],\n",
       "                     [ 8.3853e-01,  1.4883e+00, -6.5358e-01],\n",
       "                     [ 4.7900e-01,  2.8874e+00,  3.5711e+00],\n",
       "                     [-4.5024e+00,  2.6852e-01,  1.0868e+00],\n",
       "                     [ 2.0688e+00,  4.0225e+00,  1.6040e+00],\n",
       "                     [-2.4270e+00, -4.4227e+00, -3.1363e+00],\n",
       "                     [-1.4621e+00, -2.2360e+00, -9.3435e-01],\n",
       "                     [-2.4231e+00, -3.4181e+00, -4.4660e+00],\n",
       "                     [ 4.3372e-01,  4.7671e+00,  1.3613e+00],\n",
       "                     [ 2.9249e-01,  1.3456e+00, -2.6925e+00],\n",
       "                     [ 1.3775e+00,  6.5464e-01,  1.0069e+00],\n",
       "                     [-1.1127e-01, -1.3870e+00, -2.8297e+00],\n",
       "                     [-3.4415e+00,  4.3148e+00, -1.8663e+00],\n",
       "                     [ 1.7793e+00, -8.8823e-01,  3.9253e+00],\n",
       "                     [-1.5078e+00,  3.4612e+00,  9.6363e-01],\n",
       "                     [ 3.4819e+00,  2.4547e+00,  2.0991e+00],\n",
       "                     [ 1.2206e+00, -1.7235e+00, -1.9709e+00],\n",
       "                     [-2.1667e+00, -3.0191e+00,  2.3324e+00],\n",
       "                     [ 4.9227e+00,  4.2277e+00, -3.6505e+00],\n",
       "                     [-4.4687e+00, -4.5179e+00, -2.2556e+00],\n",
       "                     [-2.4570e+00,  4.2947e+00, -3.7228e+00],\n",
       "                     [ 2.9740e+00,  3.7285e+00,  4.0716e+00],\n",
       "                     [-3.6243e+00,  4.9545e+00,  1.0254e+00],\n",
       "                     [ 1.9852e+00,  3.4647e+00, -2.8858e+00],\n",
       "                     [-5.5150e-01,  2.4676e+00, -1.0535e+00],\n",
       "                     [-3.0062e+00,  4.1138e+00,  2.3879e+00],\n",
       "                     [-4.9223e+00,  6.3761e-01, -1.3780e+00],\n",
       "                     [ 3.0093e+00,  4.4160e+00, -2.3728e+00],\n",
       "                     [ 4.4099e+00, -2.1774e-01,  2.9274e+00],\n",
       "                     [-5.0951e-01,  3.8238e+00,  3.3260e+00],\n",
       "                     [-1.9102e+00,  1.6417e+00, -3.6829e+00],\n",
       "                     [ 4.8033e+00,  2.8712e+00,  2.6400e+00],\n",
       "                     [ 4.8783e+00, -4.3218e+00, -4.0029e+00],\n",
       "                     [-3.1042e-01,  2.2878e+00, -1.6509e+00],\n",
       "                     [-1.8569e+00,  4.7919e+00, -3.4737e+00],\n",
       "                     [-1.5297e+00, -3.8452e+00,  3.4284e+00],\n",
       "                     [-7.3950e-01, -2.0426e+00,  8.5323e-01],\n",
       "                     [-3.6827e+00, -2.1328e+00, -4.3908e+00],\n",
       "                     [-2.9176e+00, -9.6443e-01, -8.4601e-01],\n",
       "                     [-4.2218e+00, -2.9402e+00, -2.1917e+00],\n",
       "                     [-2.6798e+00,  5.5593e-01, -2.3738e+00],\n",
       "                     [ 3.9144e+00,  3.1729e+00, -1.2301e+00],\n",
       "                     [ 1.6740e-01,  4.3358e+00,  9.1248e-01],\n",
       "                     [ 4.3309e-01, -4.0341e+00,  2.5674e+00],\n",
       "                     [ 4.1534e-02,  2.1632e+00,  3.6160e+00],\n",
       "                     [ 4.6514e-01,  4.5680e-02, -3.1710e+00],\n",
       "                     [-2.1105e+00,  4.9501e+00,  6.2289e-01],\n",
       "                     [-1.7784e+00,  6.8293e-01, -4.3810e+00],\n",
       "                     [ 2.7838e+00, -3.7671e+00, -4.4537e+00],\n",
       "                     [-3.1164e+00, -2.4370e+00,  4.1285e+00],\n",
       "                     [-3.4408e+00,  1.6064e+00,  4.9298e+00],\n",
       "                     [ 4.3226e+00, -4.4220e-01,  2.5227e+00],\n",
       "                     [-8.1111e-01,  7.9291e-01, -2.9194e+00],\n",
       "                     [ 2.7394e+00, -4.5538e+00, -2.3020e+00],\n",
       "                     [-1.8189e+00, -4.0197e+00,  2.0390e-01],\n",
       "                     [-8.8781e-01,  2.2229e+00,  2.9038e+00],\n",
       "                     [ 1.9970e+00,  3.9355e-01, -4.2510e+00],\n",
       "                     [ 3.0465e+00, -1.6167e+00, -7.0795e-01],\n",
       "                     [ 1.6249e+00,  2.9515e+00,  3.2148e+00],\n",
       "                     [ 1.1077e-01,  5.0755e-01,  3.6790e-01],\n",
       "                     [-3.8152e+00,  4.2712e+00, -1.0741e+00],\n",
       "                     [ 4.7620e+00,  4.9095e-01,  1.8712e+00],\n",
       "                     [-4.5354e+00, -2.5081e+00,  2.3082e+00],\n",
       "                     [-4.7883e+00,  3.8108e+00,  3.0297e+00],\n",
       "                     [-3.3145e-01,  1.0252e+00,  1.6057e+00],\n",
       "                     [ 2.3825e+00,  2.2201e+00,  4.9961e+00],\n",
       "                     [ 1.8042e+00, -2.6505e+00,  2.1407e+00],\n",
       "                     [-9.8901e-01, -3.8169e-01, -4.3105e+00],\n",
       "                     [-1.7453e+00, -4.5817e+00, -2.1570e+00],\n",
       "                     [ 3.5486e+00,  2.3404e+00,  1.2936e+00],\n",
       "                     [ 4.2484e+00,  3.8522e+00, -2.3907e+00],\n",
       "                     [-2.7012e-01, -4.0039e+00,  3.0508e+00],\n",
       "                     [-4.7212e+00,  3.7314e+00,  4.9707e+00],\n",
       "                     [ 2.5457e+00, -2.5363e+00,  5.2571e-01],\n",
       "                     [ 2.1625e+00,  2.2025e+00, -6.9939e-01],\n",
       "                     [ 4.6475e+00,  4.9991e+00,  4.9057e+00],\n",
       "                     [-7.2074e-01,  4.8019e+00,  1.9862e+00],\n",
       "                     [ 4.0418e-01,  5.3830e-01,  4.7434e+00],\n",
       "                     [-4.0129e+00, -4.6034e+00,  1.0406e+00],\n",
       "                     [-3.9222e+00, -4.0778e+00, -2.6703e+00],\n",
       "                     [-1.7791e+00, -3.0976e+00,  3.1282e+00],\n",
       "                     [ 3.9635e+00, -8.5647e-01,  1.5516e+00],\n",
       "                     [ 1.0423e+00,  3.2578e+00,  6.3746e-01],\n",
       "                     [ 3.4295e+00, -4.1079e+00, -1.9049e+00],\n",
       "                     [-3.7919e+00,  3.1710e+00,  4.0383e+00],\n",
       "                     [ 3.2988e+00,  3.7798e-01, -6.2836e-01],\n",
       "                     [-4.9447e+00, -4.6701e+00,  3.7846e+00],\n",
       "                     [-4.7766e+00,  3.5192e+00,  6.4690e-01],\n",
       "                     [-2.1947e+00,  3.4402e+00,  4.0046e+00],\n",
       "                     [ 1.2549e+00,  2.9477e+00,  2.9952e+00],\n",
       "                     [ 1.7477e+00,  2.8264e+00,  1.0290e+00],\n",
       "                     [-1.7128e+00,  3.2472e+00, -1.0313e-01],\n",
       "                     [ 3.2408e-01, -1.1789e+00, -6.6925e-04],\n",
       "                     [ 7.2240e-01, -3.6068e+00,  3.6905e+00],\n",
       "                     [ 2.9665e+00, -3.6698e+00, -3.8406e+00],\n",
       "                     [ 4.3012e+00, -2.6297e+00, -3.6934e+00],\n",
       "                     [-2.5349e+00, -3.9755e+00,  3.1277e-01],\n",
       "                     [ 7.1804e-01,  1.9952e+00, -7.8822e-01],\n",
       "                     [-4.0799e+00, -2.7785e+00,  3.9194e+00],\n",
       "                     [-8.0099e-01,  3.0530e-02, -4.3583e+00],\n",
       "                     [-8.3665e-02, -2.6969e+00,  2.4100e+00],\n",
       "                     [-4.4888e+00, -3.1578e+00, -3.3260e+00],\n",
       "                     [ 7.3239e-01, -4.5933e+00,  3.9185e+00],\n",
       "                     [ 1.0242e+00,  3.2193e+00,  1.3956e+00],\n",
       "                     [-1.3589e+00, -2.9963e+00,  3.2400e+00],\n",
       "                     [-1.8007e+00, -4.0923e+00, -3.7744e+00],\n",
       "                     [ 1.8320e+00,  1.0301e+00,  9.4293e-01],\n",
       "                     [-2.8037e-01,  1.4872e+00, -1.9251e+00],\n",
       "                     [-4.4783e-01,  1.8925e+00,  3.7959e+00]]): {'func_evals': 10,\n",
       "              'n_iter': 0}})"
      ]
     },
     "execution_count": 125,
     "metadata": {},
     "output_type": "execute_result"
    }
   ],
   "source": [
    "optim.state"
   ]
  },
  {
   "cell_type": "code",
   "execution_count": 100,
   "metadata": {},
   "outputs": [
    {
     "ename": "TypeError",
     "evalue": "step() missing 1 required positional argument: 'closure'",
     "output_type": "error",
     "traceback": [
      "\u001b[0;31m---------------------------------------------------------------------------\u001b[0m",
      "\u001b[0;31mTypeError\u001b[0m                                 Traceback (most recent call last)",
      "\u001b[0;32m<ipython-input-100-299dcf35c9e8>\u001b[0m in \u001b[0;36m<module>\u001b[0;34m\u001b[0m\n\u001b[0;32m----> 1\u001b[0;31m \u001b[0moptim\u001b[0m\u001b[0;34m.\u001b[0m\u001b[0mstep\u001b[0m\u001b[0;34m(\u001b[0m\u001b[0;34m)\u001b[0m\u001b[0;34m\u001b[0m\u001b[0;34m\u001b[0m\u001b[0m\n\u001b[0m",
      "\u001b[0;31mTypeError\u001b[0m: step() missing 1 required positional argument: 'closure'"
     ]
    }
   ],
   "source": [
    "optim.step()"
   ]
  },
  {
   "cell_type": "code",
   "execution_count": null,
   "metadata": {},
   "outputs": [],
   "source": [
    "bases_noise * bases.mean(0)"
   ]
  },
  {
   "cell_type": "code",
   "execution_count": null,
   "metadata": {
    "scrolled": true
   },
   "outputs": [],
   "source": [
    "swarm.walkers.raw_pest"
   ]
  },
  {
   "cell_type": "code",
   "execution_count": null,
   "metadata": {},
   "outputs": [],
   "source": [
    "import matplotlib.pyplot as plt\n",
    "from fragile.core.utils import to_numpy\n",
    "def vector_to_arrow(v):\n",
    "    x, y = v.origin[0], v.origin[1]\n",
    "    dx, dy = v.end[0] - x, v.end[1] - y\n",
    "    plt.arrow(float(x), float(y), float(dx), float(dy), width=0.02, color=\"red\")"
   ]
  },
  {
   "cell_type": "code",
   "execution_count": null,
   "metadata": {},
   "outputs": [],
   "source": [
    "plt.cm.copper"
   ]
  },
  {
   "cell_type": "code",
   "execution_count": null,
   "metadata": {},
   "outputs": [],
   "source": []
  },
  {
   "cell_type": "code",
   "execution_count": null,
   "metadata": {},
   "outputs": [],
   "source": [
    "x, y, dx, dy = vector_to_arrow(swarm.encoder.vectors[-1])"
   ]
  },
  {
   "cell_type": "code",
   "execution_count": null,
   "metadata": {},
   "outputs": [],
   "source": [
    "x, y"
   ]
  },
  {
   "cell_type": "code",
   "execution_count": null,
   "metadata": {},
   "outputs": [],
   "source": [
    "plt.arrow(x, y, 1, 1, width=3)"
   ]
  },
  {
   "cell_type": "code",
   "execution_count": null,
   "metadata": {},
   "outputs": [],
   "source": [
    "x, y, rewards = swarm.visited_x, swarm.visited_y, swarm.visited_rewards"
   ]
  },
  {
   "cell_type": "code",
   "execution_count": null,
   "metadata": {
    "scrolled": false
   },
   "outputs": [],
   "source": [
    "fig = plt.figure(figsize=(10,10))\n",
    "plt.scatter(x, y, c=rewards, cmap=plt.cm.viridis, alpha=0.1)\n",
    "vals = to_numpy(swarm.walkers.observs)\n",
    "plt.scatter(vals[:, 0], vals[:, 1])\n",
    "_ = [vector_to_arrow(v) for v in swarm.encoder.vectors]"
   ]
  },
  {
   "cell_type": "code",
   "execution_count": null,
   "metadata": {},
   "outputs": [],
   "source": [
    "import numpy as np\n",
    "import matplotlib.pyplot as plt\n",
    "from IPython.core.display import clear_output\n",
    "%matplotlib inline\n",
    "plt.axis([0, 10, 0, 1])\n",
    "\n",
    "for i in range(10):\n",
    "    y = np.random.random()\n",
    "    plt.scatter(i, y)\n",
    "    plt.pause(0.05)\n",
    "    clear_output(True)\n",
    "\n",
    "plt.show()"
   ]
  },
  {
   "cell_type": "code",
   "execution_count": null,
   "metadata": {},
   "outputs": [],
   "source": [
    "vals = to_numpy(swarm.walkers.observs)\n",
    "plt.scatter(vals[:, 0], vals[:, 1])"
   ]
  },
  {
   "cell_type": "code",
   "execution_count": null,
   "metadata": {},
   "outputs": [],
   "source": [
    "vecs = torch.stack([torch.cat((v.origin, v.end)) for v in swarm.encoder.vectors])\n",
    "\n",
    "X0, X1 = vecs[:, 0].numpy().flatten(), vecs[:, 1].numpy().flatten()\n",
    "Y0, Y1 = vecs[:, 2].numpy().flatten(), vecs[:, 3].numpy().flatten()\n",
    "\n",
    "U = X1 - X0\n",
    "V = Y1 - Y0\n",
    "\n",
    "plt.quiver(X, Y, U, V, color=\"red\")"
   ]
  },
  {
   "cell_type": "code",
   "execution_count": null,
   "metadata": {},
   "outputs": [],
   "source": [
    "plt.quiver(U, V)"
   ]
  },
  {
   "cell_type": "code",
   "execution_count": null,
   "metadata": {},
   "outputs": [],
   "source": [
    "swarm.step_walkers()"
   ]
  },
  {
   "cell_type": "code",
   "execution_count": null,
   "metadata": {},
   "outputs": [],
   "source": [
    "len(swarm.walkers.encoder)"
   ]
  },
  {
   "cell_type": "code",
   "execution_count": null,
   "metadata": {
    "scrolled": true
   },
   "outputs": [],
   "source": [
    "swarm.walkers.balance()"
   ]
  },
  {
   "cell_type": "code",
   "execution_count": null,
   "metadata": {},
   "outputs": [],
   "source": [
    "np.unique(swarm.walkers.encoder.encode(swarm.walkers.observs).numpy(),axis=0)"
   ]
  },
  {
   "cell_type": "code",
   "execution_count": null,
   "metadata": {},
   "outputs": [],
   "source": [
    "co = Counter([str(np.arange(20)), str(np.arange(20))])"
   ]
  },
  {
   "cell_type": "code",
   "execution_count": null,
   "metadata": {},
   "outputs": [],
   "source": [
    "co"
   ]
  },
  {
   "cell_type": "code",
   "execution_count": null,
   "metadata": {},
   "outputs": [],
   "source": [
    "torch.stack((torch.arange(20), torch.arange(20))).shape"
   ]
  },
  {
   "cell_type": "code",
   "execution_count": null,
   "metadata": {
    "scrolled": true
   },
   "outputs": [],
   "source": [
    "def diversity_score(x, total=None):\n",
    "    n_different_rows = np.unique(to_numpy(x), axis=0).shape[0]\n",
    "    return n_different_rows if total is None else float(n_different_rows / total)"
   ]
  },
  {
   "cell_type": "code",
   "execution_count": null,
   "metadata": {},
   "outputs": [],
   "source": [
    "diversity_score(swarm.walkers.observs)"
   ]
  },
  {
   "cell_type": "code",
   "execution_count": null,
   "metadata": {},
   "outputs": [],
   "source": [
    "miau = str([10])\n",
    "type(miau.__hash__())"
   ]
  },
  {
   "cell_type": "code",
   "execution_count": null,
   "metadata": {},
   "outputs": [],
   "source": [
    "[hash(v) for v in swarm.walkers.encoder.vectors]"
   ]
  },
  {
   "cell_type": "code",
   "execution_count": null,
   "metadata": {},
   "outputs": [],
   "source": [
    "rewards = self.processed_rewards.float() ** self.reward_scale.float()\n",
    "dist = self.distances.float() ** self.dist_scale.float()\n",
    "virtual_reward = rewards * dist"
   ]
  },
  {
   "cell_type": "code",
   "execution_count": null,
   "metadata": {},
   "outputs": [],
   "source": [
    "A = np.array([[1, 1, 1, 0, 1, 1],\n",
    "              [1, 1, 1, 0, 1, 1],\n",
    "              [1, 3, 3, 0, 1, 3]])\n"
   ]
  },
  {
   "cell_type": "code",
   "execution_count": null,
   "metadata": {},
   "outputs": [],
   "source": [
    "np.unique(A, axis=0).shape[0]"
   ]
  },
  {
   "cell_type": "code",
   "execution_count": null,
   "metadata": {},
   "outputs": [],
   "source": [
    "rewards.shape"
   ]
  },
  {
   "cell_type": "code",
   "execution_count": null,
   "metadata": {},
   "outputs": [],
   "source": [
    "swarm.env.are_in_bounds(swarm.walkers.observs)\n"
   ]
  },
  {
   "cell_type": "code",
   "execution_count": null,
   "metadata": {},
   "outputs": [],
   "source": [
    "swarm.walkers"
   ]
  },
  {
   "cell_type": "code",
   "execution_count": null,
   "metadata": {},
   "outputs": [],
   "source": [
    "super(Swarm, swarm).__repr__()"
   ]
  },
  {
   "cell_type": "code",
   "execution_count": null,
   "metadata": {},
   "outputs": [],
   "source": [
    "from fragile.core.swarm import Swarm"
   ]
  },
  {
   "cell_type": "code",
   "execution_count": 6,
   "metadata": {},
   "outputs": [
    {
     "data": {
      "text/plain": [
       "tensor([[nan],\n",
       "        [nan],\n",
       "        [nan],\n",
       "        [nan],\n",
       "        [nan],\n",
       "        [nan],\n",
       "        [nan],\n",
       "        [nan],\n",
       "        [nan],\n",
       "        [nan],\n",
       "        [nan],\n",
       "        [nan],\n",
       "        [nan],\n",
       "        [nan],\n",
       "        [nan],\n",
       "        [nan],\n",
       "        [nan],\n",
       "        [nan],\n",
       "        [nan],\n",
       "        [nan],\n",
       "        [nan],\n",
       "        [nan],\n",
       "        [nan],\n",
       "        [nan],\n",
       "        [nan],\n",
       "        [nan],\n",
       "        [nan],\n",
       "        [nan],\n",
       "        [nan],\n",
       "        [nan],\n",
       "        [nan],\n",
       "        [nan],\n",
       "        [nan],\n",
       "        [nan],\n",
       "        [nan],\n",
       "        [nan],\n",
       "        [nan],\n",
       "        [nan],\n",
       "        [nan],\n",
       "        [nan],\n",
       "        [nan],\n",
       "        [nan],\n",
       "        [nan],\n",
       "        [nan],\n",
       "        [nan],\n",
       "        [nan],\n",
       "        [nan],\n",
       "        [nan],\n",
       "        [nan],\n",
       "        [nan],\n",
       "        [nan],\n",
       "        [nan],\n",
       "        [nan],\n",
       "        [nan],\n",
       "        [nan],\n",
       "        [nan],\n",
       "        [nan],\n",
       "        [nan],\n",
       "        [nan],\n",
       "        [nan],\n",
       "        [nan],\n",
       "        [nan],\n",
       "        [nan],\n",
       "        [nan],\n",
       "        [nan],\n",
       "        [nan],\n",
       "        [nan],\n",
       "        [nan],\n",
       "        [nan],\n",
       "        [nan],\n",
       "        [nan],\n",
       "        [nan],\n",
       "        [nan],\n",
       "        [nan],\n",
       "        [nan],\n",
       "        [nan],\n",
       "        [nan],\n",
       "        [nan],\n",
       "        [nan],\n",
       "        [nan],\n",
       "        [nan],\n",
       "        [nan],\n",
       "        [nan],\n",
       "        [nan],\n",
       "        [nan],\n",
       "        [nan],\n",
       "        [nan],\n",
       "        [nan],\n",
       "        [nan],\n",
       "        [nan],\n",
       "        [nan],\n",
       "        [nan],\n",
       "        [nan],\n",
       "        [nan],\n",
       "        [nan],\n",
       "        [nan],\n",
       "        [nan],\n",
       "        [nan],\n",
       "        [nan],\n",
       "        [nan]])"
      ]
     },
     "execution_count": 6,
     "metadata": {},
     "output_type": "execute_result"
    }
   ],
   "source": [
    "swarm.walkers.raw_pest"
   ]
  },
  {
   "cell_type": "code",
   "execution_count": 8,
   "metadata": {},
   "outputs": [],
   "source": [
    "def lj_func(x):\n",
    "    x = to_numpy(x)\n",
    "\n",
    "    def lennard_jones(U):\n",
    "        U = U.reshape(-1, 3)\n",
    "        npart = len(U)\n",
    "        Epot = 0.0\n",
    "        for i in range(npart):\n",
    "            for j in range(npart):\n",
    "                if i > j:\n",
    "                    r2 = np.linalg.norm(U[j, :] - U[i, :]) ** 2\n",
    "                    r2i = 1.0 / r2\n",
    "                    r6i = r2i * r2i * r2i\n",
    "                    Epot = Epot + r6i * (r6i - 1.0)\n",
    "        Epot = Epot * 4\n",
    "        return Epot\n",
    "\n",
    "    result = np.array([lennard_jones(x[i, :]) for i in range(x.shape[0])]).reshape(x.shape[0], 1)\n",
    "    return -1.0 * to_tensor(result)"
   ]
  },
  {
   "cell_type": "code",
   "execution_count": 13,
   "metadata": {},
   "outputs": [
    {
     "name": "stdout",
     "output_type": "stream",
     "text": [
      "178 ms ± 10.8 ms per loop (mean ± std. dev. of 7 runs, 1 loop each)\n"
     ]
    }
   ],
   "source": [
    "%timeit lj_func(swarm.walkers.observs)"
   ]
  },
  {
   "cell_type": "code",
   "execution_count": 13,
   "metadata": {},
   "outputs": [],
   "source": [
    "def lennard_jones(U):\n",
    "    U = U.reshape(-1, 3)\n",
    "    npart = len(U)\n",
    "    Epot = 0.0\n",
    "    for i in range(npart):\n",
    "        for j in range(npart):\n",
    "            if i > j:\n",
    "                r2 = np.linalg.norm(U[j, :] - U[i, :]) ** 2\n",
    "                r2i = 1.0 / r2\n",
    "                r6i = r2i * r2i * r2i\n",
    "                Epot = Epot + r6i * (r6i - 1.0)\n",
    "    Epot = Epot * 4\n",
    "    return Epot"
   ]
  },
  {
   "cell_type": "code",
   "execution_count": 18,
   "metadata": {},
   "outputs": [],
   "source": [
    "from numba import jit, prange\n",
    "\n",
    "@jit(nopython=True)\n",
    "def lennard_fast(U):\n",
    "    U = U.reshape(-1, 3)\n",
    "    npart = len(U)\n",
    "    Epot = 0.0\n",
    "    for i in range(npart):\n",
    "        for j in range(npart):\n",
    "            if i > j:\n",
    "                r2 = np.sum((U[j, :] - U[i, :]) ** 2)\n",
    "                r2i = 1.0 / r2\n",
    "                r6i = r2i * r2i * r2i\n",
    "                Epot = Epot + r6i * (r6i - 1.0)\n",
    "    Epot = Epot * 4\n",
    "    return Epot\n",
    "\n",
    "@jit(nopython=True, parallel=False)\n",
    "def numba_lennard(x):\n",
    "    result = np.zeros((x.shape[0], 1))\n",
    "    for i in range(x.shape[0]):\n",
    "        result[i,0] = lennard_fast(x[i])\n",
    "    return result\n",
    "\n",
    "def optim_lj(x):\n",
    "    x = to_numpy(x).astype(np.float64)\n",
    "    result = numba_lennard(x)\n",
    "    return to_tensor(x, dtype=torch.float64)"
   ]
  },
  {
   "cell_type": "code",
   "execution_count": 25,
   "metadata": {},
   "outputs": [
    {
     "data": {
      "text/plain": [
       "(932464.4173913806, 932464.4371204223)"
      ]
     },
     "execution_count": 25,
     "metadata": {},
     "output_type": "execute_result"
    }
   ],
   "source": [
    "lennard_fast(swarm.walkers.observs[0].numpy()), lennard_jones(swarm.walkers.observs[0].numpy())"
   ]
  },
  {
   "cell_type": "code",
   "execution_count": 20,
   "metadata": {},
   "outputs": [
    {
     "name": "stdout",
     "output_type": "stream",
     "text": [
      "726 µs ± 20.2 µs per loop (mean ± std. dev. of 7 runs, 1000 loops each)\n"
     ]
    }
   ],
   "source": [
    "%timeit lennard_jones(swarm.walkers.observs[0].numpy())"
   ]
  },
  {
   "cell_type": "code",
   "execution_count": 21,
   "metadata": {},
   "outputs": [
    {
     "name": "stdout",
     "output_type": "stream",
     "text": [
      "The slowest run took 5.36 times longer than the fastest. This could mean that an intermediate result is being cached.\n",
      "24.1 µs ± 21.7 µs per loop (mean ± std. dev. of 7 runs, 1 loop each)\n"
     ]
    }
   ],
   "source": [
    "%timeit lennard_fast(swarm.walkers.observs[0].numpy())"
   ]
  },
  {
   "cell_type": "code",
   "execution_count": 24,
   "metadata": {},
   "outputs": [
    {
     "name": "stdout",
     "output_type": "stream",
     "text": [
      "2.19 ms ± 104 µs per loop (mean ± std. dev. of 7 runs, 100 loops each)\n"
     ]
    }
   ],
   "source": [
    "%timeit optim_lj(swarm.walkers.observs)"
   ]
  },
  {
   "cell_type": "code",
   "execution_count": 25,
   "metadata": {},
   "outputs": [
    {
     "name": "stdout",
     "output_type": "stream",
     "text": [
      "171 ms ± 2.12 ms per loop (mean ± std. dev. of 7 runs, 1 loop each)\n"
     ]
    }
   ],
   "source": [
    "%timeit lj_func(swarm.walkers.observs)"
   ]
  },
  {
   "cell_type": "code",
   "execution_count": 31,
   "metadata": {},
   "outputs": [
    {
     "name": "stdout",
     "output_type": "stream",
     "text": [
      "2.78 ms ± 450 µs per loop (mean ± std. dev. of 7 runs, 1 loop each)\n"
     ]
    }
   ],
   "source": [
    "%timeit optim_lj(swarm.walkers.observs)"
   ]
  },
  {
   "cell_type": "code",
   "execution_count": 19,
   "metadata": {
    "scrolled": false
   },
   "outputs": [
    {
     "name": "stdout",
     "output_type": "stream",
     "text": [
      "18 ms ± 906 µs per loop (mean ± std. dev. of 7 runs, 1 loop each)\n"
     ]
    }
   ],
   "source": [
    "%timeit optim_lj(swarm.walkers.observs)"
   ]
  },
  {
   "cell_type": "code",
   "execution_count": 20,
   "metadata": {},
   "outputs": [
    {
     "name": "stdout",
     "output_type": "stream",
     "text": [
      "17.6 ms ± 277 µs per loop (mean ± std. dev. of 7 runs, 100 loops each)\n"
     ]
    }
   ],
   "source": [
    "%timeit optim_lj(swarm.walkers.observs)"
   ]
  },
  {
   "cell_type": "code",
   "execution_count": 7,
   "metadata": {
    "scrolled": true
   },
   "outputs": [],
   "source": [
    "from fragile.distributed.batches import apply_multiprocessing\n"
   ]
  },
  {
   "cell_type": "code",
   "execution_count": null,
   "metadata": {},
   "outputs": [],
   "source": [
    "result = apply_multiprocessing(swarm.env.minimizer.minimize_point, swarm.walkers.observs)\n",
    "\n",
    "pos, rewards = zip(*result)\n",
    "\n",
    "x = torch.stack(pos)\n",
    "rewards = torch.stack(rewards)\n"
   ]
  },
  {
   "cell_type": "code",
   "execution_count": 32,
   "metadata": {},
   "outputs": [],
   "source": [
    "p.map?"
   ]
  },
  {
   "cell_type": "code",
   "execution_count": 26,
   "metadata": {},
   "outputs": [
    {
     "data": {
      "text/plain": [
       "tensor([[ 2.3995e+00,  1.7209e+00,  1.5501e-01,  ...,  2.2894e+00,\n",
       "         -5.3225e-01,  2.7514e+00],\n",
       "        [-2.1698e+00, -1.8333e+00,  3.0575e+00,  ..., -1.0165e+00,\n",
       "         -4.1214e-01, -1.4977e+00],\n",
       "        [-6.5491e-04,  2.9456e+00,  2.7234e+00,  ...,  1.9849e-01,\n",
       "         -2.8312e+00, -1.4055e+00],\n",
       "        ...,\n",
       "        [-2.8405e+00, -1.8420e+00,  1.4498e+00,  ...,  5.9488e-02,\n",
       "          1.5545e+00,  5.4355e-01],\n",
       "        [ 2.1850e-01,  1.6207e+00, -1.8643e-01,  ..., -1.4061e+00,\n",
       "          2.8553e+00, -2.9721e-01],\n",
       "        [-3.5090e-02,  2.5683e+00,  3.0805e+00,  ...,  1.6770e-01,\n",
       "         -2.9292e+00, -1.5653e+00]], dtype=torch.float64)"
      ]
     },
     "execution_count": 26,
     "metadata": {},
     "output_type": "execute_result"
    }
   ],
   "source": [
    "torch.stack(pos)"
   ]
  },
  {
   "cell_type": "code",
   "execution_count": null,
   "metadata": {},
   "outputs": [],
   "source": []
  }
 ],
 "metadata": {
  "kernelspec": {
   "display_name": "Python 3",
   "language": "python",
   "name": "python3"
  },
  "language_info": {
   "codemirror_mode": {
    "name": "ipython",
    "version": 3
   },
   "file_extension": ".py",
   "mimetype": "text/x-python",
   "name": "python",
   "nbconvert_exporter": "python",
   "pygments_lexer": "ipython3",
   "version": "3.6.8"
  }
 },
 "nbformat": 4,
 "nbformat_minor": 2
}
