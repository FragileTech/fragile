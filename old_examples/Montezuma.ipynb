{
 "cells": [
  {
   "cell_type": "code",
   "execution_count": null,
   "metadata": {},
   "outputs": [],
   "source": [
    "import warnings\n",
    "warnings.filterwarnings(\"ignore\")\n",
    "from fragile.atari.swarm import MontezumaSwarm\n",
    "import ray\n",
    "ray.init()"
   ]
  },
  {
   "cell_type": "code",
   "execution_count": null,
   "metadata": {
    "scrolled": true
   },
   "outputs": [],
   "source": [
    "swarm = MontezumaSwarm.create_swarm(n_walkers=75,\n",
    "                                    max_iters=1000,\n",
    "                                    prune_tree=True,\n",
    "                                    use_tree=False,\n",
    "                                    reward_scale=4,\n",
    "                                    dist_scale=0.5,\n",
    "                                    plot_step=2,\n",
    "                                    critic_scale=2,\n",
    "                                   episodic_rewad=True)"
   ]
  },
  {
   "cell_type": "code",
   "execution_count": null,
   "metadata": {},
   "outputs": [],
   "source": [
    "import matplotlib.pyplot as plt\n",
    "%matplotlib inline\n"
   ]
  },
  {
   "cell_type": "code",
   "execution_count": null,
   "metadata": {},
   "outputs": [],
   "source": [
    "dmap = swarm.plot_dmap()\n",
    "dmap"
   ]
  },
  {
   "cell_type": "code",
   "execution_count": null,
   "metadata": {},
   "outputs": [],
   "source": [
    "_ = swarm.run_swarm(print_every=1)"
   ]
  },
  {
   "cell_type": "code",
   "execution_count": null,
   "metadata": {},
   "outputs": [],
   "source": [
    "swarm.walkers.env_states.states.dtype"
   ]
  },
  {
   "cell_type": "code",
   "execution_count": null,
   "metadata": {},
   "outputs": [],
   "source": [
    "import holoviews as hv\n",
    "hv.extension(\"matplotlib\")\n",
    "dmap[0].opts(normalize=True)"
   ]
  },
  {
   "cell_type": "code",
   "execution_count": null,
   "metadata": {},
   "outputs": [],
   "source": [
    "for x in swarm.walkers.env_states.states.reshape(swarm.walkers.n, -1)[0]:\n",
    "    print(x)"
   ]
  },
  {
   "cell_type": "code",
   "execution_count": null,
   "metadata": {},
   "outputs": [],
   "source": [
    "import numpy as np\n",
    "np.prod((210,160,3))"
   ]
  },
  {
   "cell_type": "code",
   "execution_count": null,
   "metadata": {},
   "outputs": [],
   "source": [
    "swarm.plot_critic()"
   ]
  },
  {
   "cell_type": "code",
   "execution_count": null,
   "metadata": {},
   "outputs": [],
   "source": [
    "import time\n",
    "import numpy as np\n",
    "import pandas as pd\n",
    "import holoviews as hv\n",
    "import streamz\n",
    "import streamz.dataframe\n",
    "\n",
    "from holoviews import opts\n",
    "from holoviews.streams import Pipe, Buffer\n",
    "\n",
    "hv.extension('bokeh')"
   ]
  },
  {
   "cell_type": "code",
   "execution_count": null,
   "metadata": {},
   "outputs": [],
   "source": [
    "hv.Image(data)"
   ]
  },
  {
   "cell_type": "code",
   "execution_count": null,
   "metadata": {},
   "outputs": [],
   "source": [
    "pipe = Pipe(data=[])\n",
    "vector_dmap = hv.DynamicMap(hv.Image, streams=[pipe])\n",
    "vector_dmap.opts(xlim=(-0.5, 0.5), ylim=(-0.5, 0.5))"
   ]
  },
  {
   "cell_type": "code",
   "execution_count": null,
   "metadata": {},
   "outputs": [],
   "source": [
    "x,y  = np.mgrid[-10:11,-10:11] * 0.1\n",
    "sine_rings  = np.sin(x**2+y**2)*np.pi+np.pi\n",
    "exp_falloff = 1/np.exp((x**2+y**2)/8)\n",
    "\n",
    "for i in range(10):\n",
    "    time.sleep(0.1)\n",
    "    data = swarm.walkers.env_states.observs[i, :-3].reshape((210, 160, 3))\n",
    "    pipe.send(data)"
   ]
  },
  {
   "cell_type": "code",
   "execution_count": null,
   "metadata": {},
   "outputs": [],
   "source": [
    "import numpy as np\n",
    "from plangym import ParallelEnvironment\n",
    "from plangym.minimal_montezuma import Montezuma\n",
    "#from plangym.montezuma import Montezuma\n",
    "\n",
    "from fragile.core.env import DiscreteEnv\n",
    "from fragile.core.dt_sampler import GaussianDt\n",
    "from fragile.core.models import RandomDiscrete\n",
    "from fragile.core.states import States\n",
    "from fragile.core.swarm import Swarm\n",
    "from fragile.core.walkers import Walkers\n",
    "from fragile.core.tree import HistoryTree\n",
    "from fragile.atari.walkers import MontezumaWalkers\n",
    "from fragile.atari.critics import MontezumaGrid\n",
    "env = ParallelEnvironment(\n",
    "        env_class=Montezuma,\n",
    "        name=None,\n",
    "        autoreset=True,\n",
    "        blocking=False,\n",
    "    episodic_live=True,\n",
    "    min_dt=1,\n",
    "    )\n",
    "dt = GaussianDt(min_dt=3, max_dt=1000, loc_dt=4, scale_dt=2)\n",
    "\n",
    "swarm = Swarm(\n",
    "    model=lambda x: RandomDiscrete(x, dt_sampler=dt),\n",
    "    walkers=MontezumaWalkers,\n",
    "    env=lambda: DiscreteEnv(env),\n",
    "    n_walkers=50,\n",
    "    max_iters=25,\n",
    "    prune_tree=True,\n",
    "    reward_scale=2,\n",
    "    dist_scale=4,\n",
    "    tree=HistoryTree,\n",
    "    critic=MontezumaGrid(),\n",
    "    \n",
    ")\n",
    "\n"
   ]
  },
  {
   "cell_type": "code",
   "execution_count": null,
   "metadata": {},
   "outputs": [],
   "source": [
    "from holoviews.streams import Pipe, Buffer\n",
    "from streamz.dataframe import DataFrame\n",
    "from streamz import Stream\n",
    "import holoviews as hv\n",
    "import hvplot.pandas\n",
    "import hvplot.streamz\n",
    "import numpy as np\n",
    "import pandas as pd\n",
    "hv.extension(\"bokeh\")"
   ]
  },
  {
   "cell_type": "code",
   "execution_count": null,
   "metadata": {},
   "outputs": [],
   "source": [
    "mm = Montezuma()"
   ]
  },
  {
   "cell_type": "code",
   "execution_count": null,
   "metadata": {},
   "outputs": [],
   "source": [
    "o = mm.env.reset()"
   ]
  },
  {
   "cell_type": "code",
   "execution_count": null,
   "metadata": {
    "scrolled": true
   },
   "outputs": [],
   "source": [
    "o"
   ]
  },
  {
   "cell_type": "code",
   "execution_count": null,
   "metadata": {},
   "outputs": [],
   "source": [
    "plt.imshow(o[50:, :, 0])"
   ]
  },
  {
   "cell_type": "code",
   "execution_count": null,
   "metadata": {},
   "outputs": [],
   "source": [
    "from PIL import Image\n",
    "def resize_frame(frame: np.ndarray, height: int, width: int, mode=\"RGB\") -> np.ndarray:\n",
    "    \"\"\"\n",
    "    Use PIL to resize an RGB frame to an specified height and width.\n",
    "\n",
    "    Args:\n",
    "        frame: Target numpy array representing the image that will be resized.\n",
    "        height: Height of the resized image.\n",
    "        width: Width of the resized image.\n",
    "\n",
    "    Returns:\n",
    "        The resized frame that matches the provided width and height.\n",
    "    \"\"\"\n",
    "    frame = Image.fromarray(frame)\n",
    "    frame = frame.convert(mode).resize((height, width))\n",
    "    return np.array(frame)"
   ]
  },
  {
   "cell_type": "code",
   "execution_count": null,
   "metadata": {},
   "outputs": [],
   "source": [
    "#def plot_memory(raw_observ, )\n",
    "background = o[50:, :, ].mean(axis=2).astype(bool)\n",
    "peste = resize_frame(df.values.T[::1, ::1], 160, 160, \"L\")\n",
    "peste = peste / peste.max()# * 255\n",
    "hv.Image(background)*hv.Image(peste).opts(alpha=0.7)"
   ]
  },
  {
   "cell_type": "code",
   "execution_count": null,
   "metadata": {},
   "outputs": [],
   "source": [
    "background.astype(int).tostring()"
   ]
  },
  {
   "cell_type": "code",
   "execution_count": null,
   "metadata": {},
   "outputs": [],
   "source": [
    "(hv.Image(o).opts(norm={'axiswise': True})+hv.Raster(df.values.T[::1, ::1]).opts(alpha=0.5, normalize=True)).opts(norm={'axiswise': True})"
   ]
  },
  {
   "cell_type": "code",
   "execution_count": null,
   "metadata": {},
   "outputs": [],
   "source": [
    "df = swarm.critic.buffer_df"
   ]
  },
  {
   "cell_type": "code",
   "execution_count": null,
   "metadata": {},
   "outputs": [],
   "source": [
    "df.hvplot(kind=\"heatmap\")"
   ]
  },
  {
   "cell_type": "code",
   "execution_count": null,
   "metadata": {},
   "outputs": [],
   "source": [
    "swarm.critic.plot_grid()"
   ]
  },
  {
   "cell_type": "code",
   "execution_count": null,
   "metadata": {},
   "outputs": [],
   "source": [
    "df = pd.DataFrame(swarm.critic.memory[:, :, 0],\n",
    "                                      columns=swarm.critic._cols, index=swarm.critic._index)"
   ]
  },
  {
   "cell_type": "code",
   "execution_count": null,
   "metadata": {},
   "outputs": [],
   "source": [
    "_ = swarm.run_swarm(print_every=10)"
   ]
  },
  {
   "cell_type": "code",
   "execution_count": null,
   "metadata": {},
   "outputs": [],
   "source": [
    "x = np.zeros((5,5))\n",
    "x[[1,2], [0, 2]] = x[[1,2], [0, 2]] + 1\n",
    "x"
   ]
  },
  {
   "cell_type": "code",
   "execution_count": null,
   "metadata": {},
   "outputs": [],
   "source": [
    "from plangym.montezuma import MyMontezuma"
   ]
  },
  {
   "cell_type": "code",
   "execution_count": null,
   "metadata": {},
   "outputs": [],
   "source": [
    "mm = MyMontezuma()"
   ]
  },
  {
   "cell_type": "code",
   "execution_count": null,
   "metadata": {},
   "outputs": [],
   "source": [
    "o = mm.env.reset()"
   ]
  },
  {
   "cell_type": "code",
   "execution_count": null,
   "metadata": {},
   "outputs": [],
   "source": [
    "mm.get_face_pixels(o)"
   ]
  },
  {
   "cell_type": "code",
   "execution_count": null,
   "metadata": {},
   "outputs": [],
   "source": [
    "np.where(o[:, :, 0] == 228)"
   ]
  },
  {
   "cell_type": "code",
   "execution_count": null,
   "metadata": {},
   "outputs": [],
   "source": [
    "face_pixels = [(y, x * mm.x_repeat) for y, x in mm.get_face_pixels(o)]\n",
    "np.mean(face_pixels,axis=0)"
   ]
  },
  {
   "cell_type": "code",
   "execution_count": null,
   "metadata": {},
   "outputs": [],
   "source": [
    "import matplotlib.pyplot as plt\n",
    "%matplotlib inline\n",
    "plt.imshow(o[50:, :, 0] == 228)"
   ]
  },
  {
   "cell_type": "code",
   "execution_count": null,
   "metadata": {},
   "outputs": [],
   "source": [
    "o[50:, :, 0].shape"
   ]
  },
  {
   "cell_type": "code",
   "execution_count": null,
   "metadata": {},
   "outputs": [],
   "source": [
    "x = swarm.walkers.env_states.observs[:, -3]\n",
    "y = swarm.walkers.env_states.observs[:, -2]\n",
    "rooms = swarm.walkers.env_states.observs[:, -1]\n",
    "rooms"
   ]
  },
  {
   "cell_type": "code",
   "execution_count": null,
   "metadata": {},
   "outputs": [],
   "source": [
    "grid = np.arange(320*160).reshape((320, 160, 1))"
   ]
  },
  {
   "cell_type": "code",
   "execution_count": null,
   "metadata": {},
   "outputs": [],
   "source": [
    "grid[x.astype(int), y.astype(int), rooms.astype(int)]"
   ]
  },
  {
   "cell_type": "code",
   "execution_count": null,
   "metadata": {},
   "outputs": [],
   "source": [
    "np.mean([78, 80, 81, 78, 79, 80, 81, 79, 80, 81])"
   ]
  },
  {
   "cell_type": "code",
   "execution_count": null,
   "metadata": {
    "scrolled": true
   },
   "outputs": [],
   "source": [
    "for i in range(3):\n",
    "    mm.step(mm.env.action_space.sample())\n",
    "    mm.render()\n",
    "    print(mm.pos)"
   ]
  },
  {
   "cell_type": "code",
   "execution_count": null,
   "metadata": {},
   "outputs": [],
   "source": [
    "old = {1,2,3,4,5}\n",
    "new = {1,3,5}"
   ]
  },
  {
   "cell_type": "code",
   "execution_count": null,
   "metadata": {},
   "outputs": [],
   "source": [
    "old-new"
   ]
  },
  {
   "cell_type": "code",
   "execution_count": null,
   "metadata": {},
   "outputs": [],
   "source": [
    "env.pos"
   ]
  },
  {
   "cell_type": "code",
   "execution_count": null,
   "metadata": {},
   "outputs": [],
   "source": [
    "import matplotlib.pyplot as plt\n",
    "%matplotlib inline"
   ]
  },
  {
   "cell_type": "code",
   "execution_count": null,
   "metadata": {},
   "outputs": [],
   "source": [
    "plt.imshow(obs[25:185,:,])"
   ]
  },
  {
   "cell_type": "code",
   "execution_count": null,
   "metadata": {},
   "outputs": [],
   "source": [
    "15 *15"
   ]
  },
  {
   "cell_type": "code",
   "execution_count": null,
   "metadata": {},
   "outputs": [],
   "source": [
    "from PIL import Image\n",
    "def resize_frame(frame: np.ndarray, height: int, width: int, mode=\"RGB\") -> np.ndarray:\n",
    "    \"\"\"\n",
    "    Use PIL to resize an RGB frame to an specified height and width.\n",
    "\n",
    "    Args:\n",
    "        frame: Target numpy array representing the image that will be resized.\n",
    "        height: Height of the resized image.\n",
    "        width: Width of the resized image.\n",
    "\n",
    "    Returns:\n",
    "        The resized frame that matches the provided width and height.\n",
    "    \"\"\"\n",
    "    frame = Image.fromarray(frame)\n",
    "    frame = frame.convert(mode).resize((height, width))\n",
    "    return np.array(frame)"
   ]
  },
  {
   "cell_type": "code",
   "execution_count": null,
   "metadata": {},
   "outputs": [],
   "source": [
    "plt.imshow(resize_frame(obs[25:185,:], width=45, height=45, mode=\"L\"))"
   ]
  },
  {
   "cell_type": "code",
   "execution_count": null,
   "metadata": {},
   "outputs": [],
   "source": [
    "swarm.run_swarm?"
   ]
  },
  {
   "cell_type": "code",
   "execution_count": null,
   "metadata": {},
   "outputs": [],
   "source": [
    "state, obs = env.reset()\n",
    "\n",
    "states = [state.copy() for _ in range(10)]\n",
    "actions = [env.action_space.sample() for _ in range(10)]\n",
    "\n",
    "data = env.step_batch(states=states, actions=actions)\n",
    "new_states, observs, rewards, ends, infos = data"
   ]
  }
 ],
 "metadata": {
  "kernelspec": {
   "display_name": "Python 3",
   "language": "python",
   "name": "python3"
  },
  "language_info": {
   "codemirror_mode": {
    "name": "ipython",
    "version": 3
   },
   "file_extension": ".py",
   "mimetype": "text/x-python",
   "name": "python",
   "nbconvert_exporter": "python",
   "pygments_lexer": "ipython3",
   "version": "3.6.9"
  }
 },
 "nbformat": 4,
 "nbformat_minor": 2
}
