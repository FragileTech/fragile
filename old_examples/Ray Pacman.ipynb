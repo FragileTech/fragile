{
 "cells": [
  {
   "cell_type": "code",
   "execution_count": null,
   "metadata": {},
   "outputs": [],
   "source": [
    "import ray\n",
    "ray.init(ignore_reinit_error=True, object_store_memory=2 *1024 * 1024 * 1024)#, memory=1 * 1024 * 1024, num_cpus=4)"
   ]
  },
  {
   "cell_type": "code",
   "execution_count": null,
   "metadata": {},
   "outputs": [],
   "source": [
    "import numpy as np\n",
    "from plangym import AtariEnvironment, ParallelEnvironment\n",
    "from fragile.ray.swarm import RemoteSwarm, DistributedSwarm, ParamServer\n",
    "from fragile.ray.demos import DistributedRam\n",
    "\n",
    "from fragile.atari.env import AtariEnv\n",
    "from fragile.core.dt_sampler import GaussianDt\n",
    "from fragile.core.env import DiscreteEnv\n",
    "from fragile.core.models import RandomDiscrete\n",
    "from fragile.core.states import States\n",
    "from fragile.core.swarm import Swarm\n",
    "from fragile.core.tree import HistoryTree\n",
    "from fragile.core.walkers import Walkers\n",
    "\n",
    "def create_swarm():\n",
    "    \n",
    "    env = AtariEnvironment(name=\"MsPacman-ram-v0\",\n",
    "            clone_seeds=True,\n",
    "            autoreset=True)\n",
    "\n",
    "    dt = GaussianDt(min_dt=3, max_dt=1000, loc_dt=4, scale_dt=2)\n",
    "    swarm = Swarm(\n",
    "        model=lambda x: RandomDiscrete(x, dt_sampler=dt),\n",
    "        walkers=Walkers,\n",
    "        env=lambda: AtariEnv(env),\n",
    "        n_walkers=25,\n",
    "        max_iters=10000000000000000,\n",
    "        prune_tree=True,\n",
    "        reward_scale=2,\n",
    "        minimize=False,\n",
    "        tree=None, #HistoryTree,\n",
    "    )\n",
    "    return swarm\n",
    "import hvplot.pandas"
   ]
  },
  {
   "cell_type": "code",
   "execution_count": null,
   "metadata": {},
   "outputs": [],
   "source": [
    "rs = DistributedRam(create_swarm, n_swarms=4, max_iters_ray=10000, log_every=10, n_comp_add=3, n_param_servers=1)"
   ]
  },
  {
   "cell_type": "code",
   "execution_count": null,
   "metadata": {},
   "outputs": [],
   "source": [
    "dmap = rs.plot()\n",
    "dmap"
   ]
  },
  {
   "cell_type": "code",
   "execution_count": null,
   "metadata": {},
   "outputs": [],
   "source": [
    "rs.run_swarm()"
   ]
  },
  {
   "cell_type": "code",
   "execution_count": null,
   "metadata": {},
   "outputs": [],
   "source": []
  }
 ],
 "metadata": {
  "kernelspec": {
   "display_name": "Python 3",
   "language": "python",
   "name": "python3"
  },
  "language_info": {
   "codemirror_mode": {
    "name": "ipython",
    "version": 3
   },
   "file_extension": ".py",
   "mimetype": "text/x-python",
   "name": "python",
   "nbconvert_exporter": "python",
   "pygments_lexer": "ipython3",
   "version": "3.6.9"
  }
 },
 "nbformat": 4,
 "nbformat_minor": 2
}
