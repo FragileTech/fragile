{
 "cells": [
  {
   "cell_type": "code",
   "execution_count": null,
   "metadata": {},
   "outputs": [],
   "source": [
    "import numpy as np\n",
    "from plangym import AtariEnvironment, ParallelEnvironment\n",
    "\n",
    "from fragile.core.dt_sampler import GaussianDt\n",
    "from fragile.core.env import DiscreteEnv\n",
    "from fragile.core.models import RandomDiscrete\n",
    "from fragile.core.states import States\n",
    "from fragile.core.swarm import Swarm\n",
    "from fragile.core.walkers import Walkers\n",
    "from fragile.atari.env import AtariEnv\n",
    "from fragile.atari.walkers import AtariWalkers\n",
    "from fragile.experimental.walkers import MetricWalkers\n",
    "from fragile.core.tree import HistoryTree\n",
    "\n",
    "env = ParallelEnvironment(\n",
    "        env_class=AtariEnvironment,\n",
    "        name=\"MsPacman-ram-v0\",\n",
    "        clone_seeds=True,\n",
    "        autoreset=True,\n",
    "        blocking=False,\n",
    "        episodic_live=True,\n",
    "        min_dt=2,\n",
    "    )\n",
    "dt = GaussianDt(min_dt=2, max_dt=1000, loc_dt=3, scale_dt=2)\n",
    "swarm = Swarm(\n",
    "        model=lambda x: RandomDiscrete(x, dt_sampler=dt),\n",
    "        walkers=lambda **kwargs: MetricWalkers.from_walkers_class(Walkers, **kwargs),\n",
    "        env=lambda: AtariEnv(env),\n",
    "        n_walkers=40,\n",
    "        max_iters=100,\n",
    "        prune_tree=False,\n",
    "        reward_scale=2,\n",
    "        minimize=False,\n",
    "        tree=HistoryTree,\n",
    "        use_tree=True,\n",
    "        plot_interval=50,\n",
    "\n",
    "    )\n",
    "\n",
    "\n",
    "swarm.walkers.accumulate_rewards = True\n"
   ]
  },
  {
   "cell_type": "code",
   "execution_count": null,
   "metadata": {},
   "outputs": [],
   "source": [
    "swarm.walkers.plot_best_evolution()"
   ]
  },
  {
   "cell_type": "code",
   "execution_count": null,
   "metadata": {
    "scrolled": true
   },
   "outputs": [],
   "source": [
    "\n",
    "_ = swarm.run_swarm(print_every=100)\n",
    "#swarm.tree.data.remove_node(0)"
   ]
  },
  {
   "cell_type": "code",
   "execution_count": null,
   "metadata": {},
   "outputs": [],
   "source": [
    "import networkx as nx\n",
    "pos = nx.nx_pydot.graphviz_layout(swarm.tree.data, prog='dot')"
   ]
  },
  {
   "cell_type": "code",
   "execution_count": null,
   "metadata": {},
   "outputs": [],
   "source": []
  },
  {
   "cell_type": "code",
   "execution_count": null,
   "metadata": {
    "scrolled": true
   },
   "outputs": [],
   "source": [
    "obs = obs = get_game_observs(swarm)"
   ]
  },
  {
   "cell_type": "code",
   "execution_count": null,
   "metadata": {},
   "outputs": [],
   "source": [
    "plot_g = get_plot_graph(swarm)"
   ]
  },
  {
   "cell_type": "code",
   "execution_count": null,
   "metadata": {},
   "outputs": [],
   "source": [
    "a.pop(\"cac\")"
   ]
  },
  {
   "cell_type": "code",
   "execution_count": null,
   "metadata": {},
   "outputs": [],
   "source": [
    "import pickle \n",
    "with open('embeddings_tree_demo.pickle', 'wb') as handle:\n",
    "    pickle.dump(embs, handle, protocol=pickle.HIGHEST_PROTOCOL)"
   ]
  },
  {
   "cell_type": "code",
   "execution_count": null,
   "metadata": {
    "scrolled": true
   },
   "outputs": [],
   "source": []
  },
  {
   "cell_type": "code",
   "execution_count": null,
   "metadata": {
    "scrolled": false
   },
   "outputs": [],
   "source": [
    "\n",
    "\n",
    "\n"
   ]
  },
  {
   "cell_type": "code",
   "execution_count": null,
   "metadata": {
    "scrolled": true
   },
   "outputs": [],
   "source": [
    "embs = create_embedding_layout(swarm)"
   ]
  },
  {
   "cell_type": "code",
   "execution_count": null,
   "metadata": {},
   "outputs": [],
   "source": [
    "import pickle \n",
    "with open('embeddings.pickle', 'wb') as handle:\n",
    "    pickle.dump(embs, handle, protocol=pickle.HIGHEST_PROTOCOL)"
   ]
  },
  {
   "cell_type": "code",
   "execution_count": null,
   "metadata": {},
   "outputs": [],
   "source": [
    "%%HTML\n",
    "<style>\n",
    ".container { width:100% !important; }\n",
    ".input{ width:60% !important;\n",
    "       align: center;\n",
    "      }\n",
    ".text_cell{ width:70% !important;\n",
    "            font-size: 16px;}\n",
    ".title {align:center !important;}\n",
    "</style>\n",
    "\n"
   ]
  },
  {
   "cell_type": "code",
   "execution_count": null,
   "metadata": {},
   "outputs": [],
   "source": [
    "states, actions, n_iters, nodes, edges = get_best_path(swarm)"
   ]
  },
  {
   "cell_type": "code",
   "execution_count": null,
   "metadata": {},
   "outputs": [],
   "source": [
    "len(states), len(actions)"
   ]
  },
  {
   "cell_type": "code",
   "execution_count": null,
   "metadata": {},
   "outputs": [],
   "source": [
    "obs = get_game_observs(swarm)"
   ]
  },
  {
   "cell_type": "code",
   "execution_count": null,
   "metadata": {},
   "outputs": [],
   "source": [
    "import pickle \n",
    "with open('observs_tree_demo.pickle', 'wb') as handle:\n",
    "    pickle.dump(obs, handle, protocol=pickle.HIGHEST_PROTOCOL)"
   ]
  },
  {
   "cell_type": "code",
   "execution_count": null,
   "metadata": {},
   "outputs": [],
   "source": [
    "import pickle \n",
    "with open('pos_tree_demo.pickle', 'wb') as handle:\n",
    "    pickle.dump(pos, handle, protocol=pickle.HIGHEST_PROTOCOL)"
   ]
  },
  {
   "cell_type": "code",
   "execution_count": null,
   "metadata": {},
   "outputs": [],
   "source": [
    "plot_g = get_plot_graph(swarm)\n",
    "\n",
    "import pickle \n",
    "with open('graph_tree_demo.pickle', 'wb') as handle:\n",
    "    pickle.dump(plot_g, handle, protocol=pickle.HIGHEST_PROTOCOL)"
   ]
  },
  {
   "cell_type": "code",
   "execution_count": null,
   "metadata": {},
   "outputs": [],
   "source": [
    "from plot_swarm import plot_iteration, get_plot_graph, get_game_observs, create_embedding_layout"
   ]
  },
  {
   "cell_type": "code",
   "execution_count": null,
   "metadata": {},
   "outputs": [],
   "source": [
    "import pickle \n",
    "with open(\"pos.pickle\", \"rb\") as f:\n",
    "    pos = pickle.load(f)\n",
    "\n",
    "with open(\"observs.pickle\", \"rb\") as f:\n",
    "    obs = pickle.load(f)\n",
    "\n",
    "with open(\"graph.pickle\", \"rb\") as f:\n",
    "    plot_g = pickle.load(f)"
   ]
  },
  {
   "cell_type": "code",
   "execution_count": null,
   "metadata": {},
   "outputs": [],
   "source": [
    "import holoviews as hv\n",
    "hv.extension(\"bokeh\")"
   ]
  },
  {
   "cell_type": "code",
   "execution_count": null,
   "metadata": {},
   "outputs": [],
   "source": [
    "def _plot_subgraph(plot_g, embs, bundle: bool=False):\n",
    "    graph = hv.Graph.from_networkx(plot_g, embs)\n",
    "\n",
    "    graph.opts(node_color=hv.dim('cum_reward') ** 1/2, node_cmap=\"viridis\", node_size=hv.dim('last_size'),\n",
    "               edge_line_width=hv.dim('final')*2,\n",
    "               node_line_width=1.5,\n",
    "               node_alpha=0.8,\n",
    "               xaxis=None, yaxis=None,\n",
    "               edge_alpha=hv.dim('final'), edge_line_color=hv.dim('final'), edge_cmap=[\"white\", \"red\"],\n",
    "               node_line_color=\"red\", node_line_alpha=hv.dim('last_line_alpha'),\n",
    "               width=800, height=600, bgcolor='gray', colorbar=True, title=\"Sampling MsPacman-ram using a FractalAI Swarm\")\n",
    "    if bundle:\n",
    "        bundled = bundle_graph(graph)\n",
    "        return bundled.opts(norm=dict(framewise=True))\n",
    "    return graph.opts(norm=dict(framewise=True))"
   ]
  },
  {
   "cell_type": "code",
   "execution_count": null,
   "metadata": {},
   "outputs": [],
   "source": [
    "def plot_subgraph_embs(plot_g, embs, bundle: bool=False):\n",
    "    graph = hv.Graph.from_networkx(plot_g, embs)\n",
    "\n",
    "    graph.opts(node_color=hv.dim('cum_reward'), node_cmap=\"viridis\", node_size=hv.dim('last_size'),\n",
    "               edge_line_width=hv.dim('final'),\n",
    "               node_line_width=1.5,\n",
    "               node_alpha=0.8,\n",
    "               xaxis=None, yaxis=None,\n",
    "               edge_alpha=hv.dim('final')*2, edge_line_color=hv.dim('final'), edge_cmap=[\"white\", \"red\"],\n",
    "               node_line_color=\"red\", node_line_alpha=hv.dim('last_line_alpha'),\n",
    "               width=800, height=600, bgcolor='gray', colorbar=True)\n",
    "    if bundle:\n",
    "        bundled = bundle_graph(graph)\n",
    "        return bundled.opts(norm=dict(framewise=True))\n",
    "    return graph.opts(norm=dict(framewise=True))"
   ]
  },
  {
   "cell_type": "code",
   "execution_count": null,
   "metadata": {},
   "outputs": [],
   "source": [
    "import numpy as np\n",
    "for n in plot_g.nodes:\n",
    "    if \"reward\" in plot_g.nodes[n]:\n",
    "        plot_g.nodes[n][\"reward\"] = np.log(plot_g.nodes[n][\"reward\"] + 1)\n",
    "        #plot_g.nodes[n][\"cum_reward\"] = np.log(plot_g.nodes[n][\"cum_reward\"] + 1)"
   ]
  },
  {
   "cell_type": "code",
   "execution_count": null,
   "metadata": {},
   "outputs": [],
   "source": [
    "embs = create_embedding_layout(swarm)"
   ]
  },
  {
   "cell_type": "code",
   "execution_count": null,
   "metadata": {},
   "outputs": [],
   "source": [
    "from functools import partial\n",
    "_plot_func = partial(plot_iteration, graph=plot_g, embeddings=embs, observs=obs, plot_func=plot_subgraph_embs)\n",
    "from matplotlib.cm import viridis\n",
    "def plot_func(iteration=1, memory=1, bundle=False):\n",
    "    return _plot_func(iteration, start=max(0, iteration - memory), bundle=bundle).opts(shared_axes=False)\n",
    "\n",
    "# When run live, this cell's output should match the behavior of the GIF below\n",
    "dmap = hv.DynamicMap(plot_func, kdims=['iteration', \"memory\"])\n",
    "dmap.redim.range(iteration=(1,99), memory=(99,1))# * dynspread(datashade(plot_func(200, 200).nodes,cmap=viridis))"
   ]
  },
  {
   "cell_type": "code",
   "execution_count": null,
   "metadata": {},
   "outputs": [],
   "source": [
    "from holoviews.operation.datashader import datashade, dynspread\n",
    "dynspread(datashade(plot_func(100, 100).nodes,cmap=[\"cyan\"]))"
   ]
  },
  {
   "cell_type": "code",
   "execution_count": null,
   "metadata": {},
   "outputs": [],
   "source": [
    "obs.keys()"
   ]
  },
  {
   "cell_type": "code",
   "execution_count": null,
   "metadata": {
    "scrolled": true
   },
   "outputs": [],
   "source": [
    "for i in range(1, 100):\n",
    "    plot = plot_func(i, 1)\n",
    "    hv.save(plot, 'swarm_points/walkers{0:04d}.png'.format(i))"
   ]
  },
  {
   "cell_type": "code",
   "execution_count": null,
   "metadata": {},
   "outputs": [],
   "source": [
    "from PIL import Image\n",
    "import os\n",
    "def assemble_gif(name: str, img_dir=\"tree_s\"):\n",
    "    \n",
    "    dirs = os.listdir(img_dir)\n",
    "    dirs.sort(key=lambda v: int(v.split(\".\")[0].split(\"s\")[-1]))  # sort numerically\n",
    "    dirs = [os.path.join(img_dir, d) for d in dirs]\n",
    "    im1 = Image.open(dirs[0])\n",
    "    gif_imgs = [Image.open(d) for d in dirs[1:]]\n",
    "    im1.save(\n",
    "        \"%s.gif\" % name,\n",
    "        save_all=True,\n",
    "        append_images=gif_imgs,\n",
    "        loop=0,\n",
    "        duration=100,\n",
    "    )\n",
    "\n",
    "assemble_gif(\"swarm_short\", img_dir=\"swarm_points\")"
   ]
  },
  {
   "cell_type": "code",
   "execution_count": null,
   "metadata": {},
   "outputs": [],
   "source": [
    "g, new_embs = create_subgraph(15, 20, plot_g, embs)"
   ]
  },
  {
   "cell_type": "code",
   "execution_count": null,
   "metadata": {},
   "outputs": [],
   "source": [
    "plot_g = get_plot_graph(swarm)\n",
    "\n",
    "graph = plot_graph(plot_g, embs)"
   ]
  },
  {
   "cell_type": "code",
   "execution_count": null,
   "metadata": {
    "scrolled": true
   },
   "outputs": [],
   "source": [
    "%%file plot_swarm.py\n",
    "import numpy as np\n",
    "import hvplot\n",
    "import hvplot.pandas\n",
    "import hvplot.networkx as hvnx\n",
    "import networkx as nx\n",
    "import holoviews as hv\n",
    "from fragile.core.utils import resize_frame\n",
    "from umap import UMAP\n",
    "import copy\n",
    "import warnings\n",
    "from holoviews.operation.datashader import datashade, bundle_graph\n",
    "warnings.filterwarnings(\"ignore\")\n",
    "hv.extension(\"bokeh\")\n",
    "\n",
    "def get_path_nodes_and_edges(g, leaf_name):\n",
    "    parent = -100\n",
    "    nodes = [int(leaf_name)]\n",
    "    edges = []\n",
    "    while parent != 0:\n",
    "        parents = list(g.in_edges([leaf_name]))\n",
    "        try:\n",
    "            parent = parents[0][0]\n",
    "            nodes.append(parent)\n",
    "            edges.append(tuple([parent, leaf_name]))\n",
    "            leaf_name = int(parent)\n",
    "        except:\n",
    "            print(parent, leaf_name)\n",
    "            return nodes, edges\n",
    "    return nodes, edges\n",
    "\n",
    "def get_best_path(swarm):\n",
    "    best_ix = swarm.walkers.states.cum_rewards.argmax()\n",
    "    best = swarm.walkers.states.id_walkers[best_ix]\n",
    "    leaf_name = swarm.tree.node_names[best]\n",
    "    nodes, edges = get_path_nodes_and_edges(swarm.tree.data, leaf_name)\n",
    "    nodes, edges = list(reversed(nodes))[1:], list(reversed(edges))[1:]\n",
    "    states = [swarm.tree.data.nodes[n][\"state\"] for n in nodes]\n",
    "    n_iters = [swarm.tree.data.nodes[n][\"n_iter\"] for n in nodes]\n",
    "    actions = [swarm.tree.data.edges[e][\"action\"] for e in edges]\n",
    "    return states, actions, n_iters, nodes, edges\n",
    "\n",
    "def add_image_from_node(swarm, node_id):\n",
    "    parents = list(swarm.tree.data.in_edges([node_id]))\n",
    "    if len(parents) > 0:\n",
    "        parent = parents[0][0]\n",
    "        action = swarm.tree.data.edges[(parent, node_id)][\"action\"]\n",
    "        state = swarm.tree.data.nodes[parent][\"state\"]\n",
    "        data = swarm.env._env.step(state=state, action=action)\n",
    "        obs = swarm.env._env.unwrapped.ale.getScreenRGB()\n",
    "        obs = resize_frame(obs[:, : , 0][2:170], 60, 60, \"L\")\n",
    "        return obs\n",
    "\n",
    "\n",
    "def create_embedding_layout(swarm):\n",
    "    nodes = list(swarm.tree.data.nodes())[1:]\n",
    "    observs = np.array([add_image_from_node(swarm, n) for n in nodes])\n",
    "    samples = observs.reshape(observs.shape[0], -1)\n",
    "    embeddings = UMAP(n_components=2,\n",
    "                      min_dist=0.99,\n",
    "                      n_neighbors=50).fit_transform(samples)\n",
    "    return {n : embeddings[i] for i, n in enumerate(nodes)}\n",
    "\n",
    "def get_plot_graph(swarm):\n",
    "    plot_g = nx.Graph()\n",
    "    states, actions, n_iters, nodes, edges = get_best_path(swarm)\n",
    "    for n in swarm.tree.data.nodes():\n",
    "        is_best = n in nodes\n",
    "        node_attrs = copy.deepcopy(swarm.tree.data.nodes[n])\n",
    "        node_attrs.pop(\"state\")\n",
    "        plot_g.add_node(n,\n",
    "                        final=1 if is_best else 0.3,\n",
    "                        node_alpha=1 if is_best else 0.2, \n",
    "                        line_alpha = 1 if is_best else 0.0,\n",
    "                        **node_attrs,\n",
    "                       )\n",
    "    for a, b in swarm.tree.data.edges():\n",
    "        plot_g.add_edge(a, b, weight=float(swarm.tree.data.edges[(a,b)][\"action\"]),\n",
    "                        final=1 if (a,b) in edges else 0.3)\n",
    "    return plot_g\n",
    "\n",
    "\n",
    "def plot_graph(plot_g, embs):\n",
    "    graph = hv.Graph.from_networkx(plot_g, embs)\n",
    "\n",
    "    graph.opts(node_color=hv.dim('n_iter'), node_cmap=\"viridis\", node_size=3,#hv.dim('final') * 5,\n",
    "               edge_line_width=hv.dim('final') * 0.2,\n",
    "               node_line_width=0.5,\n",
    "               node_alpha=hv.dim('node_alpha'),\n",
    "               edge_alpha=hv.dim('final'), edge_line_color=hv.dim('final'), edge_cmap=[\"white\", \"red\"],\n",
    "               node_line_color=\"red\", node_line_alpha=hv.dim('line_alpha'),\n",
    "               width=800, height=600, bgcolor='gray', colorbar=True)\n",
    "    return graph\n",
    "\n",
    "def create_subgraph(start, end, graph, embs=None, key=\"n_iter\"):\n",
    "    embs = embs if embs is not None else {}\n",
    "    g = nx.Graph()\n",
    "    for n in graph.nodes:\n",
    "        n_iter = graph.nodes[n][key]\n",
    "        if start <= n_iter <= end:\n",
    "            g.add_node(n, **graph.nodes[n])\n",
    "            g.nodes[n][\"last_line_alpha\"] = 1 if n_iter == end else 0\n",
    "            g.nodes[n][\"last_size\"] = 8 if n_iter == end else 4\n",
    "    for a, b in graph.edges:\n",
    "        n_iter_a = graph.nodes[a][key]\n",
    "        n_iter_b = graph.nodes[b][key]\n",
    "        if start <= n_iter_a <= end and start <= n_iter_b <= end:\n",
    "            g.add_edge(a, b, **graph.edges[(a, b)])\n",
    "    new_embs = {k:v for k,v in embs.items() if k in g.nodes}\n",
    "    return g, new_embs\n",
    "\n",
    "def plot_subgraph(plot_g, embs, bundle: bool=False):\n",
    "    graph = hv.Graph.from_networkx(plot_g, embs)\n",
    "\n",
    "    graph.opts(node_color=hv.dim('cum_reward'), node_cmap=\"viridis\", node_size=hv.dim('last_size'),\n",
    "               edge_line_width=hv.dim('final'),\n",
    "               node_line_width=1.5,\n",
    "               node_alpha=0.8,\n",
    "               xaxis=None, yaxis=None,\n",
    "               edge_alpha=hv.dim('final'), edge_line_color=hv.dim('final'), edge_cmap=[\"white\", \"red\"],\n",
    "               node_line_color=\"red\", node_line_alpha=hv.dim('last_line_alpha'),\n",
    "               width=800, height=600, bgcolor='gray', colorbar=True)\n",
    "    if bundle:\n",
    "        bundled = bundle_graph(graph)\n",
    "        return bundled.opts(norm=dict(framewise=True))\n",
    "    return graph.opts(norm=dict(framewise=True))\n",
    "\n",
    "def plot_iteration(iteration, graph, embeddings, start=0, key=\"n_iter\",\n",
    "                   bundle=False, observs=None, plot_func=plot_subgraph):\n",
    "    g, new_embs = create_subgraph(start=start, end=iteration,\n",
    "                                  graph=graph, embs=embeddings, key=key)\n",
    "    graph = plot_func(g, new_embs, bundle=bundle)\n",
    "    if observs is not None:\n",
    "        screen = observs.get(iteration)\n",
    "        it = iteration\n",
    "        while screen is None:\n",
    "            it -= 1\n",
    "            screen = observs.get(it)\n",
    "        image = hv.RGB(screen).opts(xaxis=None, yaxis=None,\n",
    "                                    normalize=True, shared_axes=False)\n",
    "        return image + graph\n",
    "    return graph\n",
    "\n",
    "def get_game_observs(swarm):\n",
    "    states, actions, n_iters, nodes, edges = get_best_path(swarm)\n",
    "    observs = {}\n",
    "    for node_id, it in zip(nodes, n_iters):\n",
    "        parents = list(swarm.tree.data.in_edges([node_id]))\n",
    "        if len(parents) > 0:\n",
    "            parent = parents[0][0]\n",
    "            action = swarm.tree.data.edges[(parent, node_id)][\"action\"]\n",
    "            state = swarm.tree.data.nodes[parent][\"state\"]\n",
    "            data = swarm.env._env.step(state=state, action=action)\n",
    "            obs = swarm.env._env.unwrapped.ale.getScreenRGB()\n",
    "            observs[it] = obs\n",
    "    return observs"
   ]
  },
  {
   "cell_type": "code",
   "execution_count": null,
   "metadata": {},
   "outputs": [],
   "source": [
    "graph"
   ]
  },
  {
   "cell_type": "code",
   "execution_count": null,
   "metadata": {
    "scrolled": true
   },
   "outputs": [],
   "source": [
    " pos  = nx.nx_pydot.graphviz_layout(swarm.tree.data, prog='dot')"
   ]
  },
  {
   "cell_type": "code",
   "execution_count": null,
   "metadata": {
    "scrolled": false
   },
   "outputs": [],
   "source": [
    "import matplotlib.pyplot as plt\n",
    "plt.figure(figsize=(15, 18))\n",
    "nx.draw(swarm.tree.data, pos=embs, node_size=1, alpha=0.2)"
   ]
  },
  {
   "cell_type": "code",
   "execution_count": null,
   "metadata": {},
   "outputs": [],
   "source": []
  },
  {
   "cell_type": "code",
   "execution_count": null,
   "metadata": {},
   "outputs": [],
   "source": [
    "swarm.tree.data.edges[(0, 2)]"
   ]
  },
  {
   "cell_type": "code",
   "execution_count": null,
   "metadata": {},
   "outputs": [],
   "source": [
    "pos"
   ]
  },
  {
   "cell_type": "code",
   "execution_count": null,
   "metadata": {},
   "outputs": [],
   "source": [
    "G = nx.Graph()\n",
    "\n",
    "G.add_edge('a', 'b', weight=0.6)\n",
    "G.add_edge('a', 'c', weight=0.2)\n",
    "G.add_edge('c', 'd', weight=0.1)\n",
    "G.add_edge('c', 'e', weight=0.7)\n",
    "G.add_edge('c', 'f', weight=0.9)\n",
    "G.add_edge('a', 'd', weight=0.3)\n",
    "\n",
    "G.add_node('a', size=20)\n",
    "G.add_node('b', size=10)\n",
    "G.add_node('c', size=12)\n",
    "G.add_node('d', size=5)\n",
    "G.add_node('e', size=8)\n",
    "G.add_node('f', size=3)\n",
    "\n",
    "pos = nx.spring_layout(G)  # positions for all nodes\n",
    "\n",
    "hvnx.draw(G, pos, edge_color='weight', edge_cmap='viridis',\n",
    "          edge_width=hv.dim('weight')*10, node_size=hv.dim('size')*20)"
   ]
  },
  {
   "cell_type": "code",
   "execution_count": null,
   "metadata": {},
   "outputs": [],
   "source": [
    "hvnx.draw(plot_g, pos=embs, node_color=hv.dim('size'), node_cmap='viridis',\n",
    "          edge_width=hv.dim('weight') * 0.01, alpha=0.7, node_line_color=None, node_size=15, widht=800, height=600)"
   ]
  },
  {
   "cell_type": "code",
   "execution_count": null,
   "metadata": {},
   "outputs": [],
   "source": [
    "nx.is_tree(plot_g)"
   ]
  },
  {
   "cell_type": "code",
   "execution_count": null,
   "metadata": {},
   "outputs": [],
   "source": [
    "plot_g = nx.Graph()\n",
    "for n in swarm.tree.data.nodes():\n",
    "    plot_g.add_node(n, size=float(swarm.tree.data.nodes[n].get(\"n_iter\", -100)))\n",
    "for a, b in swarm.tree.data.edges():\n",
    "    plot_g.add_edge(a, b, weight=float(swarm.tree.data.edges[(a,b)][\"action\"]))"
   ]
  },
  {
   "cell_type": "code",
   "execution_count": null,
   "metadata": {},
   "outputs": [],
   "source": [
    "swarm.tree.data.nodes[6]"
   ]
  },
  {
   "cell_type": "code",
   "execution_count": null,
   "metadata": {},
   "outputs": [],
   "source": [
    "from holoviews.streams import Pipe, Buffer\n",
    "from streamz.dataframe import DataFrame\n",
    "from streamz import Stream\n",
    "import holoviews as hv\n",
    "import hvplot.pandas\n",
    "import hvplot.streamz\n",
    "import pandas as pd\n",
    "hv.extension(\"bokeh\")"
   ]
  },
  {
   "cell_type": "code",
   "execution_count": null,
   "metadata": {},
   "outputs": [],
   "source": [
    "df = pd.DataFrame(np.arange(25).reshape((5,5)))"
   ]
  },
  {
   "cell_type": "code",
   "execution_count": null,
   "metadata": {},
   "outputs": [],
   "source": [
    "df.hvplot.heatmap()"
   ]
  },
  {
   "cell_type": "code",
   "execution_count": null,
   "metadata": {
    "scrolled": true
   },
   "outputs": [],
   "source": [
    "import pandas as pd\n",
    "pd.read_csv(\"metrics.csv\")"
   ]
  },
  {
   "cell_type": "code",
   "execution_count": null,
   "metadata": {},
   "outputs": [],
   "source": [
    "state, obs = env.reset()\n",
    "\n",
    "states = [state.copy() for _ in range(10)]\n",
    "actions = [env.action_space.sample() for _ in range(10)]\n",
    "\n",
    "data = env.step_batch(states=states, actions=actions)\n",
    "new_states, observs, rewards, ends, infos = data"
   ]
  }
 ],
 "metadata": {
  "kernelspec": {
   "display_name": "Python 3",
   "language": "python",
   "name": "python3"
  },
  "language_info": {
   "codemirror_mode": {
    "name": "ipython",
    "version": 3
   },
   "file_extension": ".py",
   "mimetype": "text/x-python",
   "name": "python",
   "nbconvert_exporter": "python",
   "pygments_lexer": "ipython3",
   "version": "3.6.9"
  }
 },
 "nbformat": 4,
 "nbformat_minor": 2
}
