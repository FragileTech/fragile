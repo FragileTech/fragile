{
 "cells": [
  {
   "cell_type": "markdown",
   "metadata": {},
   "source": [
    "# Function minimization example"
   ]
  },
  {
   "cell_type": "markdown",
   "metadata": {},
   "source": [
    "There are many problems where we only need to sample a single point instead of a trajectory. \n",
    "The `optimize` module is designed for this use case. It provide environments and models that help explore function landscapes in order to find points that meet a desired Min/Max condition."
   ]
  },
  {
   "cell_type": "markdown",
   "metadata": {},
   "source": [
    "## Testing a `FunctionMapper` on a benchmark function"
   ]
  },
  {
   "cell_type": "markdown",
   "metadata": {},
   "source": [
    "The `FunctionMapper` is a `Swarm` with updated default parameters for solving minimization problems. It should be used with a `Function`, which is an `Environment` designed to optimize functions that return an scalar.\n",
    "\n",
    "In this first example we will be using a benchmarking environment that represents the [Eggholder](https://en.wikipedia.org/wiki/Test_functions_for_optimization) function:\n",
    "\n",
    "![eggholder](images/eggholder.png)"
   ]
  },
  {
   "cell_type": "code",
   "execution_count": 1,
   "metadata": {},
   "outputs": [],
   "source": [
    "from fragile.optimize.swarm import FunctionMapper\n",
    "from fragile.optimize.benchmarks import EggHolder"
   ]
  },
  {
   "cell_type": "markdown",
   "metadata": {},
   "source": [
    "The EggHolder function is defined in the \\[-512, 512\\] interval."
   ]
  },
  {
   "cell_type": "code",
   "execution_count": 2,
   "metadata": {},
   "outputs": [
    {
     "name": "stdout",
     "output_type": "stream",
     "text": [
      "EggHolder with function eggholder, obs shape (2,), Bounds shape int64 dtype (2,) low [-512 -512] high [512 512]\n"
     ]
    }
   ],
   "source": [
    "print(EggHolder(), EggHolder.get_bounds())"
   ]
  },
  {
   "cell_type": "markdown",
   "metadata": {},
   "source": [
    "And its optimum corresponds to the point (512, 404.2319) with a value of -959.64066271"
   ]
  },
  {
   "cell_type": "code",
   "execution_count": 3,
   "metadata": {},
   "outputs": [
    {
     "name": "stdout",
     "output_type": "stream",
     "text": [
      "[512.     404.2319] -959.64066271\n"
     ]
    }
   ],
   "source": [
    "print(EggHolder().best_state, EggHolder.benchmark)"
   ]
  },
  {
   "cell_type": "markdown",
   "metadata": {},
   "source": [
    "We will be sampling the random perturbations made to the walkers from a Gaussian distribution"
   ]
  },
  {
   "cell_type": "code",
   "execution_count": 4,
   "metadata": {},
   "outputs": [],
   "source": [
    "from fragile.core import NormalContinuous\n",
    "def gaussian_model(env):\n",
    "    # Gaussian of mean 0 and std of 10, adapted to the environment bounds\n",
    "    return NormalContinuous(scale=10, loc=0., bounds=env.bounds)"
   ]
  },
  {
   "cell_type": "markdown",
   "metadata": {},
   "source": [
    "To run the algorithm we need to pass the environment and the model as parameters to the `FunctionMapper`."
   ]
  },
  {
   "cell_type": "code",
   "execution_count": 5,
   "metadata": {},
   "outputs": [],
   "source": [
    "swarm = FunctionMapper(env=EggHolder,\n",
    "                       model=gaussian_model,\n",
    "                       n_walkers=100,\n",
    "                       max_iters=500,\n",
    "                      )"
   ]
  },
  {
   "cell_type": "code",
   "execution_count": 6,
   "metadata": {},
   "outputs": [
    {
     "ename": "AttributeError",
     "evalue": "'EggHolder' object has no attribute 'calculate_custom_death'",
     "output_type": "error",
     "traceback": [
      "\u001b[0;31m---------------------------------------------------------------------------\u001b[0m",
      "\u001b[0;31mAttributeError\u001b[0m                            Traceback (most recent call last)",
      "\u001b[0;32m<ipython-input-6-5aeee03e3878>\u001b[0m in \u001b[0;36m<module>\u001b[0;34m\u001b[0m\n\u001b[0;32m----> 1\u001b[0;31m \u001b[0mswarm\u001b[0m\u001b[0;34m.\u001b[0m\u001b[0mrun\u001b[0m\u001b[0;34m(\u001b[0m\u001b[0mprint_every\u001b[0m\u001b[0;34m=\u001b[0m\u001b[0;36m50\u001b[0m\u001b[0;34m)\u001b[0m\u001b[0;34m\u001b[0m\u001b[0;34m\u001b[0m\u001b[0m\n\u001b[0m",
      "\u001b[0;32m~/projects/fragile-1/fragile-1/fragile/core/swarm.py\u001b[0m in \u001b[0;36mrun\u001b[0;34m(self, model_states, env_states, walkers_states, print_every)\u001b[0m\n\u001b[1;32m    191\u001b[0m \u001b[0;34m\u001b[0m\u001b[0m\n\u001b[1;32m    192\u001b[0m         \"\"\"\n\u001b[0;32m--> 193\u001b[0;31m         \u001b[0mself\u001b[0m\u001b[0;34m.\u001b[0m\u001b[0mreset\u001b[0m\u001b[0;34m(\u001b[0m\u001b[0mmodel_states\u001b[0m\u001b[0;34m=\u001b[0m\u001b[0mmodel_states\u001b[0m\u001b[0;34m,\u001b[0m \u001b[0menv_states\u001b[0m\u001b[0;34m=\u001b[0m\u001b[0menv_states\u001b[0m\u001b[0;34m,\u001b[0m \u001b[0mwalkers_states\u001b[0m\u001b[0;34m=\u001b[0m\u001b[0mwalkers_states\u001b[0m\u001b[0;34m)\u001b[0m\u001b[0;34m\u001b[0m\u001b[0;34m\u001b[0m\u001b[0m\n\u001b[0m\u001b[1;32m    194\u001b[0m         \u001b[0mself\u001b[0m\u001b[0;34m.\u001b[0m\u001b[0mepoch\u001b[0m \u001b[0;34m=\u001b[0m \u001b[0;36m0\u001b[0m\u001b[0;34m\u001b[0m\u001b[0;34m\u001b[0m\u001b[0m\n\u001b[1;32m    195\u001b[0m         \u001b[0;32mwhile\u001b[0m \u001b[0;32mnot\u001b[0m \u001b[0mself\u001b[0m\u001b[0;34m.\u001b[0m\u001b[0mcalculate_end_condition\u001b[0m\u001b[0;34m(\u001b[0m\u001b[0;34m)\u001b[0m\u001b[0;34m:\u001b[0m\u001b[0;34m\u001b[0m\u001b[0;34m\u001b[0m\u001b[0m\n",
      "\u001b[0;32m~/projects/fragile-1/fragile-1/fragile/optimize/swarm.py\u001b[0m in \u001b[0;36mreset\u001b[0;34m(self, walkers_states, model_states, env_states)\u001b[0m\n\u001b[1;32m     83\u001b[0m         \"\"\"\n\u001b[1;32m     84\u001b[0m         super(FunctionMapper, self).reset(\n\u001b[0;32m---> 85\u001b[0;31m             \u001b[0mwalkers_states\u001b[0m\u001b[0;34m=\u001b[0m\u001b[0mwalkers_states\u001b[0m\u001b[0;34m,\u001b[0m \u001b[0mmodel_states\u001b[0m\u001b[0;34m=\u001b[0m\u001b[0mmodel_states\u001b[0m\u001b[0;34m,\u001b[0m \u001b[0menv_states\u001b[0m\u001b[0;34m=\u001b[0m\u001b[0menv_states\u001b[0m\u001b[0;34m\u001b[0m\u001b[0;34m\u001b[0m\u001b[0m\n\u001b[0m\u001b[1;32m     86\u001b[0m         )\n\u001b[1;32m     87\u001b[0m         \u001b[0;32mif\u001b[0m \u001b[0mself\u001b[0m\u001b[0;34m.\u001b[0m\u001b[0mstart_same_pos\u001b[0m\u001b[0;34m:\u001b[0m\u001b[0;34m\u001b[0m\u001b[0;34m\u001b[0m\u001b[0m\n",
      "\u001b[0;32m~/projects/fragile-1/fragile-1/fragile/core/swarm.py\u001b[0m in \u001b[0;36mreset\u001b[0;34m(self, walkers_states, model_states, env_states)\u001b[0m\n\u001b[1;32m    150\u001b[0m                             \u001b[0mstates\u001b[0m \u001b[0mof\u001b[0m \u001b[0mthe\u001b[0m \u001b[0;34m:\u001b[0m\u001b[0;32mclass\u001b[0m\u001b[0;34m:\u001b[0m\u001b[0;31m`\u001b[0m\u001b[0mWalkers\u001b[0m\u001b[0;31m`\u001b[0m\u001b[0;34m.\u001b[0m\u001b[0;34m\u001b[0m\u001b[0;34m\u001b[0m\u001b[0m\n\u001b[1;32m    151\u001b[0m         \"\"\"\n\u001b[0;32m--> 152\u001b[0;31m         \u001b[0menv_sates\u001b[0m \u001b[0;34m=\u001b[0m \u001b[0mself\u001b[0m\u001b[0;34m.\u001b[0m\u001b[0menv\u001b[0m\u001b[0;34m.\u001b[0m\u001b[0mreset\u001b[0m\u001b[0;34m(\u001b[0m\u001b[0mbatch_size\u001b[0m\u001b[0;34m=\u001b[0m\u001b[0mself\u001b[0m\u001b[0;34m.\u001b[0m\u001b[0mwalkers\u001b[0m\u001b[0;34m.\u001b[0m\u001b[0mn\u001b[0m\u001b[0;34m)\u001b[0m \u001b[0;32mif\u001b[0m \u001b[0menv_states\u001b[0m \u001b[0;32mis\u001b[0m \u001b[0;32mNone\u001b[0m \u001b[0;32melse\u001b[0m \u001b[0menv_states\u001b[0m\u001b[0;34m\u001b[0m\u001b[0;34m\u001b[0m\u001b[0m\n\u001b[0m\u001b[1;32m    153\u001b[0m         model_states = (\n\u001b[1;32m    154\u001b[0m             \u001b[0mself\u001b[0m\u001b[0;34m.\u001b[0m\u001b[0mmodel\u001b[0m\u001b[0;34m.\u001b[0m\u001b[0mreset\u001b[0m\u001b[0;34m(\u001b[0m\u001b[0mbatch_size\u001b[0m\u001b[0;34m=\u001b[0m\u001b[0mself\u001b[0m\u001b[0;34m.\u001b[0m\u001b[0mwalkers\u001b[0m\u001b[0;34m.\u001b[0m\u001b[0mn\u001b[0m\u001b[0;34m,\u001b[0m \u001b[0menv_states\u001b[0m\u001b[0;34m=\u001b[0m\u001b[0menv_states\u001b[0m\u001b[0;34m)\u001b[0m\u001b[0;34m\u001b[0m\u001b[0;34m\u001b[0m\u001b[0m\n",
      "\u001b[0;32m~/projects/fragile-1/fragile-1/fragile/optimize/env.py\u001b[0m in \u001b[0;36mreset\u001b[0;34m(self, batch_size, **kwargs)\u001b[0m\n\u001b[1;32m    137\u001b[0m             \u001b[0mrewards\u001b[0m\u001b[0;34m=\u001b[0m\u001b[0mrewards\u001b[0m\u001b[0;34m,\u001b[0m\u001b[0;34m\u001b[0m\u001b[0;34m\u001b[0m\u001b[0m\n\u001b[1;32m    138\u001b[0m             \u001b[0mends\u001b[0m\u001b[0;34m=\u001b[0m\u001b[0mends\u001b[0m\u001b[0;34m,\u001b[0m\u001b[0;34m\u001b[0m\u001b[0;34m\u001b[0m\u001b[0m\n\u001b[0;32m--> 139\u001b[0;31m             \u001b[0mbatch_size\u001b[0m\u001b[0;34m=\u001b[0m\u001b[0mbatch_size\u001b[0m\u001b[0;34m,\u001b[0m\u001b[0;34m\u001b[0m\u001b[0;34m\u001b[0m\u001b[0m\n\u001b[0m\u001b[1;32m    140\u001b[0m         )\n\u001b[1;32m    141\u001b[0m         \u001b[0;32mreturn\u001b[0m \u001b[0mnew_states\u001b[0m\u001b[0;34m\u001b[0m\u001b[0;34m\u001b[0m\u001b[0m\n",
      "\u001b[0;32m~/projects/fragile-1/fragile-1/fragile/core/env.py\u001b[0m in \u001b[0;36mstates_from_data\u001b[0;34m(self, batch_size, states, observs, rewards, ends, **kwargs)\u001b[0m\n\u001b[1;32m     66\u001b[0m             \u001b[0;34m**\u001b[0m\u001b[0mkwargs\u001b[0m\u001b[0;34m\u001b[0m\u001b[0;34m\u001b[0m\u001b[0m\n\u001b[1;32m     67\u001b[0m         )\n\u001b[0;32m---> 68\u001b[0;31m         \u001b[0mcustom_death\u001b[0m \u001b[0;34m=\u001b[0m \u001b[0mself\u001b[0m\u001b[0;34m.\u001b[0m\u001b[0mcalculate_custom_death\u001b[0m\u001b[0;34m(\u001b[0m\u001b[0mstate\u001b[0m\u001b[0;34m)\u001b[0m\u001b[0;34m\u001b[0m\u001b[0;34m\u001b[0m\u001b[0m\n\u001b[0m\u001b[1;32m     69\u001b[0m         \u001b[0mstate\u001b[0m\u001b[0;34m.\u001b[0m\u001b[0mends\u001b[0m \u001b[0;34m=\u001b[0m \u001b[0mnp\u001b[0m\u001b[0;34m.\u001b[0m\u001b[0mlogical_or\u001b[0m\u001b[0;34m(\u001b[0m\u001b[0mstate\u001b[0m\u001b[0;34m.\u001b[0m\u001b[0mends\u001b[0m\u001b[0;34m,\u001b[0m \u001b[0mcustom_death\u001b[0m\u001b[0;34m)\u001b[0m\u001b[0;34m\u001b[0m\u001b[0;34m\u001b[0m\u001b[0m\n\u001b[1;32m     70\u001b[0m         \u001b[0;32mreturn\u001b[0m \u001b[0mstate\u001b[0m\u001b[0;34m\u001b[0m\u001b[0;34m\u001b[0m\u001b[0m\n",
      "\u001b[0;31mAttributeError\u001b[0m: 'EggHolder' object has no attribute 'calculate_custom_death'"
     ]
    }
   ],
   "source": [
    "swarm.run(print_every=50)"
   ]
  },
  {
   "cell_type": "markdown",
   "metadata": {},
   "source": [
    "## Sampling a function with a local optimizer"
   ]
  },
  {
   "cell_type": "markdown",
   "metadata": {},
   "source": [
    "A simple gaussian perturbation is a very sub-optimal strategy for sampling new points. It is possible to improve the performance of the sampling process if we run a local minimization process after each random perturbation.\n",
    "\n",
    "This can be done using the `MinimizerWrapper` class, that takes in any instance of a `Function` environment, and performs a local minimization process after each environment step.\n",
    "\n",
    "The `MinimizerWrapper` uses `scipy.optimize.minimize` under the hood, and it can take any parameter that `scipy.optimize.minimize` supports."
   ]
  },
  {
   "cell_type": "code",
   "execution_count": null,
   "metadata": {},
   "outputs": [],
   "source": [
    "from fragile.optimize.env import MinimizerWrapper\n",
    "    \n",
    "def optimize_eggholder():\n",
    "    options = {\"maxiter\": 10}\n",
    "    return MinimizerWrapper(EggHolder(), options=options)\n",
    "    \n",
    "swarm = FunctionMapper(env=optimize_eggholder,\n",
    "                       model=gaussian_model,\n",
    "                       n_walkers=50,\n",
    "                       max_iters=201,\n",
    "                      )"
   ]
  },
  {
   "cell_type": "code",
   "execution_count": null,
   "metadata": {},
   "outputs": [],
   "source": [
    "swarm.run(print_every=25)"
   ]
  },
  {
   "cell_type": "markdown",
   "metadata": {},
   "source": [
    "This significantly increases the performance of the algorithm at the expense of using more computational resources."
   ]
  },
  {
   "cell_type": "markdown",
   "metadata": {},
   "source": [
    "## Defining a new problem using a `Function`"
   ]
  },
  {
   "cell_type": "markdown",
   "metadata": {},
   "source": [
    "It is possible to optimize any python function that returns an scalar using a `Function`, as long as two requirements are met:\n",
    "\n",
    "- The function needs to work with batches of points stacked across the first dimension of a numpy array. \n",
    "\n",
    "- It returns a vector of scalars corresponding to the values of each point evaluated.\n",
    "\n",
    "This will allow the `Function` to vectorize the calculations on the batch of walkers.\n",
    "\n",
    "We will also need to create a `Bounds` class that define the function domain."
   ]
  },
  {
   "cell_type": "markdown",
   "metadata": {},
   "source": [
    "In this example we will optimize a four dimensional *styblinski_tang* function, which all its coordinates defined in the \\[-5, 5\\] interval:\n",
    "    \n",
    "![styblinski_tang](images/styblinski_tang.png)"
   ]
  },
  {
   "cell_type": "code",
   "execution_count": null,
   "metadata": {},
   "outputs": [],
   "source": [
    "from fragile.core import Bounds\n",
    "import numpy"
   ]
  },
  {
   "cell_type": "code",
   "execution_count": null,
   "metadata": {},
   "outputs": [],
   "source": [
    "def styblinski_tang(x: numpy.ndarray) -> numpy.ndarray:\n",
    "    return numpy.sum(x ** 4 - 16 * x ** 2 + 5 * x, 1) / 2.0\n",
    "\n",
    "bounds = Bounds(low=-5, high=5, shape=(4,))\n",
    "print(bounds)\n",
    "\n",
    "def out_of_domain_check(x: numpy.ndarray) -> bool:\n",
    "    return (numpy.sum(x) > 0.0)"
   ]
  },
  {
   "cell_type": "markdown",
   "metadata": {},
   "source": [
    "To define the new environment we only need to pass those two parameters to a `Function`"
   ]
  },
  {
   "cell_type": "code",
   "execution_count": null,
   "metadata": {},
   "outputs": [],
   "source": [
    "from fragile.optimize.env import Function"
   ]
  },
  {
   "cell_type": "code",
   "execution_count": null,
   "metadata": {},
   "outputs": [],
   "source": [
    "def local_optimize_styblinsky_tang():\n",
    "    function = Function(function=styblinski_tang, bounds=bounds, out_of_domain_check=out_of_domain_check)\n",
    "    options = {\"maxiter\": 5}\n",
    "    return MinimizerWrapper(function, options=options)\n",
    "\n",
    "swarm = FunctionMapper(env=local_optimize_styblinsky_tang,\n",
    "                       model=gaussian_model,\n",
    "                       n_walkers=50,\n",
    "                       max_iters=101,\n",
    "                      )"
   ]
  },
  {
   "cell_type": "code",
   "execution_count": null,
   "metadata": {},
   "outputs": [],
   "source": [
    "swarm.run(print_every=25)"
   ]
  },
  {
   "cell_type": "markdown",
   "metadata": {},
   "source": [
    "We can see how the optimization was successful in finding the global optima of -156.66468"
   ]
  },
  {
   "cell_type": "code",
   "execution_count": null,
   "metadata": {},
   "outputs": [],
   "source": [
    "swarm.best_found"
   ]
  },
  {
   "cell_type": "code",
   "execution_count": null,
   "metadata": {},
   "outputs": [],
   "source": [
    "swarm.best_reward_found"
   ]
  },
  {
   "cell_type": "markdown",
   "metadata": {},
   "source": [
    "## Optimizing a function with Evolutionary Strategies"
   ]
  },
  {
   "cell_type": "markdown",
   "metadata": {},
   "source": [
    "It is possible to use the `fragile` framework to implement optimization algorithms that do not rely on a cloning process, such as Evolutionary Strategies.\n",
    "\n",
    "If the cloning process is not needed the `NoBalance` `Swarm` is the recommended choice. It has the same features of a regular `Swarm`, but it does not perform the cloning process."
   ]
  },
  {
   "cell_type": "code",
   "execution_count": null,
   "metadata": {},
   "outputs": [],
   "source": [
    "from fragile.core.swarm import NoBalance\n",
    "from fragile.optimize.models import ESModel"
   ]
  },
  {
   "cell_type": "markdown",
   "metadata": {},
   "source": [
    "In this example we will be solving a Lennard-Jonnes cluster of 4 particles, which is a 12-dimensional function with a global minima at -6."
   ]
  },
  {
   "cell_type": "code",
   "execution_count": null,
   "metadata": {},
   "outputs": [],
   "source": [
    "from fragile.optimize.benchmarks import LennardJones"
   ]
  },
  {
   "cell_type": "code",
   "execution_count": null,
   "metadata": {},
   "outputs": [],
   "source": [
    "swarm = NoBalance(env=lambda : LennardJones(n_atoms=4),\n",
    "                  model=lambda env: ESModel(bounds=env.bounds),\n",
    "                  accumulate_rewards=False,\n",
    "                  minimize=True,\n",
    "                  n_walkers=10,\n",
    "                  max_iters=5000,\n",
    "                 )"
   ]
  },
  {
   "cell_type": "code",
   "execution_count": null,
   "metadata": {},
   "outputs": [],
   "source": [
    "swarm.run(print_every=25)"
   ]
  }
 ],
 "metadata": {
  "kernelspec": {
   "display_name": "Python 3",
   "language": "python",
   "name": "python3"
  },
  "language_info": {
   "codemirror_mode": {
    "name": "ipython",
    "version": 3
   },
   "file_extension": ".py",
   "mimetype": "text/x-python",
   "name": "python",
   "nbconvert_exporter": "python",
   "pygments_lexer": "ipython3",
   "version": "3.7.3"
  }
 },
 "nbformat": 4,
 "nbformat_minor": 2
}
