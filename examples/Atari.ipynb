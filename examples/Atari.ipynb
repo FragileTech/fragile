{
 "cells": [
  {
   "cell_type": "code",
   "execution_count": 2,
   "metadata": {},
   "outputs": [],
   "source": [
    "import numpy as np\n",
    "from plangym import AtariEnvironment, ParallelEnvironment\n",
    "\n",
    "from fragile.atari.env import AtariEnv\n",
    "from fragile.core.dt_sampler import GaussianDt\n",
    "from fragile.core.env import DiscreteEnv\n",
    "from fragile.core.models import RandomDiscrete\n",
    "from fragile.core.states import States\n",
    "from fragile.core.swarm import Swarm\n",
    "from fragile.core.tree import HistoryTree\n",
    "from fragile.core.walkers import Walkers\n",
    "\n",
    "\n",
    "env = ParallelEnvironment(\n",
    "        env_class=AtariEnvironment,\n",
    "        name=\"MsPacman-ram-v0\",\n",
    "        clone_seeds=True,\n",
    "        autoreset=True,\n",
    "        blocking=False,\n",
    "    )\n",
    "\n"
   ]
  },
  {
   "cell_type": "code",
   "execution_count": 8,
   "metadata": {},
   "outputs": [
    {
     "data": {
      "text/plain": [
       "'MsPacman-ram-v0'"
      ]
     },
     "execution_count": 8,
     "metadata": {},
     "output_type": "execute_result"
    }
   ],
   "source": [
    "env.name"
   ]
  },
  {
   "cell_type": "code",
   "execution_count": null,
   "metadata": {},
   "outputs": [],
   "source": [
    "dt = GaussianDt(min_dt=3, max_dt=1000, loc_dt=4, scale_dt=2)\n",
    "swarm = Swarm(\n",
    "    model=lambda x: RandomDiscrete(x, dt_sampler=dt),\n",
    "    walkers=Walkers,\n",
    "    env=lambda: AtariEnv(env),\n",
    "    n_walkers=64,\n",
    "    max_iters=10000,\n",
    "    prune_tree=True,\n",
    "    reward_scale=2,\n",
    "    minimize=False,\n",
    "    tree=HistoryTree,\n",
    "    use_tree=True,\n",
    ")\n",
    "\n",
    "_ = swarm.run_swarm(print_every=50)"
   ]
  },
  {
   "cell_type": "code",
   "execution_count": 6,
   "metadata": {},
   "outputs": [],
   "source": [
    "best_ix = swarm.walkers.states.cum_rewards.argmax()\n",
    "best = swarm.walkers.states.id_walkers[best_ix]\n",
    "path = swarm.tree.get_branch(best, from_hash=True)\n",
    "\n",
    "import time\n",
    "for s, a in zip(path[0][1:], path[1]):\n",
    "    env.step(state=s, action=a)\n",
    "    env.render()\n",
    "    time.sleep(0.05)"
   ]
  },
  {
   "cell_type": "code",
   "execution_count": null,
   "metadata": {},
   "outputs": [],
   "source": [
    "state, obs = env.reset()\n",
    "\n",
    "states = [state.copy() for _ in range(10)]\n",
    "actions = [env.action_space.sample() for _ in range(10)]\n",
    "\n",
    "data = env.step_batch(states=states, actions=actions)\n",
    "new_states, observs, rewards, ends, infos = data"
   ]
  }
 ],
 "metadata": {
  "kernelspec": {
   "display_name": "Python 3",
   "language": "python",
   "name": "python3"
  },
  "language_info": {
   "codemirror_mode": {
    "name": "ipython",
    "version": 3
   },
   "file_extension": ".py",
   "mimetype": "text/x-python",
   "name": "python",
   "nbconvert_exporter": "python",
   "pygments_lexer": "ipython3",
   "version": "3.6.8"
  }
 },
 "nbformat": 4,
 "nbformat_minor": 2
}
