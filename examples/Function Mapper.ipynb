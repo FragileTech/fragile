{
 "cells": [
  {
   "cell_type": "code",
   "execution_count": 1,
   "metadata": {
    "scrolled": true
   },
   "outputs": [],
   "source": [
    "import numpy as np\n",
    "from plangym.ray import ParallelEnvironment\n",
    "\n",
    "from fragile.core.env import DiscreteEnv\n",
    "from fragile.core.models import RandomDiscrete, RandomNormal\n",
    "from fragile.core.states import States\n",
    "from fragile.core.swarm import NoBalance, Swarm\n",
    "from fragile.core.walkers import Walkers\n",
    "\n",
    "from fragile.optimize.env import Function, MinimizerWrapper\n",
    "from fragile.optimize.benchmarks import EggHolder, StyblinskiTang, Sphere, LennardJones, Rastrigin\n",
    "from fragile.optimize.models import ESModel, CompasJump, BestCompasJump\n",
    "from fragile.optimize.swarm import FunctionMapper\n",
    "from fragile.optimize.critic import GaussianRepulssion\n"
   ]
  },
  {
   "cell_type": "code",
   "execution_count": 19,
   "metadata": {},
   "outputs": [],
   "source": [
    "n_atoms = 10\n",
    "n_dims = 3\n",
    "shape = (3 * n_atoms,) \n",
    "#shape = (5,)\n",
    "env_callable = lambda : MinimizerWrapper(LennardJones(n_atoms=n_atoms), options={\"maxiter\":40})\n",
    "# env_callable = lambda : MinimizerWrapper(Rastrigin(shape=shape), options={\"maxiter\":50})\n",
    "model_callable = lambda x: RandomNormal(x, loc=0, scale=0.3)# ESModel(shape=shape, scale=0.5)#, recombination=0.7, mutation=0.8)#"
   ]
  },
  {
   "cell_type": "code",
   "execution_count": null,
   "metadata": {},
   "outputs": [
    {
     "name": "stdout",
     "output_type": "stream",
     "text": [
      "\n",
      "Best reward found: -27.5452 , efficiency 0.822, Critic: None\n",
      "Walkers iteration 2741 Best reward: 22764634112.00 Dead walkers: 0.00% Cloned: 0.00%\n",
      "\n",
      "Walkers States: \n",
      "id_walkers shape (100,) Mean: 80119558479214288.000, Std: 5809968308120622080.000, Max: 9194846810989257728.000 Min: -9098239807242833920.000\n",
      "compas_dist shape (100,) Mean: 49.500, Std: 28.866, Max: 99.000 Min: 0.000\n",
      "compas_clone shape (100,) Mean: 49.500, Std: 28.866, Max: 99.000 Min: 0.000\n",
      "processed_rewards shape (100,) Mean: 1.094, Std: 0.167, Max: 1.132 Min: 0.000\n",
      "virtual_rewards shape (100,) Mean: 1.047, Std: 0.011, Max: 1.106 Min: 1.000\n",
      "cum_rewards shape (100,) Mean: 329911808.000, Std: 2334959872.000, Max: 22764634112.000 Min: -27.556\n",
      "distances shape (100,) Mean: 1.042, Std: 0.527, Max: 2.040 Min: 0.002\n",
      "clone_probs shape (100,) Mean: 0.000, Std: 0.000, Max: 0.000 Min: 0.000\n",
      "will_clone shape (100,) Mean: 0.000, Std: 0.000, Max: 0.000 Min: 0.000\n",
      "alive_mask shape (100,) Mean: 1.000, Std: 0.000, Max: 1.000 Min: 1.000\n",
      "end_condition shape (100,) Mean: 0.000, Std: 0.000, Max: 0.000 Min: 0.000\n",
      "best_reward shape None Mean: nan, Std: nan, Max: nan Min: nan\n",
      "best_obs shape (30,) Mean: -0.182, Std: 0.589, Max: 1.038 Min: -1.191\n",
      "best_state shape (30,) Mean: -0.182, Std: 0.589, Max: 1.038 Min: -1.191\n",
      "critic_score shape None Mean: nan, Std: nan, Max: nan Min: nan\n",
      "\n",
      "Env States: \n",
      "rewards shape (100,) Mean: 329911810.657, Std: 2334960212.535, Max: 22764634998.405 Min: -27.556\n",
      "ends shape (100,) Mean: 0.000, Std: 0.000, Max: 0.000 Min: 0.000\n",
      "\n",
      "Model States: \n",
      "actions shape (100, 30) Mean: -0.005, Std: 0.293, Max: 0.979 Min: -1.444\n",
      "\n",
      "\n"
     ]
    }
   ],
   "source": [
    "mapper = Swarm(env=env_callable, model=model_callable, n_walkers=100, max_iters=100000,\n",
    "                   minimize=True, accumulate_rewards=False, critic=None)\n",
    "\n",
    "mapper.run_swarm(print_every=10)"
   ]
  },
  {
   "cell_type": "code",
   "execution_count": 5,
   "metadata": {},
   "outputs": [
    {
     "ename": "AttributeError",
     "evalue": "'NoneType' object has no attribute 'kde'",
     "output_type": "error",
     "traceback": [
      "\u001b[0;31m---------------------------------------------------------------------------\u001b[0m",
      "\u001b[0;31mAttributeError\u001b[0m                            Traceback (most recent call last)",
      "\u001b[0;32m<ipython-input-5-44cf31ebf4a9>\u001b[0m in \u001b[0;36m<module>\u001b[0;34m\u001b[0m\n\u001b[0;32m----> 1\u001b[0;31m \u001b[0mprobs\u001b[0m \u001b[0;34m=\u001b[0m \u001b[0mmapper\u001b[0m\u001b[0;34m.\u001b[0m\u001b[0mcritic\u001b[0m\u001b[0;34m.\u001b[0m\u001b[0mkde\u001b[0m\u001b[0;34m.\u001b[0m\u001b[0mscore_samples\u001b[0m\u001b[0;34m(\u001b[0m\u001b[0mmapper\u001b[0m\u001b[0;34m.\u001b[0m\u001b[0mwalkers\u001b[0m\u001b[0;34m.\u001b[0m\u001b[0menv_states\u001b[0m\u001b[0;34m.\u001b[0m\u001b[0mobservs\u001b[0m\u001b[0;34m)\u001b[0m\u001b[0;34m\u001b[0m\u001b[0;34m\u001b[0m\u001b[0m\n\u001b[0m\u001b[1;32m      2\u001b[0m \u001b[0mprobs\u001b[0m\u001b[0;34m\u001b[0m\u001b[0;34m\u001b[0m\u001b[0m\n",
      "\u001b[0;31mAttributeError\u001b[0m: 'NoneType' object has no attribute 'kde'"
     ]
    }
   ],
   "source": [
    "probs = mapper.critic.kde.score_samples(mapper.walkers.env_states.observs)\n",
    "probs"
   ]
  },
  {
   "cell_type": "code",
   "execution_count": 15,
   "metadata": {},
   "outputs": [
    {
     "data": {
      "text/plain": [
       "0.33071891388307384"
      ]
     },
     "execution_count": 15,
     "metadata": {},
     "output_type": "execute_result"
    }
   ],
   "source": [
    "np.sqrt(7 / 64)"
   ]
  },
  {
   "cell_type": "code",
   "execution_count": 13,
   "metadata": {},
   "outputs": [
    {
     "data": {
      "text/plain": [
       "DeviceArray([3.97982788], dtype=float32)"
      ]
     },
     "execution_count": 13,
     "metadata": {},
     "output_type": "execute_result"
    }
   ],
   "source": [
    "mapper.env.function(np.array([mapper.best_found]))"
   ]
  },
  {
   "cell_type": "code",
   "execution_count": 14,
   "metadata": {},
   "outputs": [],
   "source": [
    "import numpy as onp"
   ]
  },
  {
   "cell_type": "code",
   "execution_count": 15,
   "metadata": {},
   "outputs": [
    {
     "data": {
      "text/plain": [
       "DeviceArray(45, dtype=int32)"
      ]
     },
     "execution_count": 15,
     "metadata": {},
     "output_type": "execute_result"
    }
   ],
   "source": [
    "onp.sum(np.arange(10))"
   ]
  },
  {
   "cell_type": "code",
   "execution_count": 13,
   "metadata": {},
   "outputs": [
    {
     "ename": "NameError",
     "evalue": "name 'env' is not defined",
     "output_type": "error",
     "traceback": [
      "\u001b[0;31m---------------------------------------------------------------------------\u001b[0m",
      "\u001b[0;31mNameError\u001b[0m                                 Traceback (most recent call last)",
      "\u001b[0;32m<ipython-input-13-b6a55bab8ee9>\u001b[0m in \u001b[0;36m<module>\u001b[0;34m\u001b[0m\n\u001b[0;32m----> 1\u001b[0;31m \u001b[0mstate\u001b[0m\u001b[0;34m,\u001b[0m \u001b[0mobs\u001b[0m \u001b[0;34m=\u001b[0m \u001b[0menv\u001b[0m\u001b[0;34m.\u001b[0m\u001b[0mreset\u001b[0m\u001b[0;34m(\u001b[0m\u001b[0;34m)\u001b[0m\u001b[0;34m\u001b[0m\u001b[0;34m\u001b[0m\u001b[0m\n\u001b[0m\u001b[1;32m      2\u001b[0m \u001b[0;34m\u001b[0m\u001b[0m\n\u001b[1;32m      3\u001b[0m \u001b[0mstates\u001b[0m \u001b[0;34m=\u001b[0m \u001b[0;34m[\u001b[0m\u001b[0mstate\u001b[0m\u001b[0;34m.\u001b[0m\u001b[0mcopy\u001b[0m\u001b[0;34m(\u001b[0m\u001b[0;34m)\u001b[0m \u001b[0;32mfor\u001b[0m \u001b[0m_\u001b[0m \u001b[0;32min\u001b[0m \u001b[0mrange\u001b[0m\u001b[0;34m(\u001b[0m\u001b[0;36m10\u001b[0m\u001b[0;34m)\u001b[0m\u001b[0;34m]\u001b[0m\u001b[0;34m\u001b[0m\u001b[0;34m\u001b[0m\u001b[0m\n\u001b[1;32m      4\u001b[0m \u001b[0mactions\u001b[0m \u001b[0;34m=\u001b[0m \u001b[0;34m[\u001b[0m\u001b[0menv\u001b[0m\u001b[0;34m.\u001b[0m\u001b[0maction_space\u001b[0m\u001b[0;34m.\u001b[0m\u001b[0msample\u001b[0m\u001b[0;34m(\u001b[0m\u001b[0;34m)\u001b[0m \u001b[0;32mfor\u001b[0m \u001b[0m_\u001b[0m \u001b[0;32min\u001b[0m \u001b[0mrange\u001b[0m\u001b[0;34m(\u001b[0m\u001b[0;36m10\u001b[0m\u001b[0;34m)\u001b[0m\u001b[0;34m]\u001b[0m\u001b[0;34m\u001b[0m\u001b[0;34m\u001b[0m\u001b[0m\n\u001b[1;32m      5\u001b[0m \u001b[0;34m\u001b[0m\u001b[0m\n",
      "\u001b[0;31mNameError\u001b[0m: name 'env' is not defined"
     ]
    }
   ],
   "source": [
    "state, obs = env.reset()\n",
    "\n",
    "states = [state.copy() for _ in range(10)]\n",
    "actions = [env.action_space.sample() for _ in range(10)]\n",
    "\n",
    "data = env.step_batch(states=states, actions=actions)\n",
    "new_states, observs, rewards, ends, infos = data"
   ]
  },
  {
   "cell_type": "code",
   "execution_count": null,
   "metadata": {},
   "outputs": [],
   "source": []
  },
  {
   "cell_type": "code",
   "execution_count": null,
   "metadata": {},
   "outputs": [],
   "source": []
  },
  {
   "cell_type": "code",
   "execution_count": null,
   "metadata": {},
   "outputs": [],
   "source": []
  },
  {
   "cell_type": "code",
   "execution_count": null,
   "metadata": {},
   "outputs": [],
   "source": []
  },
  {
   "cell_type": "code",
   "execution_count": null,
   "metadata": {},
   "outputs": [],
   "source": []
  }
 ],
 "metadata": {
  "kernelspec": {
   "display_name": "Python 3",
   "language": "python",
   "name": "python3"
  },
  "language_info": {
   "codemirror_mode": {
    "name": "ipython",
    "version": 3
   },
   "file_extension": ".py",
   "mimetype": "text/x-python",
   "name": "python",
   "nbconvert_exporter": "python",
   "pygments_lexer": "ipython3",
   "version": "3.6.9"
  }
 },
 "nbformat": 4,
 "nbformat_minor": 2
}
