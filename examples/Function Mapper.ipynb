{
 "cells": [
  {
   "cell_type": "code",
   "execution_count": 1,
   "metadata": {
    "scrolled": true
   },
   "outputs": [],
   "source": [
    "import numpy as np\n",
    "\n",
    "from fragile.core.env import DiscreteEnv\n",
    "from fragile.core.models import RandomDiscrete, RandomNormal\n",
    "from fragile.core.states import States\n",
    "from fragile.core.swarm import NoBalance, Swarm\n",
    "from fragile.core.walkers import Walkers\n",
    "\n",
    "from fragile.optimize.env import Function, MinimizerWrapper\n",
    "from fragile.optimize.benchmarks import EggHolder, StyblinskiTang, Sphere, LennardJones, Rastrigin\n",
    "from fragile.optimize.models import ESModel, CompasJump, BestCompasJump\n",
    "from fragile.optimize.swarm import FunctionMapper\n",
    "from fragile.optimize.critic import GaussianRepulssion\n"
   ]
  },
  {
   "cell_type": "code",
   "execution_count": 4,
   "metadata": {},
   "outputs": [],
   "source": [
    "n_atoms = 38\n",
    "n_dims = 3\n",
    "shape = (3 * n_atoms,) \n",
    "shape = (5,)\n",
    "env_callable = lambda : MinimizerWrapper(LennardJones(n_atoms=n_atoms), options={\"maxiter\":1})\n",
    "env_callable = lambda : MinimizerWrapper(Rastrigin(shape=shape), options={\"maxiter\":5})\n",
    "model_callable = lambda x: BestCompasJump(shape=shape, scale=0.5)#, recombination=0.7, mutation=0.8)#RandomNormal(x, low=-2, high=2, loc=0, scale=5)"
   ]
  },
  {
   "cell_type": "code",
   "execution_count": 5,
   "metadata": {},
   "outputs": [
    {
     "name": "stdout",
     "output_type": "stream",
     "text": [
      "\n",
      "Best reward found: 0.0029 , Critic: <fragile.optimize.critic.GaussianRepulssion object at 0x7f850f118470>\n",
      "Walkers iteration 161 Best reward: 69.05 Dead walkers: 0.00% Cloned: 0.00%\n",
      "\n",
      "Walkers States: \n",
      "id_walkers shape (100,) Mean: 0.000, Std: 0.000, Max: 0.000 Min: 0.000\n",
      "compas_dist shape (100,) Mean: 49.500, Std: 28.866, Max: 99.000 Min: 0.000\n",
      "compas_clone shape (100,) Mean: 49.500, Std: 28.866, Max: 99.000 Min: 0.000\n",
      "processed_rewards shape (100,) Mean: 1.062, Std: 0.563, Max: 1.985 Min: 0.046\n",
      "virtual_rewards shape (100,) Mean: 0.759, Std: 0.555, Max: 3.198 Min: 0.025\n",
      "cum_rewards shape (100,) Mean: 25.629, Std: 14.077, Max: 69.047 Min: 2.006\n",
      "distances shape (100,) Mean: 1.017, Std: 0.589, Max: 2.316 Min: 0.045\n",
      "clone_probs shape (100,) Mean: 0.000, Std: 0.000, Max: 0.000 Min: 0.000\n",
      "will_clone shape (100,) Mean: 0.000, Std: 0.000, Max: 0.000 Min: 0.000\n",
      "alive_mask shape (100,) Mean: 1.000, Std: 0.000, Max: 1.000 Min: 1.000\n",
      "end_condition shape (100,) Mean: 0.000, Std: 0.000, Max: 0.000 Min: 0.000\n",
      "best_reward_found shape None Mean: nan, Std: nan, Max: nan Min: nan\n",
      "best_found shape (5,) Mean: 0.001, Std: 0.001, Max: 0.004 Min: -0.000\n",
      "critic_score shape (100,) Mean: 0.971, Std: 0.566, Max: 2.800 Min: 0.274\n",
      "\n",
      "Env States: \n",
      "rewards shape (100,) Mean: 25.629, Std: 14.077, Max: 69.047 Min: 2.006\n",
      "ends shape (100,) Mean: 0.000, Std: 0.000, Max: 0.000 Min: 0.000\n",
      "\n",
      "Model States: \n",
      "actions shape (100, 5) Mean: -0.025, Std: 0.496, Max: 1.489 Min: -1.804\n",
      "\n",
      "\n"
     ]
    }
   ],
   "source": [
    "mapper = Swarm(env=env_callable, model=model_callable, n_walkers=100, max_iters=100000,\n",
    "                   minimize=True, accumulate_rewards=False, critic=GaussianRepulssion())\n",
    "\n",
    "mapper.run_swarm(print_every=10)"
   ]
  },
  {
   "cell_type": "code",
   "execution_count": 9,
   "metadata": {},
   "outputs": [
    {
     "data": {
      "text/plain": [
       "array([-12.60940802, -10.94891619,  -9.72791225, -12.90168101,\n",
       "        -9.2432908 ,  -9.38747037, -11.00095843, -10.30407836,\n",
       "       -11.36311197, -13.2918649 ,  -9.34826605, -11.86110714,\n",
       "       -12.22812698, -14.09439136, -11.89482829, -11.00054561,\n",
       "       -10.70217955, -12.40683115, -12.30993239, -10.14996354,\n",
       "       -13.80858072, -10.09420406, -10.44994274, -15.5179703 ,\n",
       "       -13.29757544, -10.55795645,  -9.36053242, -13.83674538,\n",
       "       -12.01851799,  -9.96813674, -15.76099088, -11.60415449,\n",
       "        -9.71671757, -10.43236916,  -9.66406118, -11.03160403,\n",
       "       -10.44416369, -11.02555209, -10.38355805, -14.72249007,\n",
       "       -11.01013568, -10.21309652, -11.78558409, -12.33105744,\n",
       "       -10.18748926, -14.02790476, -12.27256256, -10.597157  ,\n",
       "       -12.86659724,  -9.20345266, -10.92259566, -10.82889961,\n",
       "       -11.63003829, -13.22968625,  -9.78601615, -11.16322688,\n",
       "       -14.07881596, -14.51349142, -13.22955115,  -9.15769261,\n",
       "       -10.57717017,  -9.18282341,  -9.4411613 ,  -9.86722953,\n",
       "       -14.46097945, -14.87989911,  -9.71673452, -10.83796871,\n",
       "       -12.32587398, -10.96134028,  -9.47497087,  -9.34407036,\n",
       "       -11.62484936, -12.42635693, -10.0192594 ,  -9.00706918,\n",
       "       -14.30053027, -16.60237937, -11.41612178,  -9.51767814,\n",
       "       -15.45948051, -18.49225296,  -9.8019244 , -14.08991453,\n",
       "       -13.55228854, -13.45338172,  -9.65655804, -18.0534492 ,\n",
       "       -11.62398971, -11.2319811 , -10.21936216, -12.2900809 ,\n",
       "       -11.73341341, -10.17708358, -10.39215459, -11.30506341,\n",
       "       -10.13987549, -10.40615117,  -9.42801671,  -8.94711821])"
      ]
     },
     "execution_count": 9,
     "metadata": {},
     "output_type": "execute_result"
    }
   ],
   "source": [
    "probs = mapper.critic.kde.score_samples(mapper.walkers.env_states.observs)\n",
    "probs"
   ]
  },
  {
   "cell_type": "code",
   "execution_count": 15,
   "metadata": {},
   "outputs": [
    {
     "data": {
      "text/plain": [
       "0.33071891388307384"
      ]
     },
     "execution_count": 15,
     "metadata": {},
     "output_type": "execute_result"
    }
   ],
   "source": [
    "np.sqrt(7 / 64)"
   ]
  },
  {
   "cell_type": "code",
   "execution_count": 13,
   "metadata": {},
   "outputs": [
    {
     "data": {
      "text/plain": [
       "DeviceArray([3.97982788], dtype=float32)"
      ]
     },
     "execution_count": 13,
     "metadata": {},
     "output_type": "execute_result"
    }
   ],
   "source": [
    "mapper.env.function(np.array([mapper.best_found]))"
   ]
  },
  {
   "cell_type": "code",
   "execution_count": 14,
   "metadata": {},
   "outputs": [],
   "source": [
    "import numpy as onp"
   ]
  },
  {
   "cell_type": "code",
   "execution_count": 15,
   "metadata": {},
   "outputs": [
    {
     "data": {
      "text/plain": [
       "DeviceArray(45, dtype=int32)"
      ]
     },
     "execution_count": 15,
     "metadata": {},
     "output_type": "execute_result"
    }
   ],
   "source": [
    "onp.sum(np.arange(10))"
   ]
  },
  {
   "cell_type": "code",
   "execution_count": 13,
   "metadata": {},
   "outputs": [
    {
     "ename": "NameError",
     "evalue": "name 'env' is not defined",
     "output_type": "error",
     "traceback": [
      "\u001b[0;31m---------------------------------------------------------------------------\u001b[0m",
      "\u001b[0;31mNameError\u001b[0m                                 Traceback (most recent call last)",
      "\u001b[0;32m<ipython-input-13-b6a55bab8ee9>\u001b[0m in \u001b[0;36m<module>\u001b[0;34m\u001b[0m\n\u001b[0;32m----> 1\u001b[0;31m \u001b[0mstate\u001b[0m\u001b[0;34m,\u001b[0m \u001b[0mobs\u001b[0m \u001b[0;34m=\u001b[0m \u001b[0menv\u001b[0m\u001b[0;34m.\u001b[0m\u001b[0mreset\u001b[0m\u001b[0;34m(\u001b[0m\u001b[0;34m)\u001b[0m\u001b[0;34m\u001b[0m\u001b[0;34m\u001b[0m\u001b[0m\n\u001b[0m\u001b[1;32m      2\u001b[0m \u001b[0;34m\u001b[0m\u001b[0m\n\u001b[1;32m      3\u001b[0m \u001b[0mstates\u001b[0m \u001b[0;34m=\u001b[0m \u001b[0;34m[\u001b[0m\u001b[0mstate\u001b[0m\u001b[0;34m.\u001b[0m\u001b[0mcopy\u001b[0m\u001b[0;34m(\u001b[0m\u001b[0;34m)\u001b[0m \u001b[0;32mfor\u001b[0m \u001b[0m_\u001b[0m \u001b[0;32min\u001b[0m \u001b[0mrange\u001b[0m\u001b[0;34m(\u001b[0m\u001b[0;36m10\u001b[0m\u001b[0;34m)\u001b[0m\u001b[0;34m]\u001b[0m\u001b[0;34m\u001b[0m\u001b[0;34m\u001b[0m\u001b[0m\n\u001b[1;32m      4\u001b[0m \u001b[0mactions\u001b[0m \u001b[0;34m=\u001b[0m \u001b[0;34m[\u001b[0m\u001b[0menv\u001b[0m\u001b[0;34m.\u001b[0m\u001b[0maction_space\u001b[0m\u001b[0;34m.\u001b[0m\u001b[0msample\u001b[0m\u001b[0;34m(\u001b[0m\u001b[0;34m)\u001b[0m \u001b[0;32mfor\u001b[0m \u001b[0m_\u001b[0m \u001b[0;32min\u001b[0m \u001b[0mrange\u001b[0m\u001b[0;34m(\u001b[0m\u001b[0;36m10\u001b[0m\u001b[0;34m)\u001b[0m\u001b[0;34m]\u001b[0m\u001b[0;34m\u001b[0m\u001b[0;34m\u001b[0m\u001b[0m\n\u001b[1;32m      5\u001b[0m \u001b[0;34m\u001b[0m\u001b[0m\n",
      "\u001b[0;31mNameError\u001b[0m: name 'env' is not defined"
     ]
    }
   ],
   "source": [
    "state, obs = env.reset()\n",
    "\n",
    "states = [state.copy() for _ in range(10)]\n",
    "actions = [env.action_space.sample() for _ in range(10)]\n",
    "\n",
    "data = env.step_batch(states=states, actions=actions)\n",
    "new_states, observs, rewards, ends, infos = data"
   ]
  },
  {
   "cell_type": "code",
   "execution_count": null,
   "metadata": {},
   "outputs": [],
   "source": []
  },
  {
   "cell_type": "code",
   "execution_count": null,
   "metadata": {},
   "outputs": [],
   "source": []
  },
  {
   "cell_type": "code",
   "execution_count": null,
   "metadata": {},
   "outputs": [],
   "source": []
  },
  {
   "cell_type": "code",
   "execution_count": null,
   "metadata": {},
   "outputs": [],
   "source": []
  },
  {
   "cell_type": "code",
   "execution_count": null,
   "metadata": {},
   "outputs": [],
   "source": []
  }
 ],
 "metadata": {
  "kernelspec": {
   "display_name": "Python 3",
   "language": "python",
   "name": "python3"
  },
  "language_info": {
   "codemirror_mode": {
    "name": "ipython",
    "version": 3
   },
   "file_extension": ".py",
   "mimetype": "text/x-python",
   "name": "python",
   "nbconvert_exporter": "python",
   "pygments_lexer": "ipython3",
   "version": "3.6.8"
  }
 },
 "nbformat": 4,
 "nbformat_minor": 2
}
