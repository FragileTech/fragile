{
 "cells": [
  {
   "cell_type": "markdown",
   "metadata": {},
   "source": [
    "# Visualizing a `Swarm`"
   ]
  },
  {
   "cell_type": "markdown",
   "metadata": {},
   "source": [
    "It is possible to visualize the evolution of an algorithm run using the `dataviz` module. This module allows to stream data to `holoviews` plots during a run of the algorithm.\n",
    "\n",
    "This example will cover several classes that allow to plot different kinds of visualizations. In order to visualize a `Swarm` in the `jupyter notebook` the first thing we need to do is loading the `holoviews` extension for `bokeh`."
   ]
  },
  {
   "cell_type": "code",
   "execution_count": null,
   "metadata": {},
   "outputs": [],
   "source": [
    "import holoviews\n",
    "from fragile.core.utils import remove_notebook_margin\n",
    "from fragile.dataviz import AtariViz, LandscapeViz, Summary, SwarmViz, SwarmViz1D\n",
    "holoviews.extension(\"bokeh\")\n",
    "remove_notebook_margin()  # Make the output cell wider"
   ]
  },
  {
   "cell_type": "markdown",
   "metadata": {},
   "source": [
    "All the visualization classes wrap a `Swarm` to handle all the data streaming and visualization logic for plotting the `Swarm`'s data.\n",
    "\n",
    "\n",
    "We will start initializing a Swarm like we did in the last tutorial. We are not focusing on the performance of the sampling, but using the swarm just to create the visualizations."
   ]
  },
  {
   "cell_type": "code",
   "execution_count": null,
   "metadata": {},
   "outputs": [],
   "source": [
    "from fragile.core import NormalContinuous\n",
    "from fragile.optimize import FunctionMapper\n",
    "from fragile.optimize.benchmarks import EggHolder\n",
    "\n",
    "def gaussian_model(env):\n",
    "    # Gaussian of mean 0 and std of 10, adapted to the environment bounds\n",
    "    return NormalContinuous(scale=10, loc=0., bounds=env.bounds)\n",
    "swarm = FunctionMapper(env=EggHolder,\n",
    "                       model=gaussian_model,\n",
    "                       n_walkers=300,\n",
    "                       max_iters=750,\n",
    "                       start_same_pos=True,\n",
    "                      )"
   ]
  },
  {
   "cell_type": "markdown",
   "metadata": {},
   "source": [
    "## Summary visualization"
   ]
  },
  {
   "cell_type": "markdown",
   "metadata": {},
   "source": [
    "This is the simplest and fastest visualization, and it includes a table with information about the current iteration of the `Swarm`, the best score achieved, and the percentages of deaths and clones.\n",
    "\n",
    "To initialize it you only have to wrap the `Swarm` you want to visualize."
   ]
  },
  {
   "cell_type": "code",
   "execution_count": null,
   "metadata": {},
   "outputs": [],
   "source": [
    "summary = Summary(swarm)"
   ]
  },
  {
   "cell_type": "markdown",
   "metadata": {},
   "source": [
    "Once the class is initialized, you need to call the `plot` function to initialize the plots and create the `holoviews.DynamicMap` that will plot the data streamed during the algorithm run."
   ]
  },
  {
   "cell_type": "code",
   "execution_count": null,
   "metadata": {},
   "outputs": [],
   "source": [
    "summary.plot()"
   ]
  },
  {
   "cell_type": "code",
   "execution_count": null,
   "metadata": {},
   "outputs": [],
   "source": [
    "summary.run()"
   ]
  },
  {
   "cell_type": "markdown",
   "metadata": {},
   "source": [
    "## Histogram visualizations"
   ]
  },
  {
   "cell_type": "markdown",
   "metadata": {},
   "source": [
    "The `SwarmViz1d` can be used in any kind of `Swarm`, and it allows to display no only the summary table and the reward evolution curve, but also histograms for the reward, distance, and virtual reward distributions of the walkers.\n",
    "\n",
    "Using the `stream_interval` parameter you can choose the number of iterations that will pass before the data is streamed to the plot. Data is streamed every 100 iterations by default. "
   ]
  },
  {
   "cell_type": "code",
   "execution_count": null,
   "metadata": {},
   "outputs": [],
   "source": [
    "swarm_viz_1d = SwarmViz1D(swarm, stream_interval=25)"
   ]
  },
  {
   "cell_type": "code",
   "execution_count": null,
   "metadata": {},
   "outputs": [],
   "source": [
    "swarm_viz_1d.plot()"
   ]
  },
  {
   "cell_type": "code",
   "execution_count": null,
   "metadata": {},
   "outputs": [],
   "source": [
    "swarm_viz_1d.run()"
   ]
  },
  {
   "cell_type": "markdown",
   "metadata": {},
   "source": [
    "## 2D Visualizations"
   ]
  },
  {
   "cell_type": "markdown",
   "metadata": {},
   "source": [
    "It is also possible to visualize the walkers' properties using two dimensional plots. These plots come specially in handy if you are using two dimensional embeddings of your state space, but the can also be applied to visualize the first two dimensions of the sampled state space.\n",
    "\n",
    "The `LandscapeViz` incorporates visualizations of the walkers distribution, the rewards, the virtual reward and the distance function. This is done by interpolating the values of the walkers to create a grid, where the target value will be displayed using a colormap."
   ]
  },
  {
   "cell_type": "code",
   "execution_count": null,
   "metadata": {},
   "outputs": [],
   "source": [
    "landscape_viz = LandscapeViz(swarm, stream_interval=25)"
   ]
  },
  {
   "cell_type": "code",
   "execution_count": null,
   "metadata": {},
   "outputs": [],
   "source": [
    "%%opts QuadMesh {+framewise} Bivariate {+framewise}\n",
    "# Opts is necessary to avoid erratic behaviour when creating big DynamicMaps\n",
    "landscape_viz.plot()"
   ]
  },
  {
   "cell_type": "code",
   "execution_count": null,
   "metadata": {},
   "outputs": [],
   "source": [
    "landscape_viz.run()"
   ]
  },
  {
   "cell_type": "markdown",
   "metadata": {},
   "source": [
    "## Plotting 2D distributions and histograms"
   ]
  },
  {
   "cell_type": "markdown",
   "metadata": {},
   "source": [
    "The `SwarmViz` class incorporated all the distributions presented above. All the `dataviz` classes allow you to select the visualizations you want to display by passing a list of their names to the `display_plots` parameter.\n",
    "\n",
    "Passing **\"all\"** as a parameter will display all the available visualizations. If you want to find out what are the available visualizations for a given class you can call the `PLOT_NAMES` attribute of the class."
   ]
  },
  {
   "cell_type": "code",
   "execution_count": null,
   "metadata": {},
   "outputs": [],
   "source": [
    "SwarmViz.PLOT_NAMES"
   ]
  },
  {
   "cell_type": "code",
   "execution_count": null,
   "metadata": {},
   "outputs": [],
   "source": [
    "swarm_viz = SwarmViz(swarm, stream_interval=25, display_plots=\"all\")"
   ]
  },
  {
   "cell_type": "code",
   "execution_count": null,
   "metadata": {},
   "outputs": [],
   "source": [
    "%%opts QuadMesh {+framewise} Bivariate {+framewise}\n",
    "swarm_viz.plot()"
   ]
  },
  {
   "cell_type": "code",
   "execution_count": null,
   "metadata": {},
   "outputs": [],
   "source": [
    "swarm_viz.run()"
   ]
  },
  {
   "cell_type": "markdown",
   "metadata": {},
   "source": [
    "## Visualizing Atari games"
   ]
  },
  {
   "cell_type": "markdown",
   "metadata": {},
   "source": [
    "The `AtariViz` class includes all the plots that can help visualize the sampling process of an Atari game. On top of the visualizations available on the `SwarmViz1d` class, it allows to display the frame of the best state sampled."
   ]
  },
  {
   "cell_type": "code",
   "execution_count": null,
   "metadata": {},
   "outputs": [],
   "source": [
    "from fragile.dataviz import AtariViz"
   ]
  },
  {
   "cell_type": "markdown",
   "metadata": {},
   "source": [
    "We will use the game **Qbert** to show how the `AtariViz` works."
   ]
  },
  {
   "cell_type": "code",
   "execution_count": null,
   "metadata": {},
   "outputs": [],
   "source": [
    "from plangym import AtariEnvironment, ParallelEnvironment\n",
    "from fragile.atari import AtariEnv\n",
    "from fragile.core import DiscreteUniform, GaussianDt, Swarm\n",
    "game_name = \"Qbert-ram-v0\"\n",
    "env = ParallelEnvironment(\n",
    "        env_class=AtariEnvironment,\n",
    "        name=game_name,\n",
    "        clone_seeds=True,\n",
    "        autoreset=True,\n",
    "        blocking=False,\n",
    "    )\n",
    "dt = GaussianDt(min_dt=3, max_dt=1000, loc_dt=4, scale_dt=2)\n",
    "\n",
    "swarm = Swarm(\n",
    "    model=lambda env: DiscreteUniform(env=env, critic=dt),\n",
    "    env=lambda: AtariEnv(env=env),\n",
    "    tree=None,\n",
    "    n_walkers=64,\n",
    "    max_iters=400,\n",
    "    reward_scale=2,\n",
    "    distance_scale=1,\n",
    "    minimize=False,\n",
    ")"
   ]
  },
  {
   "cell_type": "markdown",
   "metadata": {},
   "source": [
    "By default it will display the summary table, the evolution of the best reward sampled and the best frame sampled."
   ]
  },
  {
   "cell_type": "code",
   "execution_count": null,
   "metadata": {},
   "outputs": [],
   "source": [
    "atviz = AtariViz(swarm, stream_interval=10)"
   ]
  },
  {
   "cell_type": "code",
   "execution_count": null,
   "metadata": {},
   "outputs": [],
   "source": [
    "atviz.plot()"
   ]
  },
  {
   "cell_type": "code",
   "execution_count": null,
   "metadata": {},
   "outputs": [],
   "source": [
    "atviz.run()"
   ]
  },
  {
   "cell_type": "markdown",
   "metadata": {},
   "source": [
    "You can display the histograms of the swarm values by passing **\"all\"** to `display_plots`."
   ]
  },
  {
   "cell_type": "code",
   "execution_count": null,
   "metadata": {},
   "outputs": [],
   "source": [
    "atviz = AtariViz(swarm, stream_interval=10, display_plots=\"all\")"
   ]
  },
  {
   "cell_type": "code",
   "execution_count": null,
   "metadata": {},
   "outputs": [],
   "source": [
    "atviz.plot()"
   ]
  },
  {
   "cell_type": "code",
   "execution_count": null,
   "metadata": {},
   "outputs": [],
   "source": [
    "atviz.run()"
   ]
  },
  {
   "cell_type": "code",
   "execution_count": null,
   "metadata": {},
   "outputs": [],
   "source": []
  }
 ],
 "metadata": {
  "kernelspec": {
   "display_name": "Python 3",
   "language": "python",
   "name": "python3"
  },
  "language_info": {
   "codemirror_mode": {
    "name": "ipython",
    "version": 3
   },
   "file_extension": ".py",
   "mimetype": "text/x-python",
   "name": "python",
   "nbconvert_exporter": "python",
   "pygments_lexer": "ipython3",
   "version": "3.7.5"
  }
 },
 "nbformat": 4,
 "nbformat_minor": 2
}
