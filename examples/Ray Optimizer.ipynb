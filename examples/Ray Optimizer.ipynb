{
 "cells": [
  {
   "cell_type": "code",
   "execution_count": null,
   "metadata": {},
   "outputs": [],
   "source": [
    "import ray\n",
    "GB = 1024 * 1024 * 1024\n",
    "ray.init(ignore_reinit_error=True, object_store_memory=2 * GB, num_cpus=4), #memory=2*GB)"
   ]
  },
  {
   "cell_type": "code",
   "execution_count": null,
   "metadata": {},
   "outputs": [],
   "source": [
    "import numpy as np\n",
    "from plangym.ray import ParallelEnvironment\n",
    "\n",
    "from fragile.core.env import DiscreteEnv\n",
    "from fragile.core.models import RandomDiscrete, RandomNormal\n",
    "from fragile.core.states import States\n",
    "from fragile.core.swarm import NoBalance, Swarm\n",
    "from fragile.core.walkers import Walkers\n",
    "\n",
    "from fragile.optimize.env import Function, MinimizerWrapper\n",
    "from fragile.optimize.benchmarks import EggHolder, StyblinskiTang, Sphere, LennardJones, Rastrigin\n",
    "from fragile.optimize.models import ESModel, CompasJump, BestCompasJump\n",
    "from fragile.optimize.swarm import FunctionMapper\n",
    "from fragile.optimize.critic import GaussianRepulssion"
   ]
  },
  {
   "cell_type": "code",
   "execution_count": null,
   "metadata": {},
   "outputs": [],
   "source": [
    "from fragile.ray.swarm import RemoteSwarm, DistributedSwarm, ParamServer\n",
    "from fragile.ray.demos import DistributedOptimizer\n",
    "from fragile.ray.env import Function"
   ]
  },
  {
   "cell_type": "code",
   "execution_count": null,
   "metadata": {},
   "outputs": [],
   "source": [
    "def create_swarm():\n",
    "    n_atoms = 38\n",
    "    n_dims = 6\n",
    "    shape = (3 * n_atoms,) \n",
    "    #shape = (6,)\n",
    "    env_callable = lambda : MinimizerWrapper(LennardJones(n_atoms=n_atoms), options={\"maxiter\":5})\n",
    "    #env_callable = lambda : MinimizerWrapper(Rastrigin(shape=shape), options={\"maxiter\":50})\n",
    "    model_callable = lambda x: ESModel(shape=shape, scale=0.5, recombination=0.7, mutation=0.8)#RandomNormal(x, low=-2, high=2, loc=0, scale=5)\n",
    "    ray_env = lambda : Function(env_callable, n_workers=2)\n",
    "    mapper = Swarm(env=ray_env, model=model_callable, n_walkers=50, max_iters=100000000,\n",
    "                   minimize=True, accumulate_rewards=False, critic=GaussianRepulssion())\n",
    "    return mapper"
   ]
  },
  {
   "cell_type": "code",
   "execution_count": null,
   "metadata": {},
   "outputs": [],
   "source": [
    "rs = DistributedOptimizer(create_swarm, n_swarms=4,\n",
    "                          max_iters_ray=10000, log_every=10, n_comp_add=3,\n",
    "                          n_param_servers=1, minimize=True, init_reward=10,log_reward=False)"
   ]
  },
  {
   "cell_type": "code",
   "execution_count": null,
   "metadata": {},
   "outputs": [],
   "source": [
    "dmap = rs.plot()\n",
    "dmap"
   ]
  },
  {
   "cell_type": "code",
   "execution_count": null,
   "metadata": {},
   "outputs": [],
   "source": [
    "rs.run_swarm()"
   ]
  }
 ],
 "metadata": {
  "kernelspec": {
   "display_name": "Python 3",
   "language": "python",
   "name": "python3"
  },
  "language_info": {
   "codemirror_mode": {
    "name": "ipython",
    "version": 3
   },
   "file_extension": ".py",
   "mimetype": "text/x-python",
   "name": "python",
   "nbconvert_exporter": "python",
   "pygments_lexer": "ipython3",
   "version": "3.6.8"
  }
 },
 "nbformat": 4,
 "nbformat_minor": 2
}
