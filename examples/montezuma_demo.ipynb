{
 "cells": [
  {
   "cell_type": "code",
   "execution_count": null,
   "metadata": {},
   "outputs": [],
   "source": [
    "import numpy as np\n",
    "import warnings\n",
    "warnings.filterwarnings(\"ignore\")\n",
    "from fragile.atari.swarm import MontezumaSwarm\n",
    "import ray\n",
    "ray.init()\n"
   ]
  },
  {
   "cell_type": "code",
   "execution_count": null,
   "metadata": {},
   "outputs": [],
   "source": [
    "x = np.arange(54).reshape(9, 6)\n",
    "grid_indexes = list(np.ndenumerate(x))"
   ]
  },
  {
   "cell_type": "code",
   "execution_count": null,
   "metadata": {
    "scrolled": true
   },
   "outputs": [],
   "source": [
    "#[(j, i) for i in range(10) for j in reversed(range(5))]"
   ]
  },
  {
   "cell_type": "code",
   "execution_count": null,
   "metadata": {},
   "outputs": [],
   "source": [
    "#grid_indexes"
   ]
  },
  {
   "cell_type": "code",
   "execution_count": null,
   "metadata": {},
   "outputs": [],
   "source": [
    "mens = swarm.plot_memories(None)"
   ]
  },
  {
   "cell_type": "code",
   "execution_count": null,
   "metadata": {},
   "outputs": [],
   "source": [
    "mens[1, 0]"
   ]
  },
  {
   "cell_type": "code",
   "execution_count": null,
   "metadata": {},
   "outputs": [],
   "source": [
    "mens"
   ]
  },
  {
   "cell_type": "code",
   "execution_count": null,
   "metadata": {},
   "outputs": [],
   "source": [
    "x"
   ]
  },
  {
   "cell_type": "code",
   "execution_count": null,
   "metadata": {},
   "outputs": [],
   "source": [
    "import holoviews as hv\n",
    "hv.extension(\"bokeh\")\n"
   ]
  },
  {
   "cell_type": "code",
   "execution_count": null,
   "metadata": {},
   "outputs": [],
   "source": [
    "%%HTML\n",
    "<style>\n",
    ".container { width:100% !important; }\n",
    ".input{ width:60% !important;\n",
    "       align: center;\n",
    "      }\n",
    ".text_cell{ width:70% !important;\n",
    "            font-size: 16px;}\n",
    ".title {align:center !important;}\n",
    "</style>\n",
    "\n"
   ]
  },
  {
   "cell_type": "code",
   "execution_count": null,
   "metadata": {
    "scrolled": true
   },
   "outputs": [],
   "source": [
    "swarm = MontezumaSwarm.create_swarm(n_walkers=100,\n",
    "                                    max_iters=10000,\n",
    "                                    prune_tree=True,\n",
    "                                    use_tree=False,\n",
    "                                    reward_scale=4,\n",
    "                                    dist_scale=0.5,\n",
    "                                    plot_step=10,\n",
    "                                    critic_scale=2,\n",
    "                                    episodic_rewad=True,\n",
    "                                    n_workers=8)"
   ]
  },
  {
   "cell_type": "code",
   "execution_count": null,
   "metadata": {},
   "outputs": [],
   "source": [
    "dmap = swarm.plot_dmap()\n",
    "dmap"
   ]
  },
  {
   "cell_type": "code",
   "execution_count": null,
   "metadata": {},
   "outputs": [],
   "source": [
    "swarm.reset()\n",
    "swarm.stream_dmap()"
   ]
  },
  {
   "cell_type": "code",
   "execution_count": null,
   "metadata": {},
   "outputs": [],
   "source": [
    "_ = swarm.run_swarm(print_every=5)"
   ]
  },
  {
   "cell_type": "code",
   "execution_count": null,
   "metadata": {},
   "outputs": [],
   "source": [
    "import holoviews as hv\n",
    "hv.save(swarm.top_row, filename=\"monte_best/image%s.png\" % 0)"
   ]
  },
  {
   "cell_type": "code",
   "execution_count": null,
   "metadata": {},
   "outputs": [],
   "source": [
    "swarm.best_dmap"
   ]
  },
  {
   "cell_type": "code",
   "execution_count": null,
   "metadata": {},
   "outputs": [],
   "source": [
    "import numpy as np\n",
    "from plangym import ParallelEnvironment\n",
    "from plangym.minimal_montezuma import Montezuma\n",
    "#from plangym.montezuma import Montezuma\n",
    "\n",
    "from fragile.core.env import DiscreteEnv\n",
    "from fragile.core.dt_sampler import GaussianDt\n",
    "from fragile.core.models import RandomDiscrete\n",
    "from fragile.core.states import States\n",
    "from fragile.core.swarm import Swarm\n",
    "from fragile.core.walkers import Walkers\n",
    "from fragile.core.tree import HistoryTree\n",
    "from fragile.atari.walkers import MontezumaWalkers\n",
    "from fragile.atari.critics import MontezumaGrid\n",
    "env = ParallelEnvironment(\n",
    "        env_class=Montezuma,\n",
    "        name=None,\n",
    "        autoreset=True,\n",
    "        blocking=False,\n",
    "    episodic_live=True,\n",
    "    min_dt=1,\n",
    "    )\n",
    "dt = GaussianDt(min_dt=3, max_dt=1000, loc_dt=4, scale_dt=2)\n",
    "\n",
    "swarm = Swarm(\n",
    "    model=lambda x: RandomDiscrete(x, dt_sampler=dt),\n",
    "    walkers=MontezumaWalkers,\n",
    "    env=lambda: DiscreteEnv(env),\n",
    "    n_walkers=50,\n",
    "    max_iters=25,\n",
    "    prune_tree=True,\n",
    "    reward_scale=2,\n",
    "    dist_scale=4,\n",
    "    tree=HistoryTree,\n",
    "    critic=MontezumaGrid(),\n",
    "    \n",
    ")\n",
    "\n"
   ]
  },
  {
   "cell_type": "code",
   "execution_count": null,
   "metadata": {},
   "outputs": [],
   "source": [
    "swarm.run_swarm()"
   ]
  },
  {
   "cell_type": "code",
   "execution_count": null,
   "metadata": {},
   "outputs": [],
   "source": [
    "from holoviews.streams import Pipe, Buffer\n",
    "from streamz.dataframe import DataFrame\n",
    "from streamz import Stream\n",
    "import holoviews as hv\n",
    "import hvplot.pandas\n",
    "import hvplot.streamz\n",
    "import numpy as np\n",
    "import pandas as pd\n",
    "hv.extension(\"bokeh\")"
   ]
  }
 ],
 "metadata": {
  "kernelspec": {
   "display_name": "Python 3",
   "language": "python",
   "name": "python3"
  },
  "language_info": {
   "codemirror_mode": {
    "name": "ipython",
    "version": 3
   },
   "file_extension": ".py",
   "mimetype": "text/x-python",
   "name": "python",
   "nbconvert_exporter": "python",
   "pygments_lexer": "ipython3",
   "version": "3.6.9"
  }
 },
 "nbformat": 4,
 "nbformat_minor": 2
}
